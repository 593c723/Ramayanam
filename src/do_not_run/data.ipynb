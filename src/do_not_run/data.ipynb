{
 "cells": [
  {
   "cell_type": "code",
   "execution_count": 3,
   "metadata": {},
   "outputs": [],
   "source": [
    "import pandas as pd\n",
    "import re"
   ]
  },
  {
   "cell_type": "markdown",
   "metadata": {},
   "source": [
    "DON'T RUN THIS!!    "
   ]
  },
  {
   "cell_type": "code",
   "execution_count": 38,
   "metadata": {},
   "outputs": [
    {
     "data": {
      "text/plain": [
       "<_io.TextIOWrapper name='d.txt' mode='r' encoding='utf-8'>"
      ]
     },
     "execution_count": 38,
     "metadata": {},
     "output_type": "execute_result"
    }
   ],
   "source": [
    "file = open(\"d.txt\", 'r', encoding = 'utf-8')\n",
    "file"
   ]
  },
  {
   "cell_type": "code",
   "execution_count": 39,
   "metadata": {},
   "outputs": [],
   "source": [
    "data = file.readlines()\n"
   ]
  },
  {
   "cell_type": "code",
   "execution_count": 40,
   "metadata": {},
   "outputs": [
    {
     "data": {
      "text/html": [
       "<div>\n",
       "<style scoped>\n",
       "    .dataframe tbody tr th:only-of-type {\n",
       "        vertical-align: middle;\n",
       "    }\n",
       "\n",
       "    .dataframe tbody tr th {\n",
       "        vertical-align: top;\n",
       "    }\n",
       "\n",
       "    .dataframe thead th {\n",
       "        text-align: right;\n",
       "    }\n",
       "</style>\n",
       "<table border=\"1\" class=\"dataframe\">\n",
       "  <thead>\n",
       "    <tr style=\"text-align: right;\">\n",
       "      <th></th>\n",
       "      <th>Text</th>\n",
       "    </tr>\n",
       "  </thead>\n",
       "  <tbody>\n",
       "    <tr>\n",
       "      <th>0</th>\n",
       "      <td>Praise to Válmíki,(2)bird of charming song,(3)</td>\n",
       "    </tr>\n",
       "    <tr>\n",
       "      <th>1</th>\n",
       "      <td>Who mounts on Poesy's sublimest spray,</td>\n",
       "    </tr>\n",
       "    <tr>\n",
       "      <th>2</th>\n",
       "      <td>And sweetly sings with accent clear and strong</td>\n",
       "    </tr>\n",
       "    <tr>\n",
       "      <th>3</th>\n",
       "      <td>Ráma, aye Ráma, in his deathless lay.</td>\n",
       "    </tr>\n",
       "    <tr>\n",
       "      <th>4</th>\n",
       "      <td>Where breathes the man can listen to the strain</td>\n",
       "    </tr>\n",
       "  </tbody>\n",
       "</table>\n",
       "</div>"
      ],
      "text/plain": [
       "                                              Text\n",
       "0   Praise to Válmíki,(2)bird of charming song,(3)\n",
       "1           Who mounts on Poesy's sublimest spray,\n",
       "2   And sweetly sings with accent clear and strong\n",
       "3            Ráma, aye Ráma, in his deathless lay.\n",
       "4  Where breathes the man can listen to the strain"
      ]
     },
     "execution_count": 40,
     "metadata": {},
     "output_type": "execute_result"
    }
   ],
   "source": [
    "\n",
    "d = pd.read_csv(\".csv\", encoding='latin-1')\n",
    "d.head()"
   ]
  },
  {
   "cell_type": "code",
   "execution_count": 41,
   "metadata": {},
   "outputs": [],
   "source": [
    "\n",
    "dict_list = []\n",
    "chaps = []\n",
    "for i in data:\n",
    "    # print(i.strip())\n",
    "    inst = [m.start() for m in re.finditer('Canto', i)]\n",
    "    if len(inst) != 0 and inst[0] == 0:\n",
    "        # print(i, inst)\n",
    "        chaps.append(i.strip())\n",
    "# chaps"
   ]
  },
  {
   "cell_type": "code",
   "execution_count": 42,
   "metadata": {},
   "outputs": [
    {
     "data": {
      "text/plain": [
       "495"
      ]
     },
     "execution_count": 42,
     "metadata": {},
     "output_type": "execute_result"
    }
   ],
   "source": [
    "chaps.insert(0, \"Invocation\")\n",
    "len(chaps)"
   ]
  },
  {
   "cell_type": "code",
   "execution_count": 61,
   "metadata": {},
   "outputs": [
    {
     "data": {
      "text/plain": [
       "['Invocation',\n",
       " 'Canto I. Nárad.(7)',\n",
       " \"Canto II. Brahmá's Visit\",\n",
       " 'Canto III. The Argument.',\n",
       " 'Canto IV. The Rhapsodists.',\n",
       " 'Canto V. Ayodhyá.',\n",
       " 'Canto VI. The King.',\n",
       " 'Canto VII. The Ministers.',\n",
       " \"Canto VIII. Sumantra's Speech.\",\n",
       " 'Canto IX. Rishyasring.',\n",
       " 'Canto X. Rishyasring Invited.',\n",
       " 'Canto XI. The Sacrifice Decreed.',\n",
       " 'Canto XII. The Sacrifice Begun.',\n",
       " 'Canto XIII. The Sacrifice Finished.',\n",
       " 'Canto XIV. Rávan Doomed.',\n",
       " 'Canto XV. The Nectar.',\n",
       " 'Canto XVI. The Vánars.',\n",
       " \"Canto XVII. Rishyasring's Return.\",\n",
       " \"Canto XVIII. Rishyasring's Departure.\",\n",
       " 'Canto XIX. The Birth Of The Princes.',\n",
       " \"Canto XX. Visvámitra's Visit.\",\n",
       " \"Canto XXI. Visvámitra's Speech.\",\n",
       " \"Canto XXII. Dasaratha's Speech.\",\n",
       " \"Canto XXIII. Vasishtha's Speech.\",\n",
       " 'Canto XXIV. The Spells.',\n",
       " 'Canto XXV. The Hermitage Of Love.',\n",
       " 'Canto XXVI. The Forest Of Tádaká.',\n",
       " 'Canto XXVII. The Birth Of Tádaká.',\n",
       " 'Canto XXVIII. The Death Of Tádaká.',\n",
       " 'Canto XXIX. The Celestial Arms.',\n",
       " 'Canto XXX. The Mysterious Powers.(166)',\n",
       " 'Canto XXXI. The Perfect Hermitage.',\n",
       " \"Canto XXXII. Visvámitra's Sacrifice.\",\n",
       " 'Canto XXXIII. The Sone.',\n",
       " 'Canto XXXIV. Brahmadatta.',\n",
       " \"Canto XXXV. Visvámitra's Lineage.\",\n",
       " 'Canto XXXVI. The Birth Of Gangá.',\n",
       " 'Canto XXXIX. The Sons Of Sagar.',\n",
       " 'Canto XL. The Cleaving Of The Earth.',\n",
       " 'Canto XLI. Kapil.',\n",
       " \"Canto XLII. Sagar's Sacrifice.\",\n",
       " 'Canto XLIII. Bhagírath.',\n",
       " 'Canto XLIV. The Descent Of Gangá.',\n",
       " 'Canto XLV. The Quest Of The Amrit.',\n",
       " \"Canto XLVI. Diti's Hope.\",\n",
       " 'Canto XLVII. Sumati.',\n",
       " 'Canto XLVIII. Indra And Ahalyá',\n",
       " 'Canto XLIX. Ahalyá Freed.',\n",
       " 'Canto L. Janak.',\n",
       " 'Canto LI. Visvámitra.',\n",
       " \"Canto LII. Vasishtha's Feast.\",\n",
       " \"Canto LIII. Visvámitra's Request.\",\n",
       " 'Canto LIV. The Battle.',\n",
       " 'Canto LV. The Hermitage Burnt.',\n",
       " \"Canto LVI. Visvámitra's Vow.\",\n",
       " 'Canto LVII. Trisanku.',\n",
       " 'Canto LVIII. Trisanku Cursed.',\n",
       " 'Canto LIX. The Sons Of Vasishtha.',\n",
       " \"Canto LX. Trisanku's Ascension.\",\n",
       " 'Canto LXI. Sunahsepha.',\n",
       " \"Canto LXII. Ambarísha's Sacrifice.\",\n",
       " 'Canto LXIII. Menaká.',\n",
       " 'Canto LXIV. Rambhá.',\n",
       " \"Canto LXV. Visvámitra's Triumph\",\n",
       " \"Canto LXVI. Janak's Speech.\",\n",
       " 'Canto LXVII. The Breaking Of The Bow.',\n",
       " \"Canto LXVIII. The Envoys' Speech.\",\n",
       " \"Canto LXIX. Dasaratha's Visit.\",\n",
       " 'Canto LXX. The Maidens Sought.',\n",
       " \"Canto LXXI. Janak's Pedigree.\",\n",
       " 'Canto LXXII. The Gift Of Kine.',\n",
       " 'Canto LXXIII. The Nuptials.',\n",
       " 'Canto LXXIV. Ráma With The Axe.(254)',\n",
       " 'Canto LXXV. The Parle.',\n",
       " 'Canto LXXVI. Debarred From Heaven.',\n",
       " \"Canto LXXVII. Bharat's Departure.\",\n",
       " 'Canto I. The Heir Apparent.',\n",
       " \"Canto II. The People's Speech.\",\n",
       " \"Canto III. Dasaratha's Precepts.\",\n",
       " 'Canto IV. Ráma Summoned.',\n",
       " \"Canto V. Ráma's Fast.\",\n",
       " 'Canto VI. The City Decorated.',\n",
       " \"Canto VII. Manthará's Lament.\",\n",
       " \"Canto VIII. Manthará's Speech.\",\n",
       " 'Canto IX. The Plot.',\n",
       " \"Canto X. Dasaratha's Speech.\",\n",
       " \"Canto XI. The Queen's Demand.\",\n",
       " \"Canto XII. Dasaratha's Lament.\",\n",
       " \"Canto XIII. Dasaratha's Distress.\",\n",
       " 'Canto XIV. Ráma Summoned.',\n",
       " 'Canto XV. The Preparations.',\n",
       " 'Canto XVI. Ráma Summoned.',\n",
       " \"Canto XVII. Ráma's Approach.\",\n",
       " 'Canto XVIII. The Sentence.',\n",
       " \"Canto XIX. Ráma's Promise.\",\n",
       " \"Canto XX. Kausalyá's Lament.\",\n",
       " 'Canto XXI. Kausalyá Calmed.',\n",
       " 'Canto XXII. Lakshman Calmed.',\n",
       " \"Canto XXIII. Lakshman's Anger.\",\n",
       " 'Canto XXIV. Kausalyá Calmed.',\n",
       " \"Canto XXV. Kausalyá's Blessing.\",\n",
       " 'Canto XXVI. Alone With Sítá.',\n",
       " \"Canto XXVII. Sítá's Speech.\",\n",
       " 'Canto XXVIII. The Dangers Of The Wood.',\n",
       " \"Canto XXIX. Sítá's Appeal.\",\n",
       " 'Canto XXX. The Triumph Of Love.',\n",
       " \"Canto XXXI. Lakshman's Prayer.\",\n",
       " 'Canto XXXII. The Gift Of The Treasures.',\n",
       " \"Canto XXXIII. The People's Lament.\",\n",
       " 'Canto XXXIV. Ráma In The Palace.',\n",
       " 'Canto XXXV. Kaikeyí Reproached.',\n",
       " \"Canto XXXVI. Siddhárth's Speech.\",\n",
       " 'Canto XXXVII. The Coats Of Bark.',\n",
       " 'Canto XXXVIII. Care For Kausalyá',\n",
       " 'Canto XXXIX. Counsel To Sítá.',\n",
       " \"Canto XL. Ráma's Departure.\",\n",
       " \"Canto XLI. The Citizens' Lament.\",\n",
       " \"Canto XLII. Dasaratha's Lament.\",\n",
       " \"Canto XLIII. Kausalyá's Lament.\",\n",
       " \"Canto XLIV. Sumitrá's Speech.\",\n",
       " 'Canto XLV. The Tamasá.',\n",
       " 'Canto XLVI. The Halt.',\n",
       " \"Canto XLVII. The Citizens' Return.\",\n",
       " \"Canto XLVIII. The Women's Lament.\",\n",
       " 'Canto XLIX. The Crossing Of The Rivers.',\n",
       " 'Canto L. The Halt Under The Ingudí.(322)',\n",
       " \"Canto LI. Lakshman's Lament.\",\n",
       " 'Canto LII. The Crossing Of Gangá.',\n",
       " \"Canto LIII. Ráma's Lament.\",\n",
       " \"Canto LIV. Bharadvája's Hermitage.\",\n",
       " 'Canto LV. The Passage Of Yamuná.',\n",
       " 'Canto LVI. Chitrakúta',\n",
       " \"Canto LVII. Sumantra's Return.\",\n",
       " \"Canto LVIII. Ráma's Message.\",\n",
       " \"Canto LIX. Dasaratha's Lament.\",\n",
       " 'Canto LX. Kausalyá Consoled.',\n",
       " \"Canto LXI. Kausalyá's Lament.\",\n",
       " 'Canto LXII. Dasaratha Consoled.',\n",
       " \"Canto LXIII. The Hermit's Son.\",\n",
       " \"Canto LXIV. Dasaratha's Death.\",\n",
       " \"Canto LXV. The Women's Lament.\",\n",
       " 'Canto LXVI. The Embalming.',\n",
       " 'Canto LXVII. The Praise Of Kings.',\n",
       " 'Canto LXVIII. The Envoys.',\n",
       " \"Canto LXIX. Bharat's Dream.\",\n",
       " \"Canto LXX. Bharat's Departure.\",\n",
       " \"Canto LXXI. Bharat's Return.\",\n",
       " \"Canto LXXII. Bharat's Inquiry.\",\n",
       " 'Canto LXXIII. Kaikeyí Reproached.',\n",
       " \"Canto LXXIV. Bharat's Lament.\",\n",
       " 'Canto LXXV. The Abjuration.',\n",
       " 'Canto LXXVI. The Funeral.',\n",
       " 'Canto LXXVII. The Gathering Of The Ashes.',\n",
       " 'Canto LXXVIII. Manthará Punished.',\n",
       " \"Canto LXXIX. Bharat's Commands.\",\n",
       " 'Canto LXXX. The Way Prepared.',\n",
       " 'Canto LXXXI. The Assembly.',\n",
       " 'Canto LXXXII. The Departure.',\n",
       " 'Canto LXXXIII. The Journey Begun.',\n",
       " \"Canto LXXXIV. Guha's Anger.\",\n",
       " 'Canto LXXXV. Guha And Bharat.',\n",
       " \"Canto LXXXVI. Guha's Speech.\",\n",
       " \"Canto LXXXVII. Guha's Story.\",\n",
       " 'Canto LXXXVIII. The Ingudí Tree.',\n",
       " 'Canto LXXXIX. The Passage Of Gangá.',\n",
       " 'Canto XC. The Hermitage.',\n",
       " \"Canto XCI. Bharadvája's Feast.\",\n",
       " \"Canto XCII. Bharat's Farewell.\",\n",
       " 'Canto XCIII. Chitrakúta In Sight.',\n",
       " 'Canto XCIV. Chitrakúta.',\n",
       " 'Canto XCV. Mandákiní.',\n",
       " 'Canto XCVI. The Magic Shaft.(374)',\n",
       " \"Canto XCVII. Lakshman's Anger.\",\n",
       " 'Canto XCVIII. Lakshman Calmed.',\n",
       " \"Canto XCIX. Bharat's Approach.\",\n",
       " 'Canto C. The Meeting.',\n",
       " 'Canto CI. Bharata Questioned.',\n",
       " \"Canto CII. Bharat's Tidings.\",\n",
       " 'Canto CIII. The Funeral Libation.',\n",
       " 'Canto CIV. The Meeting With The Queens.',\n",
       " \"Canto CV. Ráma's Speech.\",\n",
       " \"Canto CVI. Bharat's Speech.\",\n",
       " \"Canto CVII. Ráma's Speech.\",\n",
       " \"Canto CVIII. Jáváli's Speech.\",\n",
       " 'Canto CIX. The Praises Of Truth.',\n",
       " 'Canto CX. The Sons Of Ikshváku.(389)',\n",
       " 'Canto CXI. Counsel To Bharat.',\n",
       " 'Canto CXII. The Sandals.',\n",
       " \"Canto CXIII. Bharat's Return.\",\n",
       " \"Canto CXIV. Bharat's Departure.\",\n",
       " 'Canto CXV. Nandigrám.(398)',\n",
       " \"Canto CXVI. The Hermit's Speech.\",\n",
       " 'Canto CXVII. Anasúyá.',\n",
       " \"Canto CXVIII. Anasúyá's Gifts.\",\n",
       " 'Canto CXIX. The Forest.',\n",
       " 'Canto I. The Hermitage.',\n",
       " 'Canto II. Virádha.',\n",
       " 'Canto III. Virádha Attacked.',\n",
       " \"Canto IV. Virádha's Death.\",\n",
       " 'Canto V. Sarabhanga.',\n",
       " \"Canto VI. Ráma's Promise.\",\n",
       " 'Canto VII. Sutíkshna.',\n",
       " 'Canto VIII. The Hermitage.',\n",
       " \"Canto IX. Sítá's Speech.\",\n",
       " \"Canto X. Ráma's Reply.\",\n",
       " 'Canto XI. Agastya.',\n",
       " 'Canto XII. The Heavenly Bow.',\n",
       " \"Canto XIII. Agastya's Counsel.\",\n",
       " 'Canto XIV. Jatáyus.',\n",
       " 'Canto XV. Panchavatí.',\n",
       " 'Canto XVI. Winter.',\n",
       " 'Canto XVII. Súrpanakhá.',\n",
       " 'Canto XVIII. The Mutilation.',\n",
       " 'Canto XIX. The Rousing Of Khara.',\n",
       " \"Canto XX. The Giants' Death.\",\n",
       " 'Canto XXI. The Rousing Of Khara.',\n",
       " \"Canto XXII. Khara's Wrath.\",\n",
       " 'Canto XXIII. The Omens.',\n",
       " 'Canto XXIV. The Host In Sight.',\n",
       " 'Canto XXV. The Battle.',\n",
       " \"Canto XXVI. Dúshan's Death.\",\n",
       " 'Canto XXVII. The Death Of Trisirás.',\n",
       " 'Canto XXVIII. Khara Dismounted.',\n",
       " \"Canto XXIX. Khara's Defeat.\",\n",
       " \"Canto XXX. Khara's Death.\",\n",
       " 'Canto XXXI. Rávan.',\n",
       " 'Canto XXXII. Rávan Roused.',\n",
       " \"Canto XXXIII. Súrpanakhá's Speech.\",\n",
       " \"Canto XXXIV. Súrpanakhá's Speech.\",\n",
       " \"Canto XXXV. Rávan's Journey.\",\n",
       " \"Canto XXXVI. Rávan's Speech.\",\n",
       " \"Canto XXXVII. Márícha's Speech.\",\n",
       " \"Canto XXXVIII. Márícha's Speech.\",\n",
       " \"Canto XXXIX. Márícha's Speech.\",\n",
       " \"Canto XL. Rávan's Speech.\",\n",
       " \"Canto XLI. Márícha's Reply.\",\n",
       " 'Canto XLII. Márícha Transformed.',\n",
       " 'Canto XLIII. The Wondrous Deer.',\n",
       " \"Canto XLIV. Márícha's Death.\",\n",
       " \"Canto XLV. Lakshman's Departure.\",\n",
       " 'Canto XLVI. The Guest.',\n",
       " \"Canto XLVII. Rávan's Wooing.\",\n",
       " \"Canto XLVIII. Rávan's Speech.\",\n",
       " 'Canto XLIX. The Rape Of Sítá.',\n",
       " 'Canto L. Jatáyus.',\n",
       " 'Canto LI. The Combat.',\n",
       " \"Canto LII. Rávan's Flight.\",\n",
       " \"Canto LIII. Sítá's Threats.\",\n",
       " 'Canto LIV. Lanká.',\n",
       " 'Canto LV. Sítá In Prison.',\n",
       " \"Canto LVI. Sítá's Disdain.\",\n",
       " 'Canto LVII. Sítá Comforted.',\n",
       " \"Canto LVIII. The Brothers' Meeting.\",\n",
       " \"Canto LIX. Ráma's Return.\",\n",
       " 'Canto LX. Lakshman Reproved.',\n",
       " \"Canto LXI. Ráma's Lament.\",\n",
       " \"Canto LXII. Ráma's Lament.\",\n",
       " \"Canto LXIII. Ráma's Lament.\",\n",
       " \"Canto LXIV. Ráma's Lament.\",\n",
       " \"Canto LXV. Ráma's Wrath.\",\n",
       " \"Canto LXVI. Lakshman's Speech.\",\n",
       " 'Canto LXVII. Ráma Appeased.',\n",
       " 'Canto LXVIII. Jatáyus.',\n",
       " 'Canto LXIX. The Death Of Jatáyus.',\n",
       " 'Canto LXX. Kabandha.',\n",
       " \"Canto LXXI. Kabandha's Speech.\",\n",
       " \"Canto LXXII. Kabandha's Tale.\",\n",
       " \"Canto LXXIII. Kabandha's Counsel.\",\n",
       " \"Canto LXXIV. Kabandha's Death.\",\n",
       " 'Canto LXXV. Savarí.',\n",
       " 'Canto LXXVI. Pampá.',\n",
       " \"Canto I. Ráma's Lament.\",\n",
       " \"Canto II. Sugríva's Alarm.\",\n",
       " \"Canto III. Hanumán's Speech.\",\n",
       " \"Canto IV. Lakshman's Reply.\",\n",
       " 'Canto V. The League.',\n",
       " 'Canto VI. The Tokens.',\n",
       " 'Canto VII. Ráma Consoled.',\n",
       " \"Canto VIII. Ráma's Promise.\",\n",
       " \"Canto IX. Sugríva's Story.(562)\",\n",
       " \"Canto X. Sugríva's Story.\",\n",
       " 'Canto XI. Dundubhi.',\n",
       " 'Canto XII. The Palm Trees.',\n",
       " 'Canto XIII. The Return To Kishkindhá.',\n",
       " 'Canto XIV. The Challenge.',\n",
       " 'Canto XV. Tárá.',\n",
       " 'Canto XVI. The Fall Of Báli.',\n",
       " \"Canto XVII. Báli's Speech.\",\n",
       " \"Canto XVIII. Ráma's Reply.\",\n",
       " \"Canto XIX. Tárá's Grief.\",\n",
       " \"Canto XX. Tárá's Lament.\",\n",
       " \"Canto XXI. Hanumán's Speech.\",\n",
       " 'Canto XXII. Báli Dead.',\n",
       " \"Canto XXIII. Tárá's Lament.\",\n",
       " \"Canto XXIV. Sugríva's Lament.\",\n",
       " \"Canto XXV. Ráma's Speech.\",\n",
       " 'Canto XXVI. The Coronation.',\n",
       " 'Canto XXVII. Ráma On The Hill.',\n",
       " 'Canto XXVIII. The Rains.',\n",
       " \"Canto XXIX. Hanumán's Counsel.\",\n",
       " \"Canto XXX. Ráma's Lament.\",\n",
       " 'Canto XXXI. The Envoy.',\n",
       " \"Canto XXXII. Hanumán's Counsel.\",\n",
       " \"Canto XXXIII. Lakshman's Entry.\",\n",
       " \"Canto XXXIV. Lakshman's Speech.\",\n",
       " \"Canto XXXV. Tárá's Speech.\",\n",
       " \"Canto XXXVI. Sugríva's Speech.\",\n",
       " 'Canto XXXVII. The Gathering.',\n",
       " \"Canto XXXVIII. Sugríva's Departure.\",\n",
       " 'Canto XXXIX. The Vánar Host.',\n",
       " 'Canto XL. The Army Of The East.',\n",
       " 'Canto XLI. The Army Of The South.',\n",
       " 'Canto XLII. The Army Of The West.',\n",
       " 'Canto XLIII. The Army Of The North.',\n",
       " 'Canto XLIV. The Ring.',\n",
       " 'Canto XLV. The Departure.',\n",
       " \"Canto XLVI. Sugríva's Tale.\",\n",
       " 'Canto XLVII. The Return.',\n",
       " \"Canto XLVIII. The Asur's Death.\",\n",
       " \"Canto XLIX. Angad's Speech.\",\n",
       " 'Canto L. The Enchanted Cave.',\n",
       " 'Canto LI. Svayamprabhá.',\n",
       " 'Canto LII. The Exit.',\n",
       " \"Canto LIII. Angad's Counsel.\",\n",
       " \"Canto LIV. Hanumán's Speech.\",\n",
       " \"Canto LV. Angad's Reply.\",\n",
       " 'Canto LVI. Sampáti.',\n",
       " \"Canto LVII. Angad's Speech.\",\n",
       " 'Canto LVIII. Tidings Of Sítá.',\n",
       " \"Canto LIX. Sampáti's Story.\",\n",
       " \"Canto LX. Sampáti's Story.\",\n",
       " \"Canto LXI. Sampáti's Story.\",\n",
       " \"Canto LXII. Sampáti's Story.\",\n",
       " \"Canto LXIII. Sampáti's Story.\",\n",
       " 'Canto LXIV. The Sea.',\n",
       " 'Canto LXV. The Council.',\n",
       " 'Canto LXVI. Hanumán.',\n",
       " \"Canto LXVII. Hanumán's Speech.\",\n",
       " \"Canto I. Hanumán's Leap.\",\n",
       " 'Canto II. Lanká.',\n",
       " 'Canto III. The Guardian Goddess.',\n",
       " 'Canto IV. Within The City.',\n",
       " 'Canto VI. The Court.',\n",
       " \"Canto VII. Rávan's Palace.\",\n",
       " 'Canto VIII. The Enchanted Car.',\n",
       " \"Canto IX. The Ladies' Bower.\",\n",
       " 'Canto X. Rávan Asleep.',\n",
       " 'Canto XI. The Banquet Hall.',\n",
       " 'Canto XII. The Search Renewed.',\n",
       " 'Canto XIII. Despair And Hope.',\n",
       " 'Canto XIV. The Asoka Grove.',\n",
       " 'Canto XV. Sítá.',\n",
       " \"Canto XVI. Hanumán's Lament.\",\n",
       " \"Canto XVII. Sítá's Guard.\",\n",
       " 'Canto XVIII. Rávan.',\n",
       " \"Canto XIX. Sítá's Fear.\",\n",
       " \"Canto XX. Rávan's Wooing.\",\n",
       " \"Canto XXI. Sítá's Scorn.\",\n",
       " \"Canto XXII. Rávan's Threat.\",\n",
       " \"Canto XXIII. The Demons' Threats.\",\n",
       " \"Canto XXIV. Sítá's Reply.\",\n",
       " \"Canto XXV. Sítá's Lament.\",\n",
       " \"Canto XXVI. Sítá's Lament.\",\n",
       " \"Canto XXVII. Trijatá's Dream.\",\n",
       " \"Canto XXX. Hanumán's Deliberation.\",\n",
       " \"Canto XXXI. Hanumán's Speech.\",\n",
       " \"Canto XXXII. Sítá's Doubt.\",\n",
       " 'Canto XXXIII. The Colloquy.',\n",
       " \"Canto XXXIV. Hanumán's Speech.\",\n",
       " \"Canto XXXV. Hanumán's Speech.\",\n",
       " \"Canto XXXVI. Ráma's Ring.\",\n",
       " \"Canto XXXVII. Sítá's Speech.\",\n",
       " \"Canto XXXVIII. Sítá's Gem.\",\n",
       " 'Canto XLI. The Ruin Of The Grove.',\n",
       " 'Canto XLII. The Giants Roused.',\n",
       " 'Canto XLIII. The Ruin Of The Temple.',\n",
       " \"Canto XLIV. Jambumáli's Death.\",\n",
       " 'Canto XLV. The Seven Defeated.',\n",
       " 'Canto XLVI. The Captains.',\n",
       " 'Canto XLVII. The Death Of Aksha.',\n",
       " 'Canto XLVIII. Hanumán Captured.',\n",
       " 'Canto XLIX. Rávan.',\n",
       " \"Canto L. Prahasta's Questions.\",\n",
       " \"Canto LI. Hanumán's Reply.\",\n",
       " \"Canto LII. Vibhishan's Speech.\",\n",
       " 'Canto LIII. The Punishment.',\n",
       " 'Canto LIV. The Burning Of Lanká.',\n",
       " 'Canto LV. Fear For Sítá.',\n",
       " 'Canto LVI. Mount Arishta.',\n",
       " \"Canto LVII. Hanumán's Return.\",\n",
       " 'Canto LVIII. The Feast Of Honey.',\n",
       " 'Canto LXV. The Tidings.',\n",
       " \"Canto LXVI. Ráma's Speech.\",\n",
       " \"Canto I. Ráma's Speech.\",\n",
       " \"Canto II. Sugríva's Speech.\",\n",
       " 'Canto III. Lanká.',\n",
       " 'Canto IV. The March.',\n",
       " \"Canto V. Ráma's Lament.\",\n",
       " \"Canto VI. Rávan's Speech.\",\n",
       " 'Canto VII. Rávan Encouraged.',\n",
       " \"Canto VIII. Prahasta's Speech.\",\n",
       " \"Canto IX. Vibhishan's Counsel.\",\n",
       " \"Canto X. Vibhishan's Counsel.\",\n",
       " 'Canto XI. The Summons.',\n",
       " \"Canto XII. Rávan's Speech.\",\n",
       " \"Canto XIII. Rávan's Speech.\",\n",
       " \"Canto XIV. Vibhishan's Speech.\",\n",
       " \"Canto XV. Indrajít's Speech.\",\n",
       " \"Canto XVI. Rávan's Speech.\",\n",
       " \"Canto XVII. Vibhishan's Flight.\",\n",
       " \"Canto XVIII. Ráma's Speech.\",\n",
       " \"Canto XIX. Vibhishan's Counsel.\",\n",
       " 'Canto XX. The Spies.',\n",
       " 'Canto XXI. Ocean Threatened.',\n",
       " 'Canto XXII. Ocean Threatened.',\n",
       " 'Canto XXIII. The Omens.',\n",
       " \"Canto XXIV. The Spy's Return.\",\n",
       " \"Canto XXV. Rávan's Spies.(938)\",\n",
       " 'Canto XXVI. The Vánar Chiefs.',\n",
       " 'Canto XXVII. The Vánar Chiefs.',\n",
       " 'Canto XXVIII. The Chieftains.',\n",
       " 'Canto XXIX. Sárdúla Captured.',\n",
       " \"Canto XXX. Sárdúla's Speech.\",\n",
       " 'Canto XXXI. The Magic Head.',\n",
       " \"Canto XXXII. Sítá's Lament.\",\n",
       " 'Canto XXXIII. Saramá.',\n",
       " \"Canto XXXIV. Saramá's Tidings.\",\n",
       " \"Canto XXXV. Malyaván's Speech.\",\n",
       " \"Canto XXXVI. Rávan's Reply.\",\n",
       " 'Canto XXXVII. Preparations.',\n",
       " 'Canto XXXVIII. The Ascent Of Suvela.',\n",
       " 'Canto XXXIX. Lanká.',\n",
       " 'Canto XL. Rávan Attacked.',\n",
       " \"Canto XLI. Ráma's Envoy.\",\n",
       " 'Canto XLII. The Sally.',\n",
       " 'Canto XLIII. The Single Combats.',\n",
       " 'Canto XLIV. The Night.',\n",
       " \"Canto XLV. Indrajít's Victory.\",\n",
       " \"Canto XLVI. Indrajít's Triumph.\",\n",
       " 'Canto XLVII. Sítá.',\n",
       " \"Canto XLVIII. Sítá's Lament.\",\n",
       " \"Canto XLIX. Ráma's Lament.\",\n",
       " 'Canto L. The Broken Spell.',\n",
       " \"Canto LI. Dhúmráksha's Sally.\",\n",
       " \"Canto LII. Dhúmráksha's Death.\",\n",
       " \"Canto LIII. Vajradanshtra's Sally.\",\n",
       " \"Canto LIV. Vajradanshtra's Death.\",\n",
       " 'Cantos and the results are exactly the same as before. In Canto LV,',\n",
       " \"Canto LIX. Rávan's Sally.\",\n",
       " 'Canto LX. Kumbhakarna Roused.',\n",
       " \"Canto LXI. The Vánars' Alarm.\",\n",
       " \"Canto LXII. Rávan's Request.\",\n",
       " \"Canto LXIII. Kumbhakarna's Boast.\",\n",
       " \"Canto LXIV. Mahodar's Speech.\",\n",
       " \"Canto LXV. Kumbhakarna's Speech.\",\n",
       " \"Canto LXVI. Kumbhakarna's Sally.\",\n",
       " \"Canto LXVII. Kumbhakarna's Death.\",\n",
       " \"Canto LXVIII. Rávan's Lament.\",\n",
       " \"Canto LXIX. Narántak's Death.\",\n",
       " 'Canto LXX. The Death Of Trisirás.',\n",
       " \"Canto LXXI. Atikáya's Death.\",\n",
       " \"Canto LXXII. Rávan's Speech.\",\n",
       " \"Canto LXXIII. Indrajít's Victory.\",\n",
       " 'Canto LXXIV. The Medicinal Herbs.',\n",
       " 'Canto LXXV. The Night Attack.',\n",
       " \"Canto XCIII. Rávan's Lament.\",\n",
       " \"Canto XCVI. Rávan's Sally.\",\n",
       " 'Canto C. Rávan In The Field.',\n",
       " \"Canto CI. Lakshman's Fall.\",\n",
       " 'Canto CII. Lakshman Healed.',\n",
       " \"Canto CIII. Indra's Car.\",\n",
       " 'Canto CVI. Glory To The Sun.',\n",
       " 'Canto CVIII. The Battle.',\n",
       " 'Canto CIX. The Battle.',\n",
       " \"Canto CX. Rávan's Death.\",\n",
       " \"Canto CXI. Vibhishan's Lament.\",\n",
       " 'Canto CXII. The Rákshas Dames.',\n",
       " \"Canto CXIII. Mandodarí's Lament.\",\n",
       " 'Canto CXIV. Vibhishan Consecrated.',\n",
       " \"Canto CXV. Sítá's Joy.\",\n",
       " 'Canto CXVI. The Meeting.',\n",
       " \"Canto CXVII. Sítá's Disgrace.\",\n",
       " \"Canto CXVIII. Sítá's Reply.\",\n",
       " 'Canto CXIX. Glory To Vishnu.',\n",
       " 'Canto CXX. Sítá Restored.',\n",
       " 'Canto CXXI. Dasaratha.',\n",
       " \"Canto CXXII. Indra's Boon.\",\n",
       " 'Canto CXXIII. The Magic Car.',\n",
       " 'Canto CXXIV. The Departure.',\n",
       " 'Canto CXXV. The Return.',\n",
       " 'Canto CXXVI. Bharat Consoled.',\n",
       " \"Canto CXXVII. Ráma's Message.\",\n",
       " \"Canto CXXVIII. Hanumán's Story.\",\n",
       " 'Canto CXXIX. The Meeting With Bharat.',\n",
       " 'Canto CXXX. The Consecration.']"
      ]
     },
     "execution_count": 61,
     "metadata": {},
     "output_type": "execute_result"
    }
   ],
   "source": [
    "chaps"
   ]
  },
  {
   "cell_type": "code",
   "execution_count": 138,
   "metadata": {},
   "outputs": [],
   "source": [
    "char_idx = {}\n",
    "for index, row in d.iterrows():\n",
    "    if row[\"Text\"].strip() in chaps:\n",
    "        char_idx[row[\"Text\"].strip()] = index\n",
    "# char_idx.update({\"Invocation\": 0})\n"
   ]
  },
  {
   "cell_type": "code",
   "execution_count": 139,
   "metadata": {},
   "outputs": [],
   "source": [
    "# char_idx[chaps[1]]\n",
    "# cha = 0\n",
    "# for i in chaps:\n",
    "#     cha = char_idx[i]\n",
    "# cha"
   ]
  },
  {
   "cell_type": "code",
   "execution_count": 140,
   "metadata": {},
   "outputs": [
    {
     "data": {
      "text/plain": [
       "53002"
      ]
     },
     "execution_count": 140,
     "metadata": {},
     "output_type": "execute_result"
    }
   ],
   "source": [
    "last_idx = char_idx[chaps[len(chaps)-1]]\n",
    "last_idx"
   ]
  },
  {
   "cell_type": "code",
   "execution_count": 105,
   "metadata": {},
   "outputs": [
    {
     "data": {
      "text/plain": [
       "53179"
      ]
     },
     "execution_count": 105,
     "metadata": {},
     "output_type": "execute_result"
    }
   ],
   "source": [
    "data_len = d.shape[0]\n",
    "data_len"
   ]
  },
  {
   "cell_type": "code",
   "execution_count": 142,
   "metadata": {},
   "outputs": [],
   "source": [
    "chap_col = []\n",
    "c_idx = 0\n",
    "c_obj = \"Invocation\"\n",
    "for i in range(len(chaps)): #0\n",
    "    for j in range(c_idx, char_idx[chaps[i]]): #0-21\n",
    "        chap_col.insert(j, c_obj)\n",
    "    c_obj = chaps[i]\n",
    "    c_idx = char_idx[chaps[i]] + 1\n",
    "for i in range(last_idx, data_len):\n",
    "    chap_col.insert(i, c_obj)\n"
   ]
  },
  {
   "cell_type": "code",
   "execution_count": 143,
   "metadata": {},
   "outputs": [],
   "source": [
    "l = []\n",
    "chap_col = chap_col[:data_len]\n",
    "for x in char_idx:\n",
    "    l.append(chap_col[char_idx[x]])\n",
    "# len(l)"
   ]
  },
  {
   "cell_type": "code",
   "execution_count": 144,
   "metadata": {},
   "outputs": [],
   "source": [
    "d.insert(1, \"Chapter\", chap_col, True)"
   ]
  },
  {
   "cell_type": "code",
   "execution_count": 145,
   "metadata": {},
   "outputs": [
    {
     "data": {
      "text/html": [
       "<div>\n",
       "<style scoped>\n",
       "    .dataframe tbody tr th:only-of-type {\n",
       "        vertical-align: middle;\n",
       "    }\n",
       "\n",
       "    .dataframe tbody tr th {\n",
       "        vertical-align: top;\n",
       "    }\n",
       "\n",
       "    .dataframe thead th {\n",
       "        text-align: right;\n",
       "    }\n",
       "</style>\n",
       "<table border=\"1\" class=\"dataframe\">\n",
       "  <thead>\n",
       "    <tr style=\"text-align: right;\">\n",
       "      <th></th>\n",
       "      <th>Text</th>\n",
       "      <th>Chapter</th>\n",
       "    </tr>\n",
       "  </thead>\n",
       "  <tbody>\n",
       "    <tr>\n",
       "      <th>53174</th>\n",
       "      <td>The flocks and herds increased and grew.</td>\n",
       "      <td>Canto CXXX. The Consecration.</td>\n",
       "    </tr>\n",
       "    <tr>\n",
       "      <th>53175</th>\n",
       "      <td>The earth her kindly fruits supplied,</td>\n",
       "      <td>Canto CXXX. The Consecration.</td>\n",
       "    </tr>\n",
       "    <tr>\n",
       "      <th>53176</th>\n",
       "      <td>No harvest failed, no children died.</td>\n",
       "      <td>Canto CXXX. The Consecration.</td>\n",
       "    </tr>\n",
       "    <tr>\n",
       "      <th>53177</th>\n",
       "      <td>Unknown were want, disease, and crime:</td>\n",
       "      <td>Canto CXXX. The Consecration.</td>\n",
       "    </tr>\n",
       "    <tr>\n",
       "      <th>53178</th>\n",
       "      <td>So calm, so happy was the time.(1029)</td>\n",
       "      <td>Canto CXXX. The Consecration.</td>\n",
       "    </tr>\n",
       "  </tbody>\n",
       "</table>\n",
       "</div>"
      ],
      "text/plain": [
       "                                           Text                        Chapter\n",
       "53174  The flocks and herds increased and grew.  Canto CXXX. The Consecration.\n",
       "53175     The earth her kindly fruits supplied,  Canto CXXX. The Consecration.\n",
       "53176      No harvest failed, no children died.  Canto CXXX. The Consecration.\n",
       "53177    Unknown were want, disease, and crime:  Canto CXXX. The Consecration.\n",
       "53178     So calm, so happy was the time.(1029)  Canto CXXX. The Consecration."
      ]
     },
     "execution_count": 145,
     "metadata": {},
     "output_type": "execute_result"
    }
   ],
   "source": [
    "d.tail()"
   ]
  },
  {
   "cell_type": "code",
   "execution_count": 106,
   "metadata": {},
   "outputs": [
    {
     "data": {
      "text/plain": [
       "53179"
      ]
     },
     "execution_count": 106,
     "metadata": {},
     "output_type": "execute_result"
    }
   ],
   "source": [
    "#Books\n",
    "\n",
    "\n",
    "books = []\n",
    "for i in data:\n",
    "    # print(i.strip())\n",
    "    inst = [m.start() for m in re.finditer('BOOK', i)]\n",
    "    if len(inst) != 0 and inst[0] == 0:\n",
    "        # print(i, inst)\n",
    "        books.append(i.strip())\n",
    "# chaps\n",
    "        \n",
    "book_idx = {}\n",
    "for index, row in d.iterrows():\n",
    "    if row[\"Text\"].strip() in books:\n",
    "        book_idx[row[\"Text\"].strip()] = index\n",
    "\n",
    "last_idx = book_idx[books[len(books)-1]]\n",
    "last_idx\n",
    "\n",
    "b_col = []\n",
    "b_idx = 0\n",
    "b_obj = \"BOOK 0\"\n",
    "for i in range(len(books)): #0\n",
    "    for j in range(b_idx, book_idx[books[i]]): #0-21\n",
    "       b_col.insert(j, b_obj)\n",
    "    b_obj = books[i]\n",
    "    b_idx = book_idx[books[i]]\n",
    "for i in range(last_idx, data_len):\n",
    "    b_col.insert(i, b_obj)\n",
    "len(b_col)\n"
   ]
  },
  {
   "cell_type": "code",
   "execution_count": 1,
   "metadata": {},
   "outputs": [],
   "source": [
    "# f = open(\"d.txt\", 'r', encoding = 'utf-8')\n",
    "# d_p = f.readlines()\n",
    "# d_p = pd.read"
   ]
  },
  {
   "cell_type": "code",
   "execution_count": 11,
   "metadata": {},
   "outputs": [
    {
     "data": {
      "text/plain": [
       "['Hail, First of Bards, Válmíki, hail once more!',\n",
       " 'With Lakshmi by his side.',\n",
       " 'Beneath a bank of cloud.',\n",
       " 'Burst on his eyes at last.',\n",
       " 'From brake and lair disquieted.',\n",
       " 'The healing balm to make me live.\"(894)']"
      ]
     },
     "execution_count": 11,
     "metadata": {},
     "output_type": "execute_result"
    }
   ],
   "source": [
    "book_ends = []\n",
    "for i in books:\n",
    "    book_ends.append(d.iloc[book_idx[i]-1].Text)\n",
    "book_ends\n"
   ]
  },
  {
   "cell_type": "code",
   "execution_count": 147,
   "metadata": {},
   "outputs": [],
   "source": [
    "d.insert(1, \"Book\", b_col, True)"
   ]
  },
  {
   "cell_type": "code",
   "execution_count": 148,
   "metadata": {},
   "outputs": [
    {
     "data": {
      "text/plain": [
       "Text       0\n",
       "Book       0\n",
       "Chapter    0\n",
       "dtype: int64"
      ]
     },
     "execution_count": 148,
     "metadata": {},
     "output_type": "execute_result"
    }
   ],
   "source": [
    "d.isnull().sum()"
   ]
  },
  {
   "cell_type": "code",
   "execution_count": 150,
   "metadata": {},
   "outputs": [],
   "source": [
    "for index, row in d.iterrows():\n",
    "    if (row[\"Text\"] in books) or (row[\"Text\"] in chaps):\n",
    "        d.drop(index, axis=0, inplace=True)"
   ]
  },
  {
   "cell_type": "code",
   "execution_count": 162,
   "metadata": {},
   "outputs": [],
   "source": [
    "# d.shape\n",
    "d.head()\n",
    "d[\"Book\"] = d[\"Book\"].apply(lambda x: re.sub('[0-9]+', \"\", x))\n",
    "d[\"Book\"] = d[\"Book\"].apply(lambda x: x.replace(\"()\",\"\").replace(\".\",\"\"))\n",
    "d[\"Chapter\"] = d[\"Chapter\"].apply(lambda x: re.sub('[0-9]+', \"\", x).replace(\"()\",\"\"))\n",
    "# d.Chapter.unique()"
   ]
  },
  {
   "cell_type": "code",
   "execution_count": null,
   "metadata": {},
   "outputs": [],
   "source": [
    "\n",
    "# id = 0\n",
    "# c_temp = \"Invocation\"\n",
    "# for i in data:\n",
    "#     # print(i.strip()+ chaps[id])\n",
    "\n",
    "#     if (i.strip() is not chaps[id]):\n",
    "#         di = {\"Chapter\" : c_temp, \"Text\" : i.strip()}\n",
    "#         dict_list.append(di)\n",
    "#         # print(i.strip() == chaps[id].strip())\n",
    "\n",
    "#     else:\n",
    "#         c_temp = chaps[id]\n",
    "#         id += 1\n",
    "\n",
    "# dict_list\n"
   ]
  },
  {
   "cell_type": "code",
   "execution_count": 24,
   "metadata": {},
   "outputs": [],
   "source": [
    "\n",
    "# id = 0\n",
    "# c_temp = \"Invocation\"\n",
    "# for i in data:\n",
    "#     # print(i.strip()+ chaps[id])\n",
    "\n",
    "#     if (i.strip() is chaps[id]):\n",
    "#         # print(i.strip() == chaps[id].strip())\n",
    "#         print(i.strip())\n",
    "#         c_temp = chaps[id]\n",
    "#         id += 1\n",
    "#     else:\n",
    "#         di = {\"Chapter\" : c_temp, \"Text\" : i.strip()}\n",
    "#         dict_list.append(di)\n",
    "\n",
    "# # dict_list\n"
   ]
  },
  {
   "cell_type": "code",
   "execution_count": 12,
   "metadata": {},
   "outputs": [],
   "source": [
    "# import csv\n",
    "    \n",
    "# fields = [\"Text\", \"Chapter\"]\n",
    "# with open(\"data2.csv\", 'a', encoding = 'utf-8' ) as csvfile:\n",
    "#     writer = csv.DictWriter(csvfile, fieldnames=fields)\n",
    "#     writer.writeheader\n",
    "#     writer.writerows(dict_list)"
   ]
  },
  {
   "cell_type": "code",
   "execution_count": 4,
   "metadata": {},
   "outputs": [],
   "source": [
    "\n",
    "# d = pd.read_csv(\"data1.csv\", encoding = 'latin-1')"
   ]
  },
  {
   "cell_type": "code",
   "execution_count": 168,
   "metadata": {},
   "outputs": [
    {
     "data": {
      "text/html": [
       "<div>\n",
       "<style scoped>\n",
       "    .dataframe tbody tr th:only-of-type {\n",
       "        vertical-align: middle;\n",
       "    }\n",
       "\n",
       "    .dataframe tbody tr th {\n",
       "        vertical-align: top;\n",
       "    }\n",
       "\n",
       "    .dataframe thead th {\n",
       "        text-align: right;\n",
       "    }\n",
       "</style>\n",
       "<table border=\"1\" class=\"dataframe\">\n",
       "  <thead>\n",
       "    <tr style=\"text-align: right;\">\n",
       "      <th></th>\n",
       "      <th>Text</th>\n",
       "      <th>Book</th>\n",
       "      <th>Chapter</th>\n",
       "    </tr>\n",
       "  </thead>\n",
       "  <tbody>\n",
       "    <tr>\n",
       "      <th>53174</th>\n",
       "      <td>The flocks and herds increased and grew.</td>\n",
       "      <td>BOOK VI</td>\n",
       "      <td>Canto CXXX. The Consecration.</td>\n",
       "    </tr>\n",
       "    <tr>\n",
       "      <th>53175</th>\n",
       "      <td>The earth her kindly fruits supplied,</td>\n",
       "      <td>BOOK VI</td>\n",
       "      <td>Canto CXXX. The Consecration.</td>\n",
       "    </tr>\n",
       "    <tr>\n",
       "      <th>53176</th>\n",
       "      <td>No harvest failed, no children died.</td>\n",
       "      <td>BOOK VI</td>\n",
       "      <td>Canto CXXX. The Consecration.</td>\n",
       "    </tr>\n",
       "    <tr>\n",
       "      <th>53177</th>\n",
       "      <td>Unknown were want, disease, and crime:</td>\n",
       "      <td>BOOK VI</td>\n",
       "      <td>Canto CXXX. The Consecration.</td>\n",
       "    </tr>\n",
       "    <tr>\n",
       "      <th>53178</th>\n",
       "      <td>So calm, so happy was the time.(1029)</td>\n",
       "      <td>BOOK VI</td>\n",
       "      <td>Canto CXXX. The Consecration.</td>\n",
       "    </tr>\n",
       "  </tbody>\n",
       "</table>\n",
       "</div>"
      ],
      "text/plain": [
       "                                           Text     Book  \\\n",
       "53174  The flocks and herds increased and grew.  BOOK VI   \n",
       "53175     The earth her kindly fruits supplied,  BOOK VI   \n",
       "53176      No harvest failed, no children died.  BOOK VI   \n",
       "53177    Unknown were want, disease, and crime:  BOOK VI   \n",
       "53178     So calm, so happy was the time.(1029)  BOOK VI   \n",
       "\n",
       "                             Chapter  \n",
       "53174  Canto CXXX. The Consecration.  \n",
       "53175  Canto CXXX. The Consecration.  \n",
       "53176  Canto CXXX. The Consecration.  \n",
       "53177  Canto CXXX. The Consecration.  \n",
       "53178  Canto CXXX. The Consecration.  "
      ]
     },
     "execution_count": 168,
     "metadata": {},
     "output_type": "execute_result"
    }
   ],
   "source": [
    "d.tail()\n",
    "# d.dropna(how = 'any', axis=0)"
   ]
  },
  {
   "cell_type": "code",
   "execution_count": 63,
   "metadata": {},
   "outputs": [],
   "source": [
    "#install unidecode\n",
    "from unidecode import unidecode"
   ]
  },
  {
   "cell_type": "code",
   "execution_count": 176,
   "metadata": {},
   "outputs": [
    {
     "data": {
      "text/html": [
       "<div>\n",
       "<style scoped>\n",
       "    .dataframe tbody tr th:only-of-type {\n",
       "        vertical-align: middle;\n",
       "    }\n",
       "\n",
       "    .dataframe tbody tr th {\n",
       "        vertical-align: top;\n",
       "    }\n",
       "\n",
       "    .dataframe thead th {\n",
       "        text-align: right;\n",
       "    }\n",
       "</style>\n",
       "<table border=\"1\" class=\"dataframe\">\n",
       "  <thead>\n",
       "    <tr style=\"text-align: right;\">\n",
       "      <th></th>\n",
       "      <th>Text</th>\n",
       "      <th>Book</th>\n",
       "      <th>Chapter</th>\n",
       "    </tr>\n",
       "  </thead>\n",
       "  <tbody>\n",
       "    <tr>\n",
       "      <th>0</th>\n",
       "      <td>Praise to Valmiki,(2)bird of charming song,(3)</td>\n",
       "      <td>BOOK</td>\n",
       "      <td>Invocation</td>\n",
       "    </tr>\n",
       "    <tr>\n",
       "      <th>1</th>\n",
       "      <td>Who mounts on Poesy's sublimest spray,</td>\n",
       "      <td>BOOK</td>\n",
       "      <td>Invocation</td>\n",
       "    </tr>\n",
       "    <tr>\n",
       "      <th>2</th>\n",
       "      <td>And sweetly sings with accent clear and strong</td>\n",
       "      <td>BOOK</td>\n",
       "      <td>Invocation</td>\n",
       "    </tr>\n",
       "    <tr>\n",
       "      <th>3</th>\n",
       "      <td>Rama, aye Rama, in his deathless lay.</td>\n",
       "      <td>BOOK</td>\n",
       "      <td>Invocation</td>\n",
       "    </tr>\n",
       "    <tr>\n",
       "      <th>4</th>\n",
       "      <td>Where breathes the man can listen to the strain</td>\n",
       "      <td>BOOK</td>\n",
       "      <td>Invocation</td>\n",
       "    </tr>\n",
       "  </tbody>\n",
       "</table>\n",
       "</div>"
      ],
      "text/plain": [
       "                                              Text   Book     Chapter\n",
       "0   Praise to Valmiki,(2)bird of charming song,(3)  BOOK   Invocation\n",
       "1           Who mounts on Poesy's sublimest spray,  BOOK   Invocation\n",
       "2   And sweetly sings with accent clear and strong  BOOK   Invocation\n",
       "3            Rama, aye Rama, in his deathless lay.  BOOK   Invocation\n",
       "4  Where breathes the man can listen to the strain  BOOK   Invocation"
      ]
     },
     "execution_count": 176,
     "metadata": {},
     "output_type": "execute_result"
    }
   ],
   "source": [
    "d[\"Text\"] = d[\"Text\"].apply(lambda x: unidecode(x))\n",
    "d[\"Chapter\"] = d[\"Chapter\"].apply(lambda x: unidecode(x))\n",
    "\n",
    "d.head()"
   ]
  },
  {
   "cell_type": "code",
   "execution_count": 177,
   "metadata": {},
   "outputs": [],
   "source": [
    "d.to_csv('final_data.csv', index=False)"
   ]
  },
  {
   "cell_type": "code",
   "execution_count": 178,
   "metadata": {},
   "outputs": [],
   "source": [
    "df = pd.read_csv(\"final_data.csv\", encoding='latin-1')"
   ]
  },
  {
   "cell_type": "code",
   "execution_count": 179,
   "metadata": {},
   "outputs": [
    {
     "data": {
      "text/html": [
       "<div>\n",
       "<style scoped>\n",
       "    .dataframe tbody tr th:only-of-type {\n",
       "        vertical-align: middle;\n",
       "    }\n",
       "\n",
       "    .dataframe tbody tr th {\n",
       "        vertical-align: top;\n",
       "    }\n",
       "\n",
       "    .dataframe thead th {\n",
       "        text-align: right;\n",
       "    }\n",
       "</style>\n",
       "<table border=\"1\" class=\"dataframe\">\n",
       "  <thead>\n",
       "    <tr style=\"text-align: right;\">\n",
       "      <th></th>\n",
       "      <th>Text</th>\n",
       "      <th>Book</th>\n",
       "      <th>Chapter</th>\n",
       "    </tr>\n",
       "  </thead>\n",
       "  <tbody>\n",
       "    <tr>\n",
       "      <th>0</th>\n",
       "      <td>Praise to Valmiki,(2)bird of charming song,(3)</td>\n",
       "      <td>BOOK</td>\n",
       "      <td>Invocation</td>\n",
       "    </tr>\n",
       "    <tr>\n",
       "      <th>1</th>\n",
       "      <td>Who mounts on Poesy's sublimest spray,</td>\n",
       "      <td>BOOK</td>\n",
       "      <td>Invocation</td>\n",
       "    </tr>\n",
       "    <tr>\n",
       "      <th>2</th>\n",
       "      <td>And sweetly sings with accent clear and strong</td>\n",
       "      <td>BOOK</td>\n",
       "      <td>Invocation</td>\n",
       "    </tr>\n",
       "    <tr>\n",
       "      <th>3</th>\n",
       "      <td>Rama, aye Rama, in his deathless lay.</td>\n",
       "      <td>BOOK</td>\n",
       "      <td>Invocation</td>\n",
       "    </tr>\n",
       "    <tr>\n",
       "      <th>4</th>\n",
       "      <td>Where breathes the man can listen to the strain</td>\n",
       "      <td>BOOK</td>\n",
       "      <td>Invocation</td>\n",
       "    </tr>\n",
       "  </tbody>\n",
       "</table>\n",
       "</div>"
      ],
      "text/plain": [
       "                                              Text   Book     Chapter\n",
       "0   Praise to Valmiki,(2)bird of charming song,(3)  BOOK   Invocation\n",
       "1           Who mounts on Poesy's sublimest spray,  BOOK   Invocation\n",
       "2   And sweetly sings with accent clear and strong  BOOK   Invocation\n",
       "3            Rama, aye Rama, in his deathless lay.  BOOK   Invocation\n",
       "4  Where breathes the man can listen to the strain  BOOK   Invocation"
      ]
     },
     "execution_count": 179,
     "metadata": {},
     "output_type": "execute_result"
    }
   ],
   "source": [
    "df.head()"
   ]
  },
  {
   "cell_type": "markdown",
   "metadata": {},
   "source": [
    "group by chapters"
   ]
  },
  {
   "cell_type": "code",
   "execution_count": 8,
   "metadata": {},
   "outputs": [],
   "source": [
    "# df = pd.read_csv(\"final_data.csv\", encoding='latin-1')\n",
    "# df.head()"
   ]
  },
  {
   "cell_type": "code",
   "execution_count": 5,
   "metadata": {},
   "outputs": [
    {
     "data": {
      "text/html": [
       "<div>\n",
       "<style scoped>\n",
       "    .dataframe tbody tr th:only-of-type {\n",
       "        vertical-align: middle;\n",
       "    }\n",
       "\n",
       "    .dataframe tbody tr th {\n",
       "        vertical-align: top;\n",
       "    }\n",
       "\n",
       "    .dataframe thead th {\n",
       "        text-align: right;\n",
       "    }\n",
       "</style>\n",
       "<table border=\"1\" class=\"dataframe\">\n",
       "  <thead>\n",
       "    <tr style=\"text-align: right;\">\n",
       "      <th></th>\n",
       "      <th>Text</th>\n",
       "      <th>Book</th>\n",
       "      <th>Chapter</th>\n",
       "    </tr>\n",
       "  </thead>\n",
       "  <tbody>\n",
       "    <tr>\n",
       "      <th>0</th>\n",
       "      <td>praise valmiki,()bird charming song,()</td>\n",
       "      <td>BOOK</td>\n",
       "      <td>Invocation</td>\n",
       "    </tr>\n",
       "    <tr>\n",
       "      <th>1</th>\n",
       "      <td>mounts poesy's sublimest spray,</td>\n",
       "      <td>BOOK</td>\n",
       "      <td>Invocation</td>\n",
       "    </tr>\n",
       "    <tr>\n",
       "      <th>2</th>\n",
       "      <td>sweetly sings accent clear strong</td>\n",
       "      <td>BOOK</td>\n",
       "      <td>Invocation</td>\n",
       "    </tr>\n",
       "    <tr>\n",
       "      <th>3</th>\n",
       "      <td>rama, aye rama, deathless lay.</td>\n",
       "      <td>BOOK</td>\n",
       "      <td>Invocation</td>\n",
       "    </tr>\n",
       "    <tr>\n",
       "      <th>4</th>\n",
       "      <td>breathes man listen strain</td>\n",
       "      <td>BOOK</td>\n",
       "      <td>Invocation</td>\n",
       "    </tr>\n",
       "  </tbody>\n",
       "</table>\n",
       "</div>"
      ],
      "text/plain": [
       "                                     Text   Book     Chapter\n",
       "0  praise valmiki,()bird charming song,()  BOOK   Invocation\n",
       "1         mounts poesy's sublimest spray,  BOOK   Invocation\n",
       "2       sweetly sings accent clear strong  BOOK   Invocation\n",
       "3          rama, aye rama, deathless lay.  BOOK   Invocation\n",
       "4              breathes man listen strain  BOOK   Invocation"
      ]
     },
     "execution_count": 5,
     "metadata": {},
     "output_type": "execute_result"
    }
   ],
   "source": [
    "# from Data_pre_proc import *\n",
    "\n",
    "# df = pre_proc(df)\n",
    "# df.head()"
   ]
  },
  {
   "cell_type": "code",
   "execution_count": 69,
   "metadata": {},
   "outputs": [
    {
     "data": {
      "text/plain": [
       "14146"
      ]
     },
     "execution_count": 69,
     "metadata": {},
     "output_type": "execute_result"
    }
   ],
   "source": [
    "# # len(pd.unique(df[\"Chapter\"]))\n",
    "# f = open(\"test.txt\", 'a', encoding='utf-8')\n",
    "# f.write(\" \".join(pd.unique(df[\"Chapter\"])))\n",
    "# # set(chaps).difference(df[\"Chapter\"])"
   ]
  },
  {
   "cell_type": "code",
   "execution_count": 6,
   "metadata": {},
   "outputs": [],
   "source": [
    "# trial = df.groupby('Book', sort=False).Chapter.unique().apply('|'.join).reset_index(name='Chapter')\n",
    "# book_chap = {}\n",
    "# for idx, row in trial.iterrows():\n",
    "#     book_chap.update({row[\"Book\"].strip(): [i for i in row[\"Chapter\"].split(\"|\")]})\n"
   ]
  },
  {
   "cell_type": "code",
   "execution_count": 7,
   "metadata": {},
   "outputs": [
    {
     "data": {
      "text/plain": [
       "7"
      ]
     },
     "execution_count": 7,
     "metadata": {},
     "output_type": "execute_result"
    }
   ],
   "source": [
    "# len(book_chap)"
   ]
  },
  {
   "cell_type": "code",
   "execution_count": 36,
   "metadata": {},
   "outputs": [
    {
     "data": {
      "text/plain": [
       "(494, 2)"
      ]
     },
     "execution_count": 36,
     "metadata": {},
     "output_type": "execute_result"
    }
   ],
   "source": [
    "# new_df = df.groupby('Chapter', sort=False).Text.apply(' '.join).reset_index(name='Text')\n",
    "# new_df.shape"
   ]
  },
  {
   "cell_type": "code",
   "execution_count": 9,
   "metadata": {},
   "outputs": [],
   "source": [
    "# # construct book column and add it to the df\n",
    "# book_col = []\n",
    "# for key in book_chap:\n",
    "#     for i in range(len(book_chap[key])):\n",
    "#         book_col.append(key)\n",
    "# # new_df.insert(1, \"Book\", book_col, True)\n",
    "# # new_df.head()\n",
    "# # book_col"
   ]
  },
  {
   "cell_type": "code",
   "execution_count": 10,
   "metadata": {},
   "outputs": [
    {
     "data": {
      "text/html": [
       "<div>\n",
       "<style scoped>\n",
       "    .dataframe tbody tr th:only-of-type {\n",
       "        vertical-align: middle;\n",
       "    }\n",
       "\n",
       "    .dataframe tbody tr th {\n",
       "        vertical-align: top;\n",
       "    }\n",
       "\n",
       "    .dataframe thead th {\n",
       "        text-align: right;\n",
       "    }\n",
       "</style>\n",
       "<table border=\"1\" class=\"dataframe\">\n",
       "  <thead>\n",
       "    <tr style=\"text-align: right;\">\n",
       "      <th></th>\n",
       "      <th>Chapter</th>\n",
       "      <th>Book</th>\n",
       "      <th>Text</th>\n",
       "    </tr>\n",
       "  </thead>\n",
       "  <tbody>\n",
       "    <tr>\n",
       "      <th>0</th>\n",
       "      <td>Invocation</td>\n",
       "      <td>Book</td>\n",
       "      <td>Praise to Válmíki,(2)bird of charming song,(3)...</td>\n",
       "    </tr>\n",
       "    <tr>\n",
       "      <th>1</th>\n",
       "      <td>Canto I. Nárad.</td>\n",
       "      <td>Book I.</td>\n",
       "      <td>OM.(8)To sainted Nárad, prince of thoseWhose l...</td>\n",
       "    </tr>\n",
       "    <tr>\n",
       "      <th>2</th>\n",
       "      <td>Canto II. Brahmá's Visit</td>\n",
       "      <td>Book I.</td>\n",
       "      <td>Válmíki, graceful speaker, heard,To highest ad...</td>\n",
       "    </tr>\n",
       "    <tr>\n",
       "      <th>3</th>\n",
       "      <td>Canto III. The Argument.</td>\n",
       "      <td>Book I.</td>\n",
       "      <td>The hermit thus with watchful heedReceived the...</td>\n",
       "    </tr>\n",
       "    <tr>\n",
       "      <th>4</th>\n",
       "      <td>Canto IV. The Rhapsodists.</td>\n",
       "      <td>Book I.</td>\n",
       "      <td>When to the end the tale was brought,Rose in t...</td>\n",
       "    </tr>\n",
       "  </tbody>\n",
       "</table>\n",
       "</div>"
      ],
      "text/plain": [
       "                      Chapter     Book  \\\n",
       "0                  Invocation     Book   \n",
       "1             Canto I. Nárad.  Book I.   \n",
       "2    Canto II. Brahmá's Visit  Book I.   \n",
       "3    Canto III. The Argument.  Book I.   \n",
       "4  Canto IV. The Rhapsodists.  Book I.   \n",
       "\n",
       "                                                Text  \n",
       "0  Praise to Válmíki,(2)bird of charming song,(3)...  \n",
       "1  OM.(8)To sainted Nárad, prince of thoseWhose l...  \n",
       "2  Válmíki, graceful speaker, heard,To highest ad...  \n",
       "3  The hermit thus with watchful heedReceived the...  \n",
       "4  When to the end the tale was brought,Rose in t...  "
      ]
     },
     "execution_count": 10,
     "metadata": {},
     "output_type": "execute_result"
    }
   ],
   "source": [
    "df = pd.read_csv(\"c_b_t.csv\", encoding='utf-8')\n",
    "df.head()"
   ]
  },
  {
   "cell_type": "code",
   "execution_count": null,
   "metadata": {},
   "outputs": [],
   "source": []
  }
 ],
 "metadata": {
  "kernelspec": {
   "display_name": "Python 3",
   "language": "python",
   "name": "python3"
  },
  "language_info": {
   "codemirror_mode": {
    "name": "ipython",
    "version": 3
   },
   "file_extension": ".py",
   "mimetype": "text/x-python",
   "name": "python",
   "nbconvert_exporter": "python",
   "pygments_lexer": "ipython3",
   "version": "3.9.12"
  }
 },
 "nbformat": 4,
 "nbformat_minor": 2
}
