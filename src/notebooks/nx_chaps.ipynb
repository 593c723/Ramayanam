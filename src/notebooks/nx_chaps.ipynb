{
 "cells": [
  {
   "cell_type": "markdown",
   "metadata": {},
   "source": [
    "Frame sentiments, ie., edge colors as being representative of the situation in which the characters find themselves - therefore positive or negative atmo. So, if in something rama and lakshmana have a -ve sentiment score, frame that they are both in a situation that is negative(note that this is cumilative, so if it is over a canto/book, then the 2 characters are in mostly -ve situations throughout), like a war or something.<br>\n",
    "So, basically, looking at the graph : (if it is mostly green, then its a whole lot of positive situations, else, -ve); so, this can be used to figure the theme of a chapter(its overall emotion): so, dark/serious books/chaps or light and happy ones"
   ]
  },
  {
   "cell_type": "code",
   "execution_count": 1,
   "metadata": {},
   "outputs": [],
   "source": [
    "%load_ext autoreload\n",
    "%autoreload 2\n",
    "%matplotlib inline\n",
    "%config InlineBackend.figure_format = 'retina'\n",
    "import pandas as pd\n",
    "import networkx as nx\n",
    "import community\n",
    "#pip install python-louvain\n",
    "import numpy as np\n",
    "import matplotlib.pyplot as plt\n",
    "import warnings\n",
    "warnings.filterwarnings('ignore')\n",
    "from pyvis.network import Network\n",
    "import itertools"
   ]
  },
  {
   "cell_type": "code",
   "execution_count": 4,
   "metadata": {},
   "outputs": [
    {
     "data": {
      "text/html": [
       "<div>\n",
       "<style scoped>\n",
       "    .dataframe tbody tr th:only-of-type {\n",
       "        vertical-align: middle;\n",
       "    }\n",
       "\n",
       "    .dataframe tbody tr th {\n",
       "        vertical-align: top;\n",
       "    }\n",
       "\n",
       "    .dataframe thead th {\n",
       "        text-align: right;\n",
       "    }\n",
       "</style>\n",
       "<table border=\"1\" class=\"dataframe\">\n",
       "  <thead>\n",
       "    <tr style=\"text-align: right;\">\n",
       "      <th></th>\n",
       "      <th>Source</th>\n",
       "      <th>Target</th>\n",
       "      <th>Weight</th>\n",
       "      <th>Canto</th>\n",
       "      <th>Book</th>\n",
       "      <th>vader</th>\n",
       "      <th>Canto_no</th>\n",
       "      <th>weight_inv</th>\n",
       "    </tr>\n",
       "  </thead>\n",
       "  <tbody>\n",
       "    <tr>\n",
       "      <th>2204</th>\n",
       "      <td>gautam</td>\n",
       "      <td>vamadeva</td>\n",
       "      <td>1</td>\n",
       "      <td>Canto CXXX. The Consecration.</td>\n",
       "      <td>BOOK VI.</td>\n",
       "      <td>0.8402</td>\n",
       "      <td>493</td>\n",
       "      <td>1.0</td>\n",
       "    </tr>\n",
       "    <tr>\n",
       "      <th>2205</th>\n",
       "      <td>vamadeva</td>\n",
       "      <td>rama</td>\n",
       "      <td>1</td>\n",
       "      <td>Canto CXXX. The Consecration.</td>\n",
       "      <td>BOOK VI.</td>\n",
       "      <td>0.8402</td>\n",
       "      <td>493</td>\n",
       "      <td>1.0</td>\n",
       "    </tr>\n",
       "    <tr>\n",
       "      <th>2206</th>\n",
       "      <td>manu</td>\n",
       "      <td>satrughna</td>\n",
       "      <td>1</td>\n",
       "      <td>Canto CXXX. The Consecration.</td>\n",
       "      <td>BOOK VI.</td>\n",
       "      <td>0.1779</td>\n",
       "      <td>493</td>\n",
       "      <td>1.0</td>\n",
       "    </tr>\n",
       "    <tr>\n",
       "      <th>2207</th>\n",
       "      <td>angad</td>\n",
       "      <td>bali</td>\n",
       "      <td>1</td>\n",
       "      <td>Canto CXXX. The Consecration.</td>\n",
       "      <td>BOOK VI.</td>\n",
       "      <td>0.6486</td>\n",
       "      <td>493</td>\n",
       "      <td>1.0</td>\n",
       "    </tr>\n",
       "    <tr>\n",
       "      <th>2208</th>\n",
       "      <td>hanuman</td>\n",
       "      <td>sita</td>\n",
       "      <td>1</td>\n",
       "      <td>Canto CXXX. The Consecration.</td>\n",
       "      <td>BOOK VI.</td>\n",
       "      <td>0.4939</td>\n",
       "      <td>493</td>\n",
       "      <td>1.0</td>\n",
       "    </tr>\n",
       "  </tbody>\n",
       "</table>\n",
       "</div>"
      ],
      "text/plain": [
       "        Source     Target  Weight                          Canto      Book  \\\n",
       "2204    gautam   vamadeva       1  Canto CXXX. The Consecration.  BOOK VI.   \n",
       "2205  vamadeva       rama       1  Canto CXXX. The Consecration.  BOOK VI.   \n",
       "2206      manu  satrughna       1  Canto CXXX. The Consecration.  BOOK VI.   \n",
       "2207     angad       bali       1  Canto CXXX. The Consecration.  BOOK VI.   \n",
       "2208   hanuman       sita       1  Canto CXXX. The Consecration.  BOOK VI.   \n",
       "\n",
       "       vader  Canto_no  weight_inv  \n",
       "2204  0.8402       493         1.0  \n",
       "2205  0.8402       493         1.0  \n",
       "2206  0.1779       493         1.0  \n",
       "2207  0.6486       493         1.0  \n",
       "2208  0.4939       493         1.0  "
      ]
     },
     "execution_count": 4,
     "metadata": {},
     "output_type": "execute_result"
    }
   ],
   "source": [
    "ctbw = pd.read_csv(\"../data/csv/sentiments_chaps.csv\", encoding = 'utf-8')\n",
    "ctbw['weight_inv'] = 1/ctbw.Weight\n",
    "ctbw.tail()"
   ]
  },
  {
   "cell_type": "code",
   "execution_count": 5,
   "metadata": {},
   "outputs": [
    {
     "data": {
      "text/plain": [
       "'#FF0086'"
      ]
     },
     "execution_count": 5,
     "metadata": {},
     "output_type": "execute_result"
    }
   ],
   "source": [
    "import colorsys\n",
    "def scalar_to_hex(old_value, old_min, old_max):\n",
    "    # old_min = -1, old_max = 1 :: vader\n",
    "    # frequencies(range - 0,42)\n",
    "    new_max = 1\n",
    "    new_min = 0.1\n",
    "    new_value = ( (old_value - old_min) / (old_max - old_min) ) * (new_max - new_min) + new_min\n",
    "\n",
    "    rgb = colorsys.hsv_to_rgb(new_value, 1, 1)\n",
    "    rgbhex = \"\".join(\"%02X\" % round(i*255) for i in rgb)\n",
    "\n",
    "    return '#' + rgbhex\n",
    "scalar_to_hex(0.80520, -1, 1)"
   ]
  },
  {
   "cell_type": "code",
   "execution_count": 6,
   "metadata": {},
   "outputs": [],
   "source": [
    "def sem_color(val):\n",
    "    if val >= 0.05:\n",
    "        #positive\n",
    "        color = 'green'\n",
    "    if val <= 0.05:\n",
    "        color = 'red'\n",
    "    else:\n",
    "        color = 'blue'\n",
    "    return color"
   ]
  },
  {
   "cell_type": "code",
   "execution_count": 7,
   "metadata": {},
   "outputs": [],
   "source": [
    "graphs = [nx.from_pandas_edgelist(\n",
    "          ctbw[ctbw.Canto_no==i],\n",
    "          source='Source', target='Target',\n",
    "          edge_attr=['Weight', 'weight_inv', 'vader'])\n",
    "          for i in range(494)]"
   ]
  },
  {
   "cell_type": "markdown",
   "metadata": {},
   "source": [
    "### For Community detection and coloring, see : https://towardsdatascience.com/network-analysis-d734cd7270f8"
   ]
  },
  {
   "cell_type": "code",
   "execution_count": 8,
   "metadata": {},
   "outputs": [],
   "source": [
    "def louvain():\n",
    "    partitions = []\n",
    "    for i in range(494):\n",
    "        G = graphs[i]\n",
    "        # Find modularity\n",
    "        part = community.best_partition(G)\n",
    "        partitions.append(part) # returns dict = node: cluster\n",
    "    return partitions\n",
    "# p = louvain()\n",
    "# p[1]['rama']"
   ]
  },
  {
   "cell_type": "code",
   "execution_count": 9,
   "metadata": {},
   "outputs": [],
   "source": [
    "   \n",
    "def girvan_newman():\n",
    "    partitions = []\n",
    "    for i in range(494):\n",
    "        G = graphs[i]\n",
    "        # Find modularity\n",
    "        part = nx.community.girvan_newman(G)\n",
    "        # mod = community.modularity(part,G)\n",
    "        clusters = tuple(sorted(c) for c in next(part))\n",
    "        parts = {}\n",
    "        for i in range(len(clusters)):\n",
    "            for node in clusters[i]:\n",
    "                parts[node] = i\n",
    "        partitions.append(parts)\n",
    "    return partitions\n",
    "# p = girvan_newman()\n",
    "# p[1].get('lakshman')"
   ]
  },
  {
   "cell_type": "code",
   "execution_count": 10,
   "metadata": {},
   "outputs": [],
   "source": [
    "def sent_clusts(): \n",
    "    theme = [] # themes for 0-493 chaps\n",
    "    for i in range(494):\n",
    "        graph = graphs[i]\n",
    "        # partitions = girvan_newman() \n",
    "        partitions = louvain()\n",
    "        part = partitions[i]\n",
    "        nodes = graph.nodes()\n",
    "        values = [part.get(node) for node in nodes] # from dict(part)\n",
    "\n",
    "        nmap = {k:scalar_to_hex(v, 1, 42) for k, v in zip(nodes, values)} # node clusters\n",
    "        emap = {} # sentiment colors +ve- red, -ve blue\n",
    "        pos = 0\n",
    "        neg = 0\n",
    "        for (source, target), attr in graph.edges.items():\n",
    "            emap[(source, target)] = scalar_to_hex(attr['vader'], -1, 1)\n",
    "            if attr['vader'] > 0.05:\n",
    "                pos += 1\n",
    "            elif attr['vader'] < 0.05:\n",
    "                neg += 1\n",
    "            # emap[(source, target)] = sem_color(attr['vader'])\n",
    "        # print(nmap['rama'])\n",
    "        for (source, target), attr in graph.edges.items():\n",
    "            graph.nodes[source]['color'] = nmap[source]\n",
    "            graph.nodes[target]['color'] = nmap[target]\n",
    "            graph.edges[(source, target)]['color'] = emap[((source, target))]\n",
    "        theme.append((pos, neg))\n",
    "    return theme\n",
    "themes = sent_clusts()\n"
   ]
  },
  {
   "cell_type": "code",
   "execution_count": 9,
   "metadata": {},
   "outputs": [
    {
     "data": {
      "text/plain": [
       "(30, 48)"
      ]
     },
     "execution_count": 9,
     "metadata": {},
     "output_type": "execute_result"
    }
   ],
   "source": [
    "themes[3]"
   ]
  },
  {
   "cell_type": "code",
   "execution_count": 11,
   "metadata": {},
   "outputs": [
    {
     "data": {
      "text/plain": [
       "494"
      ]
     },
     "execution_count": 11,
     "metadata": {},
     "output_type": "execute_result"
    }
   ],
   "source": [
    "pos = []\n",
    "neg = []\n",
    "for i in range(len(themes)):\n",
    "    if themes[i][0] > themes[i][1]:\n",
    "        #positive - index 0\n",
    "        pos.append(i)\n",
    "    else:\n",
    "        neg.append(i)\n",
    "len(pos)\n",
    "#pos chapters less than neg chaps; but only by 80 odd chaps\n",
    "#and this is not considering neutral chaps. thos soubt any exist\n",
    "# so overall theme of book is slightly skewed over to dark?\n",
    "len(pos) + len(neg) # -> no neutral chaps"
   ]
  },
  {
   "cell_type": "code",
   "execution_count": 11,
   "metadata": {},
   "outputs": [
    {
     "name": "stdout",
     "output_type": "stream",
     "text": [
      "g3.html\n"
     ]
    }
   ],
   "source": [
    "nt = Network(height=\"750px\", width=\"100%\", bgcolor=\"#222222\", font_color=\"white\", directed = False, filter_menu=True)\n",
    "nt.from_nx(graphs[3])\n",
    "nt.show('g3.html', notebook=False)\n"
   ]
  },
  {
   "cell_type": "markdown",
   "metadata": {},
   "source": [
    "## Centrality"
   ]
  },
  {
   "cell_type": "code",
   "execution_count": 16,
   "metadata": {},
   "outputs": [],
   "source": [
    "def DegreeCentrality(graphs):\n",
    "    deg = {}\n",
    "    for i in range(1, len(graphs)):\n",
    "        deg[i] = nx.degree_centrality(graphs[i])\n",
    "    return deg    "
   ]
  },
  {
   "cell_type": "code",
   "execution_count": 17,
   "metadata": {},
   "outputs": [
    {
     "data": {
      "text/plain": [
       "[('rama', 0.3170731707317073),\n",
       " ('ravan', 0.21951219512195122),\n",
       " ('surpanakha', 0.17073170731707318),\n",
       " ('khara', 0.17073170731707318),\n",
       " ('agastya', 0.14634146341463417),\n",
       " ('viradha', 0.14634146341463417),\n",
       " ('panchavata', 0.14634146341463417),\n",
       " ('trisira', 0.14634146341463417),\n",
       " ('maricha', 0.14634146341463417),\n",
       " ('sita', 0.12195121951219512)]"
      ]
     },
     "execution_count": 17,
     "metadata": {},
     "output_type": "execute_result"
    }
   ],
   "source": [
    "deg = DegreeCentrality(graphs)\n",
    "sorted(deg[3].items(),\n",
    "        key=lambda x:x[1], reverse=True)[0:10]"
   ]
  },
  {
   "cell_type": "code",
   "execution_count": 114,
   "metadata": {},
   "outputs": [],
   "source": [
    "def gen_centrality_plot(centralities, fro, to):#ip dict of centralities of all books\n",
    "    deg = centralities\n",
    "    deg_list = [] #normalised dict of dcs for each book\n",
    "    for d in deg.values(): #for each book\n",
    "        new_vals = {}\n",
    "        sorted_vals = sorted(d.items(), key=lambda x:x[1], reverse=True)\n",
    "        for k in d:\n",
    "            old_value = d[k]\n",
    "            old_min = sorted_vals[-1][1]\n",
    "            old_max = sorted_vals[0][1]\n",
    "            new_max = 1\n",
    "            new_min = 0\n",
    "            OldRange = (old_max - old_min)\n",
    "            if (OldRange == 0):\n",
    "                NewValue = new_min\n",
    "            else:\n",
    "                NewRange = (new_max - new_min)  \n",
    "                NewValue = (((old_value - old_min) * NewRange) / OldRange) + new_min\n",
    "            \n",
    "            # old_value = d[k]\n",
    "            # old_min = sorted_vals[-1][1]\n",
    "            # old_max = sorted_vals[0][1]\n",
    "            # new_max = 1\n",
    "            # new_min = 0\n",
    "            # new_value = ( (old_value - old_min) / (old_max - old_min) ) * (new_max - new_min) + new_min\n",
    "            new_vals[k] = NewValue\n",
    "        deg_list.append(new_vals)\n",
    "\n",
    "    evol_df = pd.DataFrame.from_records(deg_list, index=[i+1 for i in range(len(deg))]).fillna(0)\n",
    "    # plot_list = ['rama', 'kaikeyi','lakshman', 'sita', \"dasaratha\", 'hanuman', 'bharat', 'ayodhya',\n",
    "    #             'ravan', 'kumbhakarna', 'vibhishan']\n",
    "    plot_list = ['kaikeyi']\n",
    "    print(evol_df.shape)\n",
    "    # for i in range(0, evol_df.shape[0]):\n",
    "    idx = 0\n",
    "    while idx != evol_df.shape[0]:\n",
    "        if evol_df.iloc[idx]['rama'] == 0:\n",
    "            evol_df.drop(idx, axis=0, inplace=True)\n",
    "        idx += 1\n",
    "    print(evol_df.shape)\n",
    "    plt.figure(figsize =(12, 12))\n",
    "    evol_df[fro:to][plot_list].plot()\n",
    "    plt.yticks(np.arange(0.0, 1.0, 0.1))\n",
    "    # plt.xticks(np.arange(1, 6, 1))\n",
    "\n",
    "    plt.show()\n"
   ]
  },
  {
   "cell_type": "code",
   "execution_count": 115,
   "metadata": {},
   "outputs": [
    {
     "name": "stdout",
     "output_type": "stream",
     "text": [
      "(493, 420)\n",
      "(282, 420)\n"
     ]
    },
    {
     "data": {
      "text/plain": [
       "<Figure size 864x864 with 0 Axes>"
      ]
     },
     "metadata": {},
     "output_type": "display_data"
    },
    {
     "data": {
      "image/png": "[encoded data removed]",
      "text/plain": [
       "<Figure size 432x288 with 1 Axes>"
      ]
     },
     "metadata": {
      "image/png": {
       "height": 248,
       "width": 372
      },
      "needs_background": "light"
     },
     "output_type": "display_data"
    }
   ],
   "source": [
    "gen_centrality_plot(deg, 0, 280)"
   ]
  },
  {
   "cell_type": "code",
   "execution_count": 116,
   "metadata": {},
   "outputs": [],
   "source": [
    "partitions = louvain()"
   ]
  },
  {
   "cell_type": "code",
   "execution_count": 2,
   "metadata": {},
   "outputs": [],
   "source": [
    "from modules import components"
   ]
  },
  {
   "cell_type": "code",
   "execution_count": 9,
   "metadata": {},
   "outputs": [
    {
     "data": {
      "text/plain": [
       "'Canto CXXX. The Consecration.'"
      ]
     },
     "execution_count": 9,
     "metadata": {},
     "output_type": "execute_result"
    }
   ],
   "source": [
    "components.get_all_chaps()[-1]"
   ]
  },
  {
   "cell_type": "code",
   "execution_count": 12,
   "metadata": {},
   "outputs": [
    {
     "data": {
      "text/plain": [
       "'Canto CXXX. The Consecration.'"
      ]
     },
     "execution_count": 12,
     "metadata": {},
     "output_type": "execute_result"
    }
   ],
   "source": [
    "components.books_to_chaps()['BOOK VI.'][-1]"
   ]
  },
  {
   "cell_type": "code",
   "execution_count": null,
   "metadata": {},
   "outputs": [],
   "source": []
  }
 ],
 "metadata": {
  "kernelspec": {
   "display_name": "Python 3",
   "language": "python",
   "name": "python3"
  },
  "language_info": {
   "codemirror_mode": {
    "name": "ipython",
    "version": 3
   },
   "file_extension": ".py",
   "mimetype": "text/x-python",
   "name": "python",
   "nbconvert_exporter": "python",
   "pygments_lexer": "ipython3",
   "version": "3.9.12"
  }
 },
 "nbformat": 4,
 "nbformat_minor": 2
}
