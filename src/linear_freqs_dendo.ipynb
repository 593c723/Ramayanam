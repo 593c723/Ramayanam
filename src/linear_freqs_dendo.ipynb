{
 "cells": [
  {
   "cell_type": "code",
   "execution_count": 3,
   "metadata": {},
   "outputs": [],
   "source": [
    "import pandas as pd\n",
    "from modules import components\n",
    "from unidecode import unidecode\n",
    "import numpy as np\n",
    "import itertools\n",
    "import re\n",
    "\n",
    "import scipy\n",
    "import scipy.cluster.hierarchy as sch\n",
    "\n",
    "import matplotlib.pyplot as plt\n",
    "%matplotlib inline\n",
    "\n",
    "# from adjustText import adjust_text\n",
    "# import textalloc as ta\n",
    "\n",
    "\n",
    "from yellowbrick.cluster import KElbowVisualizer # cluster visualizer\n",
    "\n",
    "from sklearn.cluster import KMeans\n",
    "# from sklearn.metrics.cluster import contingency_matrix\n",
    "# from sklearn.cluster import AgglomerativeClustering\n"
   ]
  },
  {
   "cell_type": "code",
   "execution_count": 2,
   "metadata": {},
   "outputs": [],
   "source": [
    "# !pip install adjustText\n",
    "# !pip install textalloc"
   ]
  },
  {
   "cell_type": "markdown",
   "metadata": {},
   "source": [
    "# !!!Dont Touch!!!"
   ]
  },
  {
   "cell_type": "markdown",
   "metadata": {},
   "source": [
    "### canto - character - occurences\n"
   ]
  },
  {
   "cell_type": "code",
   "execution_count": 2,
   "metadata": {},
   "outputs": [
    {
     "data": {
      "text/plain": [
       "838"
      ]
     },
     "execution_count": 2,
     "metadata": {},
     "output_type": "execute_result"
    }
   ],
   "source": [
    "\n",
    "ch = components.get_char_list()[0]\n",
    "characters = [unidecode(c.lower()) for c in ch]\n",
    "len(ch)\n"
   ]
  },
  {
   "cell_type": "code",
   "execution_count": 3,
   "metadata": {},
   "outputs": [
    {
     "data": {
      "text/html": [
       "<div>\n",
       "<style scoped>\n",
       "    .dataframe tbody tr th:only-of-type {\n",
       "        vertical-align: middle;\n",
       "    }\n",
       "\n",
       "    .dataframe tbody tr th {\n",
       "        vertical-align: top;\n",
       "    }\n",
       "\n",
       "    .dataframe thead th {\n",
       "        text-align: right;\n",
       "    }\n",
       "</style>\n",
       "<table border=\"1\" class=\"dataframe\">\n",
       "  <thead>\n",
       "    <tr style=\"text-align: right;\">\n",
       "      <th></th>\n",
       "      <th>Chapter</th>\n",
       "      <th>Book</th>\n",
       "      <th>Text</th>\n",
       "    </tr>\n",
       "  </thead>\n",
       "  <tbody>\n",
       "    <tr>\n",
       "      <th>0</th>\n",
       "      <td>Invocation</td>\n",
       "      <td>Book</td>\n",
       "      <td>Praise to Válmíki,(2)bird of charming song,(3)...</td>\n",
       "    </tr>\n",
       "    <tr>\n",
       "      <th>1</th>\n",
       "      <td>Canto I. Nárad.</td>\n",
       "      <td>Book I.</td>\n",
       "      <td>OM.(8)  To sainted Nárad, prince of those Wh...</td>\n",
       "    </tr>\n",
       "    <tr>\n",
       "      <th>2</th>\n",
       "      <td>Canto II. Brahmá's Visit</td>\n",
       "      <td>Book I.</td>\n",
       "      <td>Válmíki, graceful speaker, heard, To highest...</td>\n",
       "    </tr>\n",
       "    <tr>\n",
       "      <th>3</th>\n",
       "      <td>Canto III. The Argument.</td>\n",
       "      <td>Book I.</td>\n",
       "      <td>The hermit thus with watchful heed Received ...</td>\n",
       "    </tr>\n",
       "    <tr>\n",
       "      <th>4</th>\n",
       "      <td>Canto IV. The Rhapsodists.</td>\n",
       "      <td>Book I.</td>\n",
       "      <td>When to the end the tale was brought, Rose i...</td>\n",
       "    </tr>\n",
       "    <tr>\n",
       "      <th>5</th>\n",
       "      <td>Canto V. Ayodhyá.</td>\n",
       "      <td>Book I.</td>\n",
       "      <td>\"Ikshváku sons from days of old Were ever br...</td>\n",
       "    </tr>\n",
       "  </tbody>\n",
       "</table>\n",
       "</div>"
      ],
      "text/plain": [
       "                      Chapter     Book  \\\n",
       "0                  Invocation     Book   \n",
       "1             Canto I. Nárad.  Book I.   \n",
       "2    Canto II. Brahmá's Visit  Book I.   \n",
       "3    Canto III. The Argument.  Book I.   \n",
       "4  Canto IV. The Rhapsodists.  Book I.   \n",
       "5           Canto V. Ayodhyá.  Book I.   \n",
       "\n",
       "                                                Text  \n",
       "0  Praise to Válmíki,(2)bird of charming song,(3)...  \n",
       "1    OM.(8)  To sainted Nárad, prince of those Wh...  \n",
       "2    Válmíki, graceful speaker, heard, To highest...  \n",
       "3    The hermit thus with watchful heed Received ...  \n",
       "4    When to the end the tale was brought, Rose i...  \n",
       "5    \"Ikshváku sons from days of old Were ever br...  "
      ]
     },
     "execution_count": 3,
     "metadata": {},
     "output_type": "execute_result"
    }
   ],
   "source": [
    "df = pd.read_csv(\"../data/csv/c_b_t.csv\", encoding='utf-8')\n",
    "df['Text'] = df['Text'].apply(lambda x : re.sub(\"'s\", \"\", (x)))\n",
    "\n",
    "df.head(6)"
   ]
  },
  {
   "cell_type": "code",
   "execution_count": 4,
   "metadata": {},
   "outputs": [
    {
     "data": {
      "text/plain": [
       "True"
      ]
     },
     "execution_count": 4,
     "metadata": {},
     "output_type": "execute_result"
    }
   ],
   "source": [
    "canto= [] \n",
    "person = []\n",
    "occ = []\n",
    "\n",
    "for idx, row in df.iterrows():\n",
    "    txt = unidecode(row[\"Text\"].strip().lower()).split()\n",
    "    d = {}\n",
    "    for word in txt:\n",
    "        if word in characters:\n",
    "            if word in d:\n",
    "                d[word] += 1\n",
    "            else:\n",
    "                d[word] = 1\n",
    "    for key in d:\n",
    "        canto.append(idx)\n",
    "        person.append(key)\n",
    "        occ.append(d[key])\n",
    "    \n",
    "len(canto) == len(person) == len(occ)"
   ]
  },
  {
   "cell_type": "code",
   "execution_count": 5,
   "metadata": {},
   "outputs": [],
   "source": [
    "cpo = pd.DataFrame(list(zip(canto, person, occ)), columns=['Canto', 'Person', 'Occurences'])\n",
    "# cpo.to_csv(\"../data/csv/cpo.csv\", index=False)\n",
    "cpo.to_csv(\"../data/csv/clusts.csv\", index=False)"
   ]
  },
  {
   "cell_type": "markdown",
   "metadata": {},
   "source": [
    "# The Real Stuff"
   ]
  },
  {
   "cell_type": "code",
   "execution_count": 11,
   "metadata": {},
   "outputs": [
    {
     "data": {
      "text/html": [
       "<div>\n",
       "<style scoped>\n",
       "    .dataframe tbody tr th:only-of-type {\n",
       "        vertical-align: middle;\n",
       "    }\n",
       "\n",
       "    .dataframe tbody tr th {\n",
       "        vertical-align: top;\n",
       "    }\n",
       "\n",
       "    .dataframe thead th {\n",
       "        text-align: right;\n",
       "    }\n",
       "</style>\n",
       "<table border=\"1\" class=\"dataframe\">\n",
       "  <thead>\n",
       "    <tr style=\"text-align: right;\">\n",
       "      <th></th>\n",
       "      <th>Canto</th>\n",
       "      <th>Person</th>\n",
       "      <th>Occurences</th>\n",
       "      <th>Normalised</th>\n",
       "      <th>Values</th>\n",
       "      <th>freq_norm</th>\n",
       "      <th>Value_norm</th>\n",
       "      <th>Person_num</th>\n",
       "      <th>CantoTotal</th>\n",
       "      <th>occ_freq</th>\n",
       "    </tr>\n",
       "  </thead>\n",
       "  <tbody>\n",
       "    <tr>\n",
       "      <th>4083</th>\n",
       "      <td>493</td>\n",
       "      <td>manu</td>\n",
       "      <td>1</td>\n",
       "      <td>0.142857</td>\n",
       "      <td>0.142857</td>\n",
       "      <td>0.142857</td>\n",
       "      <td>0.020408</td>\n",
       "      <td>244</td>\n",
       "      <td>45</td>\n",
       "      <td>0.022222</td>\n",
       "    </tr>\n",
       "    <tr>\n",
       "      <th>4084</th>\n",
       "      <td>493</td>\n",
       "      <td>mahendra</td>\n",
       "      <td>1</td>\n",
       "      <td>0.071429</td>\n",
       "      <td>0.071429</td>\n",
       "      <td>0.062500</td>\n",
       "      <td>0.004464</td>\n",
       "      <td>229</td>\n",
       "      <td>45</td>\n",
       "      <td>0.022222</td>\n",
       "    </tr>\n",
       "    <tr>\n",
       "      <th>4085</th>\n",
       "      <td>493</td>\n",
       "      <td>angad</td>\n",
       "      <td>1</td>\n",
       "      <td>0.020833</td>\n",
       "      <td>0.020833</td>\n",
       "      <td>0.010309</td>\n",
       "      <td>0.000215</td>\n",
       "      <td>23</td>\n",
       "      <td>45</td>\n",
       "      <td>0.022222</td>\n",
       "    </tr>\n",
       "    <tr>\n",
       "      <th>4086</th>\n",
       "      <td>493</td>\n",
       "      <td>bali</td>\n",
       "      <td>1</td>\n",
       "      <td>0.017241</td>\n",
       "      <td>0.017241</td>\n",
       "      <td>0.007463</td>\n",
       "      <td>0.000129</td>\n",
       "      <td>53</td>\n",
       "      <td>45</td>\n",
       "      <td>0.022222</td>\n",
       "    </tr>\n",
       "    <tr>\n",
       "      <th>4087</th>\n",
       "      <td>493</td>\n",
       "      <td>hanuman</td>\n",
       "      <td>1</td>\n",
       "      <td>0.015152</td>\n",
       "      <td>0.015152</td>\n",
       "      <td>0.009804</td>\n",
       "      <td>0.000149</td>\n",
       "      <td>130</td>\n",
       "      <td>45</td>\n",
       "      <td>0.022222</td>\n",
       "    </tr>\n",
       "  </tbody>\n",
       "</table>\n",
       "</div>"
      ],
      "text/plain": [
       "      Canto    Person  Occurences  Normalised    Values  freq_norm  \\\n",
       "4083    493      manu           1    0.142857  0.142857   0.142857   \n",
       "4084    493  mahendra           1    0.071429  0.071429   0.062500   \n",
       "4085    493     angad           1    0.020833  0.020833   0.010309   \n",
       "4086    493      bali           1    0.017241  0.017241   0.007463   \n",
       "4087    493   hanuman           1    0.015152  0.015152   0.009804   \n",
       "\n",
       "      Value_norm  Person_num  CantoTotal  occ_freq  \n",
       "4083    0.020408         244          45  0.022222  \n",
       "4084    0.004464         229          45  0.022222  \n",
       "4085    0.000215          23          45  0.022222  \n",
       "4086    0.000129          53          45  0.022222  \n",
       "4087    0.000149         130          45  0.022222  "
      ]
     },
     "execution_count": 11,
     "metadata": {},
     "output_type": "execute_result"
    }
   ],
   "source": [
    "cpo = pd.read_csv(\"../data/csv/clusts.csv\")\n",
    "cpo.tail()"
   ]
  },
  {
   "cell_type": "code",
   "execution_count": 12,
   "metadata": {},
   "outputs": [
    {
     "data": {
      "text/plain": [
       "488"
      ]
     },
     "execution_count": 12,
     "metadata": {},
     "output_type": "execute_result"
    }
   ],
   "source": [
    "cpo.Person.nunique()"
   ]
  },
  {
   "cell_type": "code",
   "execution_count": 18,
   "metadata": {},
   "outputs": [],
   "source": [
    "norm = {}\n",
    "normalised_li = []\n",
    "#normalise: occurence of a character over cantos, summing to 1\n",
    "for i in range(cpo.Person.nunique()):\n",
    "    pers = cpo.Person.value_counts().index.to_list()[i]\n",
    "    dist = (1/cpo.Person.value_counts()[i])\n",
    "    norm[pers] = dist\n",
    "pers_list = cpo[\"Person\"]\n",
    "for i in range(len(pers_list)):\n",
    "    normalised_li.append(norm[pers_list[i]])\n",
    "cpo.drop('Normalised', axis=1, inplace=True)\n",
    "cpo.insert(3, \"Normalised\", normalised_li, True)\n"
   ]
  },
  {
   "cell_type": "code",
   "execution_count": 20,
   "metadata": {},
   "outputs": [],
   "source": [
    "cpo[\"Values\"] = cpo[\"Occurences\"] * cpo[\"Normalised\"]\n",
    "#normalised, I take to be a weight -ie., compared to how many chapters the character appears in, \n",
    "# how important are you to treat the occurences in 1\n",
    "\n",
    "#or maybe it should be that the frequency of occurences defines the chapter importance\n",
    "# ie., calculate weight of a chapter for a character, compared to their occurences in all others\n",
    "#  ie., normalise occ freq too, in that -> norm = (occurences/total occurences in book)"
   ]
  },
  {
   "cell_type": "code",
   "execution_count": 25,
   "metadata": {},
   "outputs": [],
   "source": [
    "freq_count = {}\n",
    "norms = []\n",
    "for idx, row in cpo.iterrows():\n",
    "    if row[\"Person\"] in freq_count:\n",
    "        freq_count[row[\"Person\"]] += row[\"Occurences\"]\n",
    "    else:\n",
    "        freq_count[row[\"Person\"]] = row[\"Occurences\"]\n",
    "\n",
    "for idx, row in cpo.iterrows():\n",
    "    norms.append(row[\"Occurences\"]/freq_count[row[\"Person\"]])\n",
    "\n",
    "cpo.drop('freq_norm', axis=1, inplace=True)\n",
    "\n",
    "cpo.insert(5, \"freq_norm\",norms, True)"
   ]
  },
  {
   "cell_type": "code",
   "execution_count": 28,
   "metadata": {},
   "outputs": [],
   "source": [
    "cpo[\"Value_norm\"] = cpo[\"freq_norm\"] * cpo[\"Normalised\"]\n"
   ]
  },
  {
   "cell_type": "code",
   "execution_count": 29,
   "metadata": {},
   "outputs": [
    {
     "data": {
      "text/plain": [
       "2"
      ]
     },
     "execution_count": 29,
     "metadata": {},
     "output_type": "execute_result"
    }
   ],
   "source": [
    "i=0\n",
    "df = cpo[cpo[\"Canto\"] == i]\n",
    "df.shape[0]"
   ]
  },
  {
   "cell_type": "code",
   "execution_count": 30,
   "metadata": {},
   "outputs": [],
   "source": [
    "cpo['Person_num'] = pd.Categorical(cpo['Person']).codes\n",
    "\n"
   ]
  },
  {
   "cell_type": "code",
   "execution_count": 34,
   "metadata": {},
   "outputs": [],
   "source": [
    "#adding total character occurences in canto\n",
    "canto_occs = []\n",
    "for i in range(0, 494):\n",
    "    df = cpo[cpo[\"Canto\"] == i]\n",
    "    for j in range(df.shape[0]):\n",
    "        canto_occs.append(df[\"Occurences\"].sum())\n",
    "# len(canto_occs)\n",
    "cpo.drop(\"CantoTotal\", axis=1, inplace=True)\n",
    "cpo.insert(8, \"CantoTotal\", canto_occs, True) "
   ]
  },
  {
   "cell_type": "code",
   "execution_count": 35,
   "metadata": {},
   "outputs": [
    {
     "data": {
      "text/html": [
       "<div>\n",
       "<style scoped>\n",
       "    .dataframe tbody tr th:only-of-type {\n",
       "        vertical-align: middle;\n",
       "    }\n",
       "\n",
       "    .dataframe tbody tr th {\n",
       "        vertical-align: top;\n",
       "    }\n",
       "\n",
       "    .dataframe thead th {\n",
       "        text-align: right;\n",
       "    }\n",
       "</style>\n",
       "<table border=\"1\" class=\"dataframe\">\n",
       "  <thead>\n",
       "    <tr style=\"text-align: right;\">\n",
       "      <th></th>\n",
       "      <th>Canto</th>\n",
       "      <th>Person</th>\n",
       "      <th>Occurences</th>\n",
       "      <th>Normalised</th>\n",
       "      <th>Values</th>\n",
       "      <th>freq_norm</th>\n",
       "      <th>Value_norm</th>\n",
       "      <th>Person_num</th>\n",
       "      <th>CantoTotal</th>\n",
       "      <th>occ_freq</th>\n",
       "    </tr>\n",
       "  </thead>\n",
       "  <tbody>\n",
       "    <tr>\n",
       "      <th>0</th>\n",
       "      <td>0</td>\n",
       "      <td>valmiki</td>\n",
       "      <td>1</td>\n",
       "      <td>0.250000</td>\n",
       "      <td>0.250000</td>\n",
       "      <td>0.111111</td>\n",
       "      <td>0.027778</td>\n",
       "      <td>435</td>\n",
       "      <td>4</td>\n",
       "      <td>0.250000</td>\n",
       "    </tr>\n",
       "    <tr>\n",
       "      <th>1</th>\n",
       "      <td>0</td>\n",
       "      <td>rama</td>\n",
       "      <td>3</td>\n",
       "      <td>0.002717</td>\n",
       "      <td>0.008152</td>\n",
       "      <td>0.002151</td>\n",
       "      <td>0.000006</td>\n",
       "      <td>312</td>\n",
       "      <td>4</td>\n",
       "      <td>0.750000</td>\n",
       "    </tr>\n",
       "    <tr>\n",
       "      <th>2</th>\n",
       "      <td>1</td>\n",
       "      <td>rama</td>\n",
       "      <td>26</td>\n",
       "      <td>0.002717</td>\n",
       "      <td>0.070652</td>\n",
       "      <td>0.018638</td>\n",
       "      <td>0.000051</td>\n",
       "      <td>312</td>\n",
       "      <td>78</td>\n",
       "      <td>0.333333</td>\n",
       "    </tr>\n",
       "    <tr>\n",
       "      <th>3</th>\n",
       "      <td>1</td>\n",
       "      <td>vishnu</td>\n",
       "      <td>1</td>\n",
       "      <td>0.025000</td>\n",
       "      <td>0.025000</td>\n",
       "      <td>0.016667</td>\n",
       "      <td>0.000417</td>\n",
       "      <td>466</td>\n",
       "      <td>78</td>\n",
       "      <td>0.012821</td>\n",
       "    </tr>\n",
       "    <tr>\n",
       "      <th>4</th>\n",
       "      <td>1</td>\n",
       "      <td>kaikeyi</td>\n",
       "      <td>1</td>\n",
       "      <td>0.014493</td>\n",
       "      <td>0.014493</td>\n",
       "      <td>0.008475</td>\n",
       "      <td>0.000123</td>\n",
       "      <td>161</td>\n",
       "      <td>78</td>\n",
       "      <td>0.012821</td>\n",
       "    </tr>\n",
       "  </tbody>\n",
       "</table>\n",
       "</div>"
      ],
      "text/plain": [
       "   Canto   Person  Occurences  Normalised    Values  freq_norm  Value_norm  \\\n",
       "0      0  valmiki           1    0.250000  0.250000   0.111111    0.027778   \n",
       "1      0     rama           3    0.002717  0.008152   0.002151    0.000006   \n",
       "2      1     rama          26    0.002717  0.070652   0.018638    0.000051   \n",
       "3      1   vishnu           1    0.025000  0.025000   0.016667    0.000417   \n",
       "4      1  kaikeyi           1    0.014493  0.014493   0.008475    0.000123   \n",
       "\n",
       "   Person_num  CantoTotal  occ_freq  \n",
       "0         435           4  0.250000  \n",
       "1         312           4  0.750000  \n",
       "2         312          78  0.333333  \n",
       "3         466          78  0.012821  \n",
       "4         161          78  0.012821  "
      ]
     },
     "execution_count": 35,
     "metadata": {},
     "output_type": "execute_result"
    }
   ],
   "source": [
    "cpo.head()"
   ]
  },
  {
   "cell_type": "code",
   "execution_count": 36,
   "metadata": {},
   "outputs": [],
   "source": [
    "cpo[\"occ_freq\"] = cpo[\"Occurences\"] / cpo[\"CantoTotal\"] #importance of character to chapter"
   ]
  },
  {
   "cell_type": "code",
   "execution_count": 37,
   "metadata": {},
   "outputs": [
    {
     "data": {
      "text/html": [
       "<div>\n",
       "<style scoped>\n",
       "    .dataframe tbody tr th:only-of-type {\n",
       "        vertical-align: middle;\n",
       "    }\n",
       "\n",
       "    .dataframe tbody tr th {\n",
       "        vertical-align: top;\n",
       "    }\n",
       "\n",
       "    .dataframe thead th {\n",
       "        text-align: right;\n",
       "    }\n",
       "</style>\n",
       "<table border=\"1\" class=\"dataframe\">\n",
       "  <thead>\n",
       "    <tr style=\"text-align: right;\">\n",
       "      <th></th>\n",
       "      <th>Canto</th>\n",
       "      <th>Person</th>\n",
       "      <th>Occurences</th>\n",
       "      <th>Normalised</th>\n",
       "      <th>Values</th>\n",
       "      <th>freq_norm</th>\n",
       "      <th>Value_norm</th>\n",
       "      <th>Person_num</th>\n",
       "      <th>CantoTotal</th>\n",
       "      <th>occ_freq</th>\n",
       "    </tr>\n",
       "  </thead>\n",
       "  <tbody>\n",
       "    <tr>\n",
       "      <th>0</th>\n",
       "      <td>0</td>\n",
       "      <td>valmiki</td>\n",
       "      <td>1</td>\n",
       "      <td>0.250000</td>\n",
       "      <td>0.250000</td>\n",
       "      <td>0.111111</td>\n",
       "      <td>0.027778</td>\n",
       "      <td>435</td>\n",
       "      <td>4</td>\n",
       "      <td>0.250000</td>\n",
       "    </tr>\n",
       "    <tr>\n",
       "      <th>1</th>\n",
       "      <td>0</td>\n",
       "      <td>rama</td>\n",
       "      <td>3</td>\n",
       "      <td>0.002717</td>\n",
       "      <td>0.008152</td>\n",
       "      <td>0.002151</td>\n",
       "      <td>0.000006</td>\n",
       "      <td>312</td>\n",
       "      <td>4</td>\n",
       "      <td>0.750000</td>\n",
       "    </tr>\n",
       "    <tr>\n",
       "      <th>2</th>\n",
       "      <td>1</td>\n",
       "      <td>rama</td>\n",
       "      <td>26</td>\n",
       "      <td>0.002717</td>\n",
       "      <td>0.070652</td>\n",
       "      <td>0.018638</td>\n",
       "      <td>0.000051</td>\n",
       "      <td>312</td>\n",
       "      <td>78</td>\n",
       "      <td>0.333333</td>\n",
       "    </tr>\n",
       "    <tr>\n",
       "      <th>3</th>\n",
       "      <td>1</td>\n",
       "      <td>vishnu</td>\n",
       "      <td>1</td>\n",
       "      <td>0.025000</td>\n",
       "      <td>0.025000</td>\n",
       "      <td>0.016667</td>\n",
       "      <td>0.000417</td>\n",
       "      <td>466</td>\n",
       "      <td>78</td>\n",
       "      <td>0.012821</td>\n",
       "    </tr>\n",
       "    <tr>\n",
       "      <th>4</th>\n",
       "      <td>1</td>\n",
       "      <td>kaikeyi</td>\n",
       "      <td>1</td>\n",
       "      <td>0.014493</td>\n",
       "      <td>0.014493</td>\n",
       "      <td>0.008475</td>\n",
       "      <td>0.000123</td>\n",
       "      <td>161</td>\n",
       "      <td>78</td>\n",
       "      <td>0.012821</td>\n",
       "    </tr>\n",
       "  </tbody>\n",
       "</table>\n",
       "</div>"
      ],
      "text/plain": [
       "   Canto   Person  Occurences  Normalised    Values  freq_norm  Value_norm  \\\n",
       "0      0  valmiki           1    0.250000  0.250000   0.111111    0.027778   \n",
       "1      0     rama           3    0.002717  0.008152   0.002151    0.000006   \n",
       "2      1     rama          26    0.002717  0.070652   0.018638    0.000051   \n",
       "3      1   vishnu           1    0.025000  0.025000   0.016667    0.000417   \n",
       "4      1  kaikeyi           1    0.014493  0.014493   0.008475    0.000123   \n",
       "\n",
       "   Person_num  CantoTotal  occ_freq  \n",
       "0         435           4  0.250000  \n",
       "1         312           4  0.750000  \n",
       "2         312          78  0.333333  \n",
       "3         466          78  0.012821  \n",
       "4         161          78  0.012821  "
      ]
     },
     "execution_count": 37,
     "metadata": {},
     "output_type": "execute_result"
    }
   ],
   "source": [
    "cpo.head()\n",
    "# cpo.shape"
   ]
  },
  {
   "cell_type": "markdown",
   "metadata": {},
   "source": [
    "### HClust"
   ]
  },
  {
   "cell_type": "code",
   "execution_count": 54,
   "metadata": {},
   "outputs": [],
   "source": [
    "cpo = pd.read_csv(\"../data/csv/clusts.csv\")"
   ]
  },
  {
   "cell_type": "code",
   "execution_count": 55,
   "metadata": {},
   "outputs": [
    {
     "data": {
      "text/html": [
       "<div>\n",
       "<style scoped>\n",
       "    .dataframe tbody tr th:only-of-type {\n",
       "        vertical-align: middle;\n",
       "    }\n",
       "\n",
       "    .dataframe tbody tr th {\n",
       "        vertical-align: top;\n",
       "    }\n",
       "\n",
       "    .dataframe thead th {\n",
       "        text-align: right;\n",
       "    }\n",
       "</style>\n",
       "<table border=\"1\" class=\"dataframe\">\n",
       "  <thead>\n",
       "    <tr style=\"text-align: right;\">\n",
       "      <th></th>\n",
       "      <th>Canto</th>\n",
       "      <th>Person</th>\n",
       "      <th>Occurences</th>\n",
       "      <th>Normalised</th>\n",
       "      <th>Values</th>\n",
       "      <th>freq_norm</th>\n",
       "      <th>Value_norm</th>\n",
       "      <th>Person_num</th>\n",
       "      <th>CantoTotal</th>\n",
       "      <th>occ_freq</th>\n",
       "    </tr>\n",
       "  </thead>\n",
       "  <tbody>\n",
       "    <tr>\n",
       "      <th>2663</th>\n",
       "      <td>300</td>\n",
       "      <td>rama</td>\n",
       "      <td>1</td>\n",
       "      <td>0.002717</td>\n",
       "      <td>0.002717</td>\n",
       "      <td>0.000717</td>\n",
       "      <td>0.000002</td>\n",
       "      <td>312</td>\n",
       "      <td>15</td>\n",
       "      <td>0.066667</td>\n",
       "    </tr>\n",
       "    <tr>\n",
       "      <th>2664</th>\n",
       "      <td>300</td>\n",
       "      <td>sugriva</td>\n",
       "      <td>3</td>\n",
       "      <td>0.010000</td>\n",
       "      <td>0.030000</td>\n",
       "      <td>0.011278</td>\n",
       "      <td>0.000113</td>\n",
       "      <td>379</td>\n",
       "      <td>15</td>\n",
       "      <td>0.200000</td>\n",
       "    </tr>\n",
       "    <tr>\n",
       "      <th>2665</th>\n",
       "      <td>300</td>\n",
       "      <td>janak</td>\n",
       "      <td>1</td>\n",
       "      <td>0.016667</td>\n",
       "      <td>0.016667</td>\n",
       "      <td>0.011765</td>\n",
       "      <td>0.000196</td>\n",
       "      <td>150</td>\n",
       "      <td>15</td>\n",
       "      <td>0.066667</td>\n",
       "    </tr>\n",
       "    <tr>\n",
       "      <th>2666</th>\n",
       "      <td>300</td>\n",
       "      <td>raghu</td>\n",
       "      <td>2</td>\n",
       "      <td>0.004545</td>\n",
       "      <td>0.009091</td>\n",
       "      <td>0.005038</td>\n",
       "      <td>0.000023</td>\n",
       "      <td>309</td>\n",
       "      <td>15</td>\n",
       "      <td>0.133333</td>\n",
       "    </tr>\n",
       "    <tr>\n",
       "      <th>2667</th>\n",
       "      <td>300</td>\n",
       "      <td>indra</td>\n",
       "      <td>2</td>\n",
       "      <td>0.006369</td>\n",
       "      <td>0.012739</td>\n",
       "      <td>0.008658</td>\n",
       "      <td>0.000055</td>\n",
       "      <td>141</td>\n",
       "      <td>15</td>\n",
       "      <td>0.133333</td>\n",
       "    </tr>\n",
       "  </tbody>\n",
       "</table>\n",
       "</div>"
      ],
      "text/plain": [
       "      Canto   Person  Occurences  Normalised    Values  freq_norm  Value_norm  \\\n",
       "2663    300     rama           1    0.002717  0.002717   0.000717    0.000002   \n",
       "2664    300  sugriva           3    0.010000  0.030000   0.011278    0.000113   \n",
       "2665    300    janak           1    0.016667  0.016667   0.011765    0.000196   \n",
       "2666    300    raghu           2    0.004545  0.009091   0.005038    0.000023   \n",
       "2667    300    indra           2    0.006369  0.012739   0.008658    0.000055   \n",
       "\n",
       "      Person_num  CantoTotal  occ_freq  \n",
       "2663         312          15  0.066667  \n",
       "2664         379          15  0.200000  \n",
       "2665         150          15  0.066667  \n",
       "2666         309          15  0.133333  \n",
       "2667         141          15  0.133333  "
      ]
     },
     "execution_count": 55,
     "metadata": {},
     "output_type": "execute_result"
    }
   ],
   "source": [
    "r = (\n",
    " cpo.query(\"Canto == 300\"))\n",
    "r.head()"
   ]
  },
  {
   "cell_type": "code",
   "execution_count": 56,
   "metadata": {},
   "outputs": [],
   "source": [
    "# canto_ppl = cpo.drop_duplicates('Person')\n",
    "# canto_ppl.head()\n",
    "# t = cpo.query(\"Person == 'lakshman' or Person == 'rama'\").query(\"Canto == 492\")\n",
    "# t"
   ]
  },
  {
   "cell_type": "code",
   "execution_count": 57,
   "metadata": {},
   "outputs": [
    {
     "data": {
      "text/plain": [
       "(11,)"
      ]
     },
     "execution_count": 57,
     "metadata": {},
     "output_type": "execute_result"
    }
   ],
   "source": [
    "r.Person.shape"
   ]
  },
  {
   "cell_type": "code",
   "execution_count": 58,
   "metadata": {},
   "outputs": [
    {
     "data": {
      "text/plain": [
       "55"
      ]
     },
     "execution_count": 58,
     "metadata": {},
     "output_type": "execute_result"
    }
   ],
   "source": [
    "len(list(itertools.combinations(range(len(r[\"Person\"])),2)))\n",
    "# nC2 for 1D condensed distance matrix for input y: maps distances between various points: in this case the chars\n",
    "# len(list(itertools.combinations(range(len(canto_ppl[\"Person\"])),2)))\n"
   ]
  },
  {
   "cell_type": "code",
   "execution_count": 59,
   "metadata": {},
   "outputs": [
    {
     "data": {
      "text/plain": [
       "55"
      ]
     },
     "execution_count": 59,
     "metadata": {},
     "output_type": "execute_result"
    }
   ],
   "source": [
    "occ = r.Values.to_list()\n",
    "chap = r.Canto.to_list()\n",
    "labels = r.Person.to_list()\n",
    "\n",
    "#need condensed distance matrix\n",
    "x = np.array([[occ[i]] for i in range(len(occ))])\n",
    "\n",
    "#NOT WORKING - why the same hclust op for x and cond_mat both?\n",
    "\n",
    "cond_mat = scipy.spatial.distance.pdist(x)\n",
    "len(cond_mat)\n"
   ]
  },
  {
   "cell_type": "code",
   "execution_count": 60,
   "metadata": {},
   "outputs": [
    {
     "data": {
      "text/plain": [
       "array([2.00000000e+00, 1.00000000e+01, 5.74712644e-04, 2.00000000e+00])"
      ]
     },
     "execution_count": 60,
     "metadata": {},
     "output_type": "execute_result"
    }
   ],
   "source": [
    "hclust = sch.linkage(cond_mat)\n",
    "hclust[0]"
   ]
  },
  {
   "cell_type": "code",
   "execution_count": 61,
   "metadata": {},
   "outputs": [
    {
     "data": {
      "image/png": "[encoded data removed]",
      "text/plain": [
       "<Figure size 720x720 with 1 Axes>"
      ]
     },
     "metadata": {},
     "output_type": "display_data"
    }
   ],
   "source": [
    "plt.figure(figsize=(10,10))\n",
    "\n",
    "dend = sch.dendrogram(hclust, labels=labels, orientation='right') #leaf-rotation"
   ]
  },
  {
   "cell_type": "code",
   "execution_count": 24,
   "metadata": {},
   "outputs": [],
   "source": [
    "# Y = canto_ppl.Values.to_numpy()\n",
    "# Y_d = np.reshape(Y, (len(Y), 1))\n",
    "# link_mat = sch.linkage(Y_d)\n",
    "# link_mat.shape\n",
    "# # Y_d.shape"
   ]
  },
  {
   "cell_type": "code",
   "execution_count": 25,
   "metadata": {},
   "outputs": [],
   "source": [
    "# Z = link_mat[:20]\n",
    "# Z.shape\n"
   ]
  },
  {
   "cell_type": "code",
   "execution_count": 26,
   "metadata": {},
   "outputs": [],
   "source": [
    "# plt.figure(figsize=(100,10))\n",
    "# dend = sch.dendrogram(link_mat, labels=label_list)\n",
    "# # dend = sch.dendrogram(link_mat, p=5, truncate_mode='lastp', labels=label_list)#truncating"
   ]
  },
  {
   "cell_type": "code",
   "execution_count": 27,
   "metadata": {},
   "outputs": [],
   "source": [
    "# complete_clustering = sch.linkage(Y_d, method=\"complete\", metric=\"euclidean\")\n",
    "# average_clustering = sch.linkage(Y_d, method=\"average\", metric=\"euclidean\")\n",
    "# single_clustering = sch.linkage(Y_d, method=\"single\", metric=\"euclidean\")\n"
   ]
  },
  {
   "cell_type": "code",
   "execution_count": 28,
   "metadata": {},
   "outputs": [],
   "source": [
    "# plt.figure(figsize=(10,10))\n",
    "# sch.dendrogram(complete_clustering)\n",
    "# plt.show()"
   ]
  },
  {
   "cell_type": "markdown",
   "metadata": {},
   "source": [
    "## KMeans"
   ]
  },
  {
   "cell_type": "code",
   "execution_count": 29,
   "metadata": {},
   "outputs": [
    {
     "data": {
      "text/html": [
       "<div>\n",
       "<style scoped>\n",
       "    .dataframe tbody tr th:only-of-type {\n",
       "        vertical-align: middle;\n",
       "    }\n",
       "\n",
       "    .dataframe tbody tr th {\n",
       "        vertical-align: top;\n",
       "    }\n",
       "\n",
       "    .dataframe thead th {\n",
       "        text-align: right;\n",
       "    }\n",
       "</style>\n",
       "<table border=\"1\" class=\"dataframe\">\n",
       "  <thead>\n",
       "    <tr style=\"text-align: right;\">\n",
       "      <th></th>\n",
       "      <th>Canto</th>\n",
       "      <th>Person</th>\n",
       "      <th>Occurences</th>\n",
       "      <th>Normalised</th>\n",
       "      <th>Values</th>\n",
       "      <th>freq_norm</th>\n",
       "      <th>Value_norm</th>\n",
       "      <th>Person_num</th>\n",
       "      <th>CantoTotal</th>\n",
       "      <th>occ_freq</th>\n",
       "    </tr>\n",
       "  </thead>\n",
       "  <tbody>\n",
       "    <tr>\n",
       "      <th>0</th>\n",
       "      <td>0</td>\n",
       "      <td>valmiki</td>\n",
       "      <td>1</td>\n",
       "      <td>0.250000</td>\n",
       "      <td>0.250000</td>\n",
       "      <td>0.111111</td>\n",
       "      <td>0.027778</td>\n",
       "      <td>435</td>\n",
       "      <td>4</td>\n",
       "      <td>0.250000</td>\n",
       "    </tr>\n",
       "    <tr>\n",
       "      <th>1</th>\n",
       "      <td>0</td>\n",
       "      <td>rama</td>\n",
       "      <td>3</td>\n",
       "      <td>0.002717</td>\n",
       "      <td>0.008152</td>\n",
       "      <td>0.002151</td>\n",
       "      <td>0.000006</td>\n",
       "      <td>312</td>\n",
       "      <td>4</td>\n",
       "      <td>0.750000</td>\n",
       "    </tr>\n",
       "    <tr>\n",
       "      <th>2</th>\n",
       "      <td>1</td>\n",
       "      <td>rama</td>\n",
       "      <td>26</td>\n",
       "      <td>0.002717</td>\n",
       "      <td>0.070652</td>\n",
       "      <td>0.018638</td>\n",
       "      <td>0.000051</td>\n",
       "      <td>312</td>\n",
       "      <td>78</td>\n",
       "      <td>0.333333</td>\n",
       "    </tr>\n",
       "    <tr>\n",
       "      <th>3</th>\n",
       "      <td>1</td>\n",
       "      <td>vishnu</td>\n",
       "      <td>1</td>\n",
       "      <td>0.025000</td>\n",
       "      <td>0.025000</td>\n",
       "      <td>0.016667</td>\n",
       "      <td>0.000417</td>\n",
       "      <td>466</td>\n",
       "      <td>78</td>\n",
       "      <td>0.012821</td>\n",
       "    </tr>\n",
       "    <tr>\n",
       "      <th>4</th>\n",
       "      <td>1</td>\n",
       "      <td>kaikeyi</td>\n",
       "      <td>1</td>\n",
       "      <td>0.014493</td>\n",
       "      <td>0.014493</td>\n",
       "      <td>0.008475</td>\n",
       "      <td>0.000123</td>\n",
       "      <td>161</td>\n",
       "      <td>78</td>\n",
       "      <td>0.012821</td>\n",
       "    </tr>\n",
       "  </tbody>\n",
       "</table>\n",
       "</div>"
      ],
      "text/plain": [
       "   Canto   Person  Occurences  Normalised    Values  freq_norm  Value_norm  \\\n",
       "0      0  valmiki           1    0.250000  0.250000   0.111111    0.027778   \n",
       "1      0     rama           3    0.002717  0.008152   0.002151    0.000006   \n",
       "2      1     rama          26    0.002717  0.070652   0.018638    0.000051   \n",
       "3      1   vishnu           1    0.025000  0.025000   0.016667    0.000417   \n",
       "4      1  kaikeyi           1    0.014493  0.014493   0.008475    0.000123   \n",
       "\n",
       "   Person_num  CantoTotal  occ_freq  \n",
       "0         435           4  0.250000  \n",
       "1         312           4  0.750000  \n",
       "2         312          78  0.333333  \n",
       "3         466          78  0.012821  \n",
       "4         161          78  0.012821  "
      ]
     },
     "execution_count": 29,
     "metadata": {},
     "output_type": "execute_result"
    }
   ],
   "source": [
    "cpo.head()"
   ]
  },
  {
   "cell_type": "code",
   "execution_count": 31,
   "metadata": {},
   "outputs": [
    {
     "data": {
      "text/plain": [
       "487"
      ]
     },
     "execution_count": 31,
     "metadata": {},
     "output_type": "execute_result"
    }
   ],
   "source": [
    "cpo.Person_num.max()"
   ]
  },
  {
   "cell_type": "code",
   "execution_count": 32,
   "metadata": {},
   "outputs": [],
   "source": [
    "X = cpo.iloc[:, [0,3,5,7]]\n",
    "# Y = cpo.Value_norm #maybe?"
   ]
  },
  {
   "cell_type": "code",
   "execution_count": 29,
   "metadata": {},
   "outputs": [
    {
     "data": {
      "image/png": "[encoded data removed]",
      "text/plain": [
       "<Figure size 576x396 with 2 Axes>"
      ]
     },
     "metadata": {},
     "output_type": "display_data"
    }
   ],
   "source": [
    "model = KMeans()\n",
    "vis = KElbowVisualizer(model, k=(1, 20))\n",
    "vis.fit(X)\n",
    "vis.show()\n",
    "plt.show()"
   ]
  },
  {
   "cell_type": "markdown",
   "metadata": {},
   "source": [
    "### Test"
   ]
  },
  {
   "cell_type": "code",
   "execution_count": 30,
   "metadata": {},
   "outputs": [],
   "source": [
    "# instatiate KMeans class and set the number of clusters\n",
    "km_model = KMeans(n_clusters=4, random_state=10)\n",
    "\n",
    "# call fit method with data \n",
    "km = km_model.fit_predict(X)\n",
    "\n",
    "# coordinates of cluster center\n",
    "centroids = km_model.cluster_centers_ \n",
    "\n",
    "# cluster label for each data point\n",
    "labels = km_model.labels_ \n",
    "\n",
    "km = km.tolist()\n"
   ]
  },
  {
   "cell_type": "code",
   "execution_count": 31,
   "metadata": {},
   "outputs": [
    {
     "data": {
      "text/plain": [
       "4088"
      ]
     },
     "execution_count": 31,
     "metadata": {},
     "output_type": "execute_result"
    }
   ],
   "source": [
    "len(list(itertools.combinations(range(len(cpo[\"Person\"])),2)))\n",
    "len(cpo[\"Person\"])"
   ]
  },
  {
   "cell_type": "code",
   "execution_count": 32,
   "metadata": {},
   "outputs": [
    {
     "data": {
      "text/plain": [
       "4088"
      ]
     },
     "execution_count": 32,
     "metadata": {},
     "output_type": "execute_result"
    }
   ],
   "source": [
    "len(km)"
   ]
  },
  {
   "cell_type": "code",
   "execution_count": 33,
   "metadata": {},
   "outputs": [],
   "source": [
    "# #km has the clusters that each character belongs to\n",
    "\n",
    "# labels = cpo[\"Person\"].to_list()\n",
    "\n",
    "# clust = list(zip(km, labels))\n",
    "\n",
    "# #returns list of tuples"
   ]
  },
  {
   "cell_type": "code",
   "execution_count": 34,
   "metadata": {},
   "outputs": [],
   "source": [
    "# clust[0][1]"
   ]
  },
  {
   "cell_type": "code",
   "execution_count": 35,
   "metadata": {},
   "outputs": [
    {
     "data": {
      "text/plain": [
       "112"
      ]
     },
     "execution_count": 35,
     "metadata": {},
     "output_type": "execute_result"
    }
   ],
   "source": [
    "# c1 = [clust[i][1] for i in range(len(clust)) if(clust[i][0] == 1)]\n",
    "# len(c1)\n",
    "c1_idx = [i for i in range(len(km)) if(km[i] == 0)]\n",
    "\n",
    "#drop duplicate persons in same cluster\n",
    "check_dupli = []\n",
    "c1_indices = []\n",
    "for i in c1_idx:\n",
    "    if cpo[\"Person\"][i] not in check_dupli:\n",
    "        check_dupli.append(cpo[\"Person\"][i])  \n",
    "        c1_indices.append(i)\n",
    "#only the first instances get added: ie., freq_norm of only the first occurence of the character\n",
    "# same problem as with h_clust - \n",
    "#some data is lost, because only the first few chapters get visualised properly, probably\n",
    "        \n",
    "\"\"\"Therefore, do multiple scatters as subplots: with each canto: segeregate canto wise via i\"\"\"\n",
    "len(c1_indices)\n"
   ]
  },
  {
   "cell_type": "markdown",
   "metadata": {},
   "source": [
    "##### cantos seem to be progressively divided between clusters: I think the model just split stuf canto wise\n",
    "Not when 's were removed though- the records also increased; which is actually weird, because it means that more characters started appearing in more chapters; well the characters also increased(500 nowhere near 800 though - how did 300 of them get lost) - but it is an indordinately disproportionate increase\n",
    "\n",
    "##### try removing canto column from X: input to kmeans model\n"
   ]
  },
  {
   "cell_type": "code",
   "execution_count": 36,
   "metadata": {},
   "outputs": [],
   "source": [
    "cantos = [cpo[\"Canto\"][i] for i in c1_indices]\n",
    "#c1 indices are all the row indices in 1 cluster, as specified in above cell\n",
    "# assuming that each val in km array maps to each row in the data: ie., each person record\n",
    "# cantos is list of all cantos in specified cluster(repetitive-mapped to index)\n",
    "# cantos"
   ]
  },
  {
   "cell_type": "code",
   "execution_count": 72,
   "metadata": {},
   "outputs": [
    {
     "data": {
      "text/plain": [
       "['lakshman',\n",
       " 'gandharvas',\n",
       " 'kosal',\n",
       " 'mahendra',\n",
       " 'dasaratha',\n",
       " 'bharat',\n",
       " 'indra',\n",
       " 'ikshvaku',\n",
       " 'lakshman',\n",
       " 'janasthan',\n",
       " 'gandharvas',\n",
       " 'kinnars',\n",
       " 'jatayus',\n",
       " 'dasaratha',\n",
       " 'dandak',\n",
       " 'ikshvaku',\n",
       " 'janasthan',\n",
       " 'krauncha',\n",
       " 'lakshman',\n",
       " 'kabandha',\n",
       " 'dasaratha']"
      ]
     },
     "execution_count": 72,
     "metadata": {},
     "output_type": "execute_result"
    },
    {
     "data": {
      "image/png": "[encoded data removed]",
      "text/plain": [
       "<Figure size 720x720 with 1 Axes>"
      ]
     },
     "metadata": {},
     "output_type": "display_data"
    }
   ],
   "source": [
    "plt.figure(figsize=(10,10))\n",
    "fro = 260\n",
    "to = 265\n",
    "chap = [i for i in range(fro, to)]\n",
    "\n",
    "#all norm vals for records in clust, filtered by mentioned chaps\n",
    "x = [cpo[\"Normalised\"][i] for i in c1_indices if cpo[\"Canto\"][i] in chap]\n",
    "y = [cpo[\"freq_norm\"][i] for i in c1_indices if cpo[\"Canto\"][i] in chap]\n",
    "l = [cpo[\"Person\"][i] for i in c1_indices if cpo[\"Canto\"][i] in chap]\n",
    "plt.scatter(x, y)\n",
    "for i, txt in enumerate(l):\n",
    "    plt.annotate(txt, (x[i], y[i]))\n",
    "l\n"
   ]
  },
  {
   "cell_type": "markdown",
   "metadata": {},
   "source": [
    "#### In the plot with 5 cluster subplots(or one plot with multiple colored clusters): show animation(on same timeline) of clusters changing over chapters. Since it will be chapter-wise, dont need to worry about same character appearing twice at one point in time. But it might happen that one character hops clusters over time\n"
   ]
  },
  {
   "cell_type": "code",
   "execution_count": 39,
   "metadata": {},
   "outputs": [],
   "source": [
    "# # define dictionary for distance measures\n",
    "# distance_measures = {'euclidean': 0, 'squared euclidean': 1, 'manhattan': 2, 'chebyshev': 3, \n",
    "#                     'canberra': 5, 'chi-square': 6}\n",
    "\n",
    "# # function defined to compute purity score using pyclustering for various distance measures\n",
    "# def pyPurity(dist_measure):\n",
    "#     initial_centers = random_center_initializer(X, 3, random_state=5).initialize()\n",
    "#     # instance created for respective distance metric\n",
    "#     instanceKm = kmeans(X, initial_centers=initial_centers, metric=distance_metric(dist_measure))\n",
    "#     # perform cluster analysis\n",
    "#     instanceKm.process()\n",
    "#     # cluster analysis results - clusters and centers\n",
    "#     pyClusters = instanceKm.get_clusters()\n",
    "#     pyCenters = instanceKm.get_centers()\n",
    "#     # enumerate encoding type to index labeling to get labels\n",
    "#     pyEncoding = instanceKm.get_cluster_encoding()\n",
    "#     pyEncoder = cluster_encoder(pyEncoding, pyClusters, X)\n",
    "#     pyLabels = pyEncoder.set_encoding(0).get_clusters()\n",
    "#     # function purity score is defined in previous section\n",
    "#     return purity_score(y, pyLabels)\n",
    "\n",
    "# # print results\n",
    "# for measure, value in distance_measures.items():\n",
    "#     print(f\"The purity score for {measure} distance is {round(pyPurity(value)*100, 2)}%\")\n"
   ]
  },
  {
   "cell_type": "markdown",
   "metadata": {},
   "source": [
    "### Sense?"
   ]
  },
  {
   "cell_type": "code",
   "execution_count": 30,
   "metadata": {},
   "outputs": [
    {
     "data": {
      "text/html": [
       "<div>\n",
       "<style scoped>\n",
       "    .dataframe tbody tr th:only-of-type {\n",
       "        vertical-align: middle;\n",
       "    }\n",
       "\n",
       "    .dataframe tbody tr th {\n",
       "        vertical-align: top;\n",
       "    }\n",
       "\n",
       "    .dataframe thead th {\n",
       "        text-align: right;\n",
       "    }\n",
       "</style>\n",
       "<table border=\"1\" class=\"dataframe\">\n",
       "  <thead>\n",
       "    <tr style=\"text-align: right;\">\n",
       "      <th></th>\n",
       "      <th>Canto</th>\n",
       "      <th>Person</th>\n",
       "      <th>Occurences</th>\n",
       "      <th>Normalised</th>\n",
       "      <th>Values</th>\n",
       "      <th>freq_norm</th>\n",
       "      <th>Value_norm</th>\n",
       "      <th>Person_num</th>\n",
       "      <th>CantoTotal</th>\n",
       "      <th>occ_freq</th>\n",
       "    </tr>\n",
       "  </thead>\n",
       "  <tbody>\n",
       "    <tr>\n",
       "      <th>0</th>\n",
       "      <td>0</td>\n",
       "      <td>valmiki</td>\n",
       "      <td>1</td>\n",
       "      <td>0.250000</td>\n",
       "      <td>0.250000</td>\n",
       "      <td>0.111111</td>\n",
       "      <td>0.027778</td>\n",
       "      <td>435</td>\n",
       "      <td>4</td>\n",
       "      <td>0.250000</td>\n",
       "    </tr>\n",
       "    <tr>\n",
       "      <th>1</th>\n",
       "      <td>0</td>\n",
       "      <td>rama</td>\n",
       "      <td>3</td>\n",
       "      <td>0.002717</td>\n",
       "      <td>0.008152</td>\n",
       "      <td>0.002151</td>\n",
       "      <td>0.000006</td>\n",
       "      <td>312</td>\n",
       "      <td>4</td>\n",
       "      <td>0.750000</td>\n",
       "    </tr>\n",
       "    <tr>\n",
       "      <th>2</th>\n",
       "      <td>1</td>\n",
       "      <td>rama</td>\n",
       "      <td>26</td>\n",
       "      <td>0.002717</td>\n",
       "      <td>0.070652</td>\n",
       "      <td>0.018638</td>\n",
       "      <td>0.000051</td>\n",
       "      <td>312</td>\n",
       "      <td>78</td>\n",
       "      <td>0.333333</td>\n",
       "    </tr>\n",
       "    <tr>\n",
       "      <th>3</th>\n",
       "      <td>1</td>\n",
       "      <td>vishnu</td>\n",
       "      <td>1</td>\n",
       "      <td>0.025000</td>\n",
       "      <td>0.025000</td>\n",
       "      <td>0.016667</td>\n",
       "      <td>0.000417</td>\n",
       "      <td>466</td>\n",
       "      <td>78</td>\n",
       "      <td>0.012821</td>\n",
       "    </tr>\n",
       "    <tr>\n",
       "      <th>4</th>\n",
       "      <td>1</td>\n",
       "      <td>kaikeyi</td>\n",
       "      <td>1</td>\n",
       "      <td>0.014493</td>\n",
       "      <td>0.014493</td>\n",
       "      <td>0.008475</td>\n",
       "      <td>0.000123</td>\n",
       "      <td>161</td>\n",
       "      <td>78</td>\n",
       "      <td>0.012821</td>\n",
       "    </tr>\n",
       "  </tbody>\n",
       "</table>\n",
       "</div>"
      ],
      "text/plain": [
       "   Canto   Person  Occurences  Normalised    Values  freq_norm  Value_norm  \\\n",
       "0      0  valmiki           1    0.250000  0.250000   0.111111    0.027778   \n",
       "1      0     rama           3    0.002717  0.008152   0.002151    0.000006   \n",
       "2      1     rama          26    0.002717  0.070652   0.018638    0.000051   \n",
       "3      1   vishnu           1    0.025000  0.025000   0.016667    0.000417   \n",
       "4      1  kaikeyi           1    0.014493  0.014493   0.008475    0.000123   \n",
       "\n",
       "   Person_num  CantoTotal  occ_freq  \n",
       "0         435           4  0.250000  \n",
       "1         312           4  0.750000  \n",
       "2         312          78  0.333333  \n",
       "3         466          78  0.012821  \n",
       "4         161          78  0.012821  "
      ]
     },
     "execution_count": 30,
     "metadata": {},
     "output_type": "execute_result"
    }
   ],
   "source": [
    "cpo.head()"
   ]
  },
  {
   "cell_type": "code",
   "execution_count": 32,
   "metadata": {},
   "outputs": [],
   "source": [
    "# cpo.to_csv(\"../data/csv/clusts.csv\", index=False)"
   ]
  },
  {
   "cell_type": "code",
   "execution_count": 35,
   "metadata": {},
   "outputs": [],
   "source": [
    "X = cpo.iloc[:, [5, 9]]"
   ]
  },
  {
   "cell_type": "code",
   "execution_count": 36,
   "metadata": {},
   "outputs": [
    {
     "data": {
      "image/png": "[encoded data removed]",
      "text/plain": [
       "<Figure size 576x396 with 2 Axes>"
      ]
     },
     "metadata": {},
     "output_type": "display_data"
    }
   ],
   "source": [
    "model = KMeans()\n",
    "vis = KElbowVisualizer(model, k=(1, 20))\n",
    "vis.fit(X)\n",
    "vis.show()\n",
    "plt.show()"
   ]
  },
  {
   "cell_type": "code",
   "execution_count": 37,
   "metadata": {},
   "outputs": [],
   "source": [
    "# instatiate KMeans class and set the number of clusters\n",
    "km_model = KMeans(n_clusters=4, random_state=10)\n",
    "\n",
    "# call fit method with data \n",
    "km = km_model.fit_predict(X)\n",
    "\n",
    "# coordinates of cluster center\n",
    "centroids = km_model.cluster_centers_ \n",
    "\n",
    "# cluster label for each data point\n",
    "labels = km_model.labels_ \n",
    "\n",
    "km = km.tolist()"
   ]
  },
  {
   "cell_type": "code",
   "execution_count": 38,
   "metadata": {},
   "outputs": [
    {
     "data": {
      "image/png": "[encoded data removed]",
      "text/plain": [
       "<Figure size 360x360 with 1 Axes>"
      ]
     },
     "metadata": {},
     "output_type": "display_data"
    },
    {
     "name": "stdout",
     "output_type": "stream",
     "text": [
      "['valmiki', 'rama']\n"
     ]
    },
    {
     "data": {
      "image/png": "[encoded data removed]",
      "text/plain": [
       "<Figure size 360x360 with 1 Axes>"
      ]
     },
     "metadata": {},
     "output_type": "display_data"
    },
    {
     "name": "stdout",
     "output_type": "stream",
     "text": [
      "['rama', 'vishnu', 'kaikeyi', 'lakshman', 'janak', 'rohini', 'sringavera', 'ganga', 'bharadvaja', 'chitrakuta', 'ayodhya', 'dandaka', 'agastya', 'indra', 'surpanakha', 'dushan', 'maricha', 'ravan', 'jatayu', 'sita', 'kabandha', 'pampa', 'hanuman', 'wind-god', 'sugriva', 'bali', 'kishkindha', 'sampati', 'aksha', 'nala', 'lanka', 'vibhishan', 'nandigrama', 'brahma', 'sudras']\n"
     ]
    },
    {
     "data": {
      "image/png": "[encoded data removed]",
      "text/plain": [
       "<Figure size 360x360 with 1 Axes>"
      ]
     },
     "metadata": {},
     "output_type": "display_data"
    },
    {
     "name": "stdout",
     "output_type": "stream",
     "text": [
      "['valmiki', 'ganga', 'bharadvaja', 'rama', 'narad', 'janak']\n"
     ]
    },
    {
     "data": {
      "image/png": "[encoded data removed]",
      "text/plain": [
       "<Figure size 360x360 with 1 Axes>"
      ]
     },
     "metadata": {},
     "output_type": "display_data"
    },
    {
     "name": "stdout",
     "output_type": "stream",
     "text": [
      "['dasaratha', 'sita', 'rama', 'raghu', 'visvamitra', 'janak', 'kaikeyi', 'guha', 'ganga', 'bharadvaja', 'chitrakuta', 'bharat', 'nandigrama', 'dandak', 'anasuya', 'sarabhanga', 'indra', 'agastya', 'viradha', 'panchavata', 'surpanakha', 'trisira', 'khara', 'ravan', 'maricha', 'vulture-king', 'kabandha', 'pampa', 'sugriva', 'bali', 'tara', 'sampati', 'hanuman', 'mainaka', 'lanka', 'asoka', 'nala', 'vibhishan', 'kumbhakarna', 'meghanada', 'pushpak', 'brahma', 'wind-god', 'valmiki']\n"
     ]
    }
   ],
   "source": [
    "k = 4 #number of clusters\n",
    "\n",
    "#all norm vals for records in clust, filtered by mentioned chaps\n",
    "\n",
    "\n",
    "# all indices in a chap; construct km list with clust number for that; filter km list\n",
    "cols = {0:'red', 1: 'blue', 2:'green', 3:'yellow'}\n",
    "    \n",
    "for cha in range(0, 4):\n",
    "    km_clusts = {}\n",
    "    chap_idx = [i for i in range(len(km)) if (cpo[\"Canto\"][i] == cha)] # allindices in chap\n",
    "   \n",
    "        #this giveslist of all indices foreach cluster and particular chapter\n",
    "        # from this dict of 4 clusters that will change with each chapter inside a loop: obtain x,y,l\n",
    "    color = [cols[km[i]] for i in chap_idx]\n",
    "    # for i in chap_idx:\n",
    "    #     cluster = km[i]\n",
    "    #     color.append(cols[cluster])\n",
    "    x = [cpo[\"occ_freq\"][i] for i in chap_idx] #imp of char:chap\n",
    "    y = [cpo[\"freq_norm\"][i] for i in chap_idx]#imp(chap:char)\n",
    "    l = [cpo[\"Person\"][i] for i in chap_idx]   \n",
    "\n",
    "    # stupid adjust text package: needs-> plt.text(x, y, l)\n",
    "    # texts = []\n",
    "    # for x, y, s in zip(x, y, l):\n",
    "    #     texts.append(plt.text(x, y, s))\n",
    "    # fig, ax = plt.subplots()\n",
    "    plt.figure(figsize=(5,5))\n",
    "    plt.scatter(x, y, c=color)\n",
    "    for i, txt in enumerate(l):\n",
    "        plt.annotate(txt, (x[i], y[i]))\n",
    "    # adjust_text(texts, only_move={'points':'y', 'texts':'y'}, arrowprops=dict(arrowstyle=\"->\", color='r', lw=0.5))\n",
    "    # ta.allocate_text(fig,ax ,x,y,\n",
    "    #             l,\n",
    "    #             x_scatter=x, y_scatter=y,\n",
    "    #             textsize=10)\n",
    "\n",
    "#adjusting is still too cluttered: shifting to hovering\n",
    "    \n",
    "    plt.show()\n",
    "    print(l)\n"
   ]
  },
  {
   "cell_type": "code",
   "execution_count": 146,
   "metadata": {},
   "outputs": [
    {
     "data": {
      "text/plain": [
       "'Annotate Adjust'"
      ]
     },
     "execution_count": 146,
     "metadata": {},
     "output_type": "execute_result"
    }
   ],
   "source": [
    "\"\"\"Annotate Adjust\"\"\"\n",
    "\n",
    "# np.random.seed(0)\n",
    "# x, y = np.random.random((2,30))\n",
    "# fig, ax = plt.subplots()\n",
    "# ax.scatter(x, y, c='b')\n",
    "# text_list = [f'Text{i}' for i in range(len(x))]\n",
    "# ta.allocate_text(fig,ax,x,y,\n",
    "#                 text_list,\n",
    "#                 x_scatter=x, y_scatter=y,\n",
    "#                 textsize=10)\n",
    "# plt.show()"
   ]
  },
  {
   "cell_type": "code",
   "execution_count": null,
   "metadata": {},
   "outputs": [],
   "source": []
  }
 ],
 "metadata": {
  "kernelspec": {
   "display_name": "Python 3",
   "language": "python",
   "name": "python3"
  },
  "language_info": {
   "codemirror_mode": {
    "name": "ipython",
    "version": 3
   },
   "file_extension": ".py",
   "mimetype": "text/x-python",
   "name": "python",
   "nbconvert_exporter": "python",
   "pygments_lexer": "ipython3",
   "version": "3.9.12"
  }
 },
 "nbformat": 4,
 "nbformat_minor": 2
}
