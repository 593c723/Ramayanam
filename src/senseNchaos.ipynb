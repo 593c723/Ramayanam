{
 "cells": [
  {
   "cell_type": "code",
   "execution_count": 1,
   "metadata": {},
   "outputs": [],
   "source": [
    "from modules import components\n",
    "\n",
    "import nltk"
   ]
  },
  {
   "cell_type": "code",
   "execution_count": 2,
   "metadata": {},
   "outputs": [
    {
     "name": "stderr",
     "output_type": "stream",
     "text": [
      "[nltk_data] Downloading package stopwords to\n",
      "[nltk_data]     C:\\Users\\18055\\AppData\\Roaming\\nltk_data...\n",
      "[nltk_data]   Package stopwords is already up-to-date!\n"
     ]
    },
    {
     "data": {
      "text/plain": [
       "True"
      ]
     },
     "execution_count": 2,
     "metadata": {},
     "output_type": "execute_result"
    }
   ],
   "source": [
    "nltk.download(\"stopwords\")"
   ]
  },
  {
   "cell_type": "code",
   "execution_count": 2,
   "metadata": {},
   "outputs": [],
   "source": [
    "T_proc = components.nltk_text()[2]\n",
    "T_orig = components.nltk_text()[1]"
   ]
  },
  {
   "cell_type": "code",
   "execution_count": 15,
   "metadata": {},
   "outputs": [
    {
     "name": "stdout",
     "output_type": "stream",
     "text": [
      "Displaying 25 of 141 matches:\n",
      "g dasaratha willed share kingdom regent heir. kaikeyi youngest queen eyes envious hate seen solemn \n",
      " wretched king perforce complied. rama please kaikeyi went obedient forth banishment. lakshman trut\n",
      "e rama met fought. choice rama throne; malice kaikeyi shown whose evil counsel marred plan drove fo\n",
      "ned sumitra hand obtained. gave make fruitful kaikeyi half residue. portion yet remaining paused aw\n",
      "ns spake speech: \"kausalya sumitra dear sweet kaikeyi hear. upon santa feast gaze last time length \n",
      "u vigour born came help worlds forlorn. queen kaikeyi bore child truest valour bharat styled every \n",
      " name every boy. rama high-souled heir bharat kaikeyi bare: queen sumitra one fair son lakshman sat\n",
      "wed. kausalya noble queen sumitra lovely mien kaikeyi dainty waist dames bowers graced stood palace\n",
      " length monarch called one morn prince bharat kaikeyi born cried: \"my son within gates lord yudhaji\n",
      "plays. chanced slave-born handmaid bred queen kaikeyi fancy-led mounted stair stood upon terrace li\n",
      "asa hill sped. sin thoughts soul aflame queen kaikeyi slept came: \"why sleepest thou?\" cried \"arise\n",
      "altered cheek sudden woe danger speak.\" words kaikeyi said: manthara eyeballs red fury skilled trea\n",
      "us art grieve yet lady heart rama wicked hate kaikeyi love alienate upon evil purpose bent began el\n",
      "e thyself queen son me!\" delighted words said kaikeyi lifted bed like autumn moon radiant head joyo\n",
      "fe shares bharat fall.\" maid wrath complained kaikeyi saw heart pained answered eager defence rama \n",
      "drive alien wild banishment to-day.\" fury lit kaikeyi eyes spoke long burning sighs: \"this day son \n",
      "en obeyed darkly plotting rama fall responded kaikeyi call. \"i declare attend bharat throne ascend.\n",
      ". counselled bane disguised beneath show gain kaikeyi joy pride manthara replied: \"thy sense envy p\n",
      "st household shalt go pay scorn battled foe.\" kaikeyi praise damsel heard lady stirred lay upon bea\n",
      " laid cried unto maid: \"soon must monarch say kaikeyi soul past away rama banished planned son made\n",
      "ight darkness shroud star expiring ray. queen kaikeyi obeyed sinful counsel maid sank upon chamber \n",
      "emed prize sought own. bent upon purpose dire kaikeyi soul fire upon floor lay languid brows contra\n",
      "pale clouds wander dasaratha great fame queen kaikeyi palace came. parrots flew tree tree gorgeous \n",
      "ne golden corn sheep goats kine. choose wilt. kaikeyi thence: tell darling whence arose grief shall\n",
      "thralled love blind pierced darts shakes mind kaikeyi remorseless breast grand purpose expressed: \"\n"
     ]
    }
   ],
   "source": [
    "T_proc.concordance(\"kaikeyi\", width=100)"
   ]
  },
  {
   "cell_type": "code",
   "execution_count": 16,
   "metadata": {},
   "outputs": [
    {
     "data": {
      "image/png": "[encoded data removed]",
      "text/plain": [
       "<Figure size 432x288 with 1 Axes>"
      ]
     },
     "metadata": {
      "needs_background": "light"
     },
     "output_type": "display_data"
    }
   ],
   "source": [
    "people = ['rama','lakshman', 'sita', \"dasaratha\", 'hanuman', 'bharat', 'ayodhya',\n",
    "                'ravan','vasishtha', \"indra\"]\n",
    "d_p = T_orig.dispersion_plot(people[:10])"
   ]
  },
  {
   "cell_type": "code",
   "execution_count": 18,
   "metadata": {},
   "outputs": [
    {
     "data": {
      "text/plain": [
       "[('rama', 1742),\n",
       " ('king', 1177),\n",
       " ('like', 1029),\n",
       " ('lord', 978),\n",
       " ('son', 876),\n",
       " ('shall', 857),\n",
       " ('whose', 636),\n",
       " ('every', 616),\n",
       " ('still', 611),\n",
       " ('eyes', 580)]"
      ]
     },
     "execution_count": 18,
     "metadata": {},
     "output_type": "execute_result"
    }
   ],
   "source": [
    "f_dist = nltk.FreqDist(T_proc)\n",
    "f_dist.most_common(10)"
   ]
  },
  {
   "cell_type": "code",
   "execution_count": 14,
   "metadata": {},
   "outputs": [
    {
     "data": {
      "text/plain": [
       "192068"
      ]
     },
     "execution_count": 14,
     "metadata": {},
     "output_type": "execute_result"
    }
   ],
   "source": [
    "len(T_proc)"
   ]
  },
  {
   "cell_type": "code",
   "execution_count": 5,
   "metadata": {},
   "outputs": [
    {
     "name": "stdout",
     "output_type": "stream",
     "text": [
      "Displaying 2 of 2 matches:\n",
      "ithila obey. firm vow dread foes lore scripture knows invite honour high king dasaratha old ally. kasi lord gentle speech finds pleasant word length days monarch peer illustrious king invite here. fat\n",
      "st southern nations fear angas vangas hear. lord paramount reign o'er magadh matsyas' plain kosal kasi wide domain: rich treasures mine golden corn sheep goats kine. choose wilt. kaikeyi thence: tell \n"
     ]
    }
   ],
   "source": [
    "T_proc.concordance(\"kasi\", width=200)"
   ]
  },
  {
   "cell_type": "code",
   "execution_count": null,
   "metadata": {},
   "outputs": [],
   "source": []
  }
 ],
 "metadata": {
  "kernelspec": {
   "display_name": "Python 3",
   "language": "python",
   "name": "python3"
  },
  "language_info": {
   "codemirror_mode": {
    "name": "ipython",
    "version": 3
   },
   "file_extension": ".py",
   "mimetype": "text/x-python",
   "name": "python",
   "nbconvert_exporter": "python",
   "pygments_lexer": "ipython3",
   "version": "3.9.12"
  }
 },
 "nbformat": 4,
 "nbformat_minor": 2
}
