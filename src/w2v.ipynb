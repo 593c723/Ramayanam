{
 "cells": [
  {
   "cell_type": "markdown",
   "metadata": {},
   "source": [
    "<h3>Word 2 Vec<h3>"
   ]
  },
  {
   "cell_type": "markdown",
   "metadata": {},
   "source": [
    "Would it make more sense for this particular analysis to stem the words?"
   ]
  },
  {
   "cell_type": "code",
   "execution_count": 1,
   "metadata": {},
   "outputs": [],
   "source": [
    "# from src.Data_pre_proc import pre_proc\n",
    "from gensim.models import word2vec, phrases\n",
    "from sklearn.manifold import TSNE  \n",
    "from sklearn.decomposition import PCA\n",
    "import pandas as pd\n",
    "import re\n",
    "import string\n",
    "from unidecode import unidecode\n",
    "import matplotlib.pyplot as plt  \n",
    "import numpy as np\n",
    "import nltk\n",
    "from modules import components, Data_pre_proc"
   ]
  },
  {
   "cell_type": "code",
   "execution_count": 2,
   "metadata": {},
   "outputs": [
    {
     "data": {
      "text/html": [
       "<div>\n",
       "<style scoped>\n",
       "    .dataframe tbody tr th:only-of-type {\n",
       "        vertical-align: middle;\n",
       "    }\n",
       "\n",
       "    .dataframe tbody tr th {\n",
       "        vertical-align: top;\n",
       "    }\n",
       "\n",
       "    .dataframe thead th {\n",
       "        text-align: right;\n",
       "    }\n",
       "</style>\n",
       "<table border=\"1\" class=\"dataframe\">\n",
       "  <thead>\n",
       "    <tr style=\"text-align: right;\">\n",
       "      <th></th>\n",
       "      <th>Chapter</th>\n",
       "      <th>Book</th>\n",
       "      <th>Text</th>\n",
       "    </tr>\n",
       "  </thead>\n",
       "  <tbody>\n",
       "    <tr>\n",
       "      <th>0</th>\n",
       "      <td>Invocation</td>\n",
       "      <td>Book</td>\n",
       "      <td>Praise to Válmíki,(2)bird of charming song,(3)...</td>\n",
       "    </tr>\n",
       "    <tr>\n",
       "      <th>1</th>\n",
       "      <td>Canto I. Nárad.</td>\n",
       "      <td>Book I.</td>\n",
       "      <td>OM.(8)  To sainted Nárad, prince of those Wh...</td>\n",
       "    </tr>\n",
       "    <tr>\n",
       "      <th>2</th>\n",
       "      <td>Canto II. Brahmá's Visit</td>\n",
       "      <td>Book I.</td>\n",
       "      <td>Válmíki, graceful speaker, heard, To highest...</td>\n",
       "    </tr>\n",
       "    <tr>\n",
       "      <th>3</th>\n",
       "      <td>Canto III. The Argument.</td>\n",
       "      <td>Book I.</td>\n",
       "      <td>The hermit thus with watchful heed Received ...</td>\n",
       "    </tr>\n",
       "    <tr>\n",
       "      <th>4</th>\n",
       "      <td>Canto IV. The Rhapsodists.</td>\n",
       "      <td>Book I.</td>\n",
       "      <td>When to the end the tale was brought, Rose i...</td>\n",
       "    </tr>\n",
       "  </tbody>\n",
       "</table>\n",
       "</div>"
      ],
      "text/plain": [
       "                      Chapter     Book  \\\n",
       "0                  Invocation     Book   \n",
       "1             Canto I. Nárad.  Book I.   \n",
       "2    Canto II. Brahmá's Visit  Book I.   \n",
       "3    Canto III. The Argument.  Book I.   \n",
       "4  Canto IV. The Rhapsodists.  Book I.   \n",
       "\n",
       "                                                Text  \n",
       "0  Praise to Válmíki,(2)bird of charming song,(3)...  \n",
       "1    OM.(8)  To sainted Nárad, prince of those Wh...  \n",
       "2    Válmíki, graceful speaker, heard, To highest...  \n",
       "3    The hermit thus with watchful heed Received ...  \n",
       "4    When to the end the tale was brought, Rose i...  "
      ]
     },
     "execution_count": 2,
     "metadata": {},
     "output_type": "execute_result"
    }
   ],
   "source": [
    "f_df = pd.read_csv(\"../data/csv/c_b_t.csv\", encoding='utf-8')\n",
    "f_df['Text'] = f_df['Text'].apply(lambda x : re.sub(\"'s\", \"\", (x)))\n",
    "\n",
    "f_df.head()"
   ]
  },
  {
   "cell_type": "code",
   "execution_count": 3,
   "metadata": {},
   "outputs": [],
   "source": [
    "f_df = Data_pre_proc.pre_proc(f_df)"
   ]
  },
  {
   "cell_type": "code",
   "execution_count": 13,
   "metadata": {},
   "outputs": [],
   "source": [
    "# stopwords = nltk.corpus.stopwords.words('english')\n",
    "# stopwords = stopwords + ['thou', 'thy', 'thine', 'thus', 'thee', 'may']\n",
    "# punc = ['.', ',', '()']\n",
    "\n",
    "# def rem_stp(txt):\n",
    "#     txt = txt.split()\n",
    "#     op = [i for i in txt if i not in stopwords]\n",
    "#     return \" \".join(op)\n",
    "\n",
    "# f_df['Text'] = f_df['Text'].apply(lambda x : re.sub(\"([0-9]*)\", '', x))\n",
    "# f_df['Text'] = f_df['Text'].apply(lambda x : unidecode(x))\n",
    "# for p in punc:\n",
    "#    f_df['Text'] = f_df['Text'].apply(lambda x : x.replace(p, \" \"))\n",
    "# f_df['Text'] = f_df['Text'].apply(lambda x : x.replace(string.punctuation, \" \"))\n",
    "# # df['Text'] = df['Text'].apply(lambda x : x.replace(\",\", \" \").replace(\"(\", \"\").replace(\")\", \"\"))\n",
    "# f_df['Text'] = f_df['Text'].apply(lambda x: x.lower())\n",
    "# f_df['Text'] = f_df['Text'].apply(lambda x : rem_stp(x))"
   ]
  },
  {
   "cell_type": "code",
   "execution_count": 4,
   "metadata": {},
   "outputs": [
    {
     "data": {
      "text/html": [
       "<div>\n",
       "<style scoped>\n",
       "    .dataframe tbody tr th:only-of-type {\n",
       "        vertical-align: middle;\n",
       "    }\n",
       "\n",
       "    .dataframe tbody tr th {\n",
       "        vertical-align: top;\n",
       "    }\n",
       "\n",
       "    .dataframe thead th {\n",
       "        text-align: right;\n",
       "    }\n",
       "</style>\n",
       "<table border=\"1\" class=\"dataframe\">\n",
       "  <thead>\n",
       "    <tr style=\"text-align: right;\">\n",
       "      <th></th>\n",
       "      <th>Chapter</th>\n",
       "      <th>Book</th>\n",
       "      <th>Text</th>\n",
       "    </tr>\n",
       "  </thead>\n",
       "  <tbody>\n",
       "    <tr>\n",
       "      <th>0</th>\n",
       "      <td>Invocation</td>\n",
       "      <td>Book</td>\n",
       "      <td>praise valmiki bird charming song mounts poesy...</td>\n",
       "    </tr>\n",
       "    <tr>\n",
       "      <th>1</th>\n",
       "      <td>Canto I. Nárad.</td>\n",
       "      <td>Book I.</td>\n",
       "      <td>om. sainted narad prince whose lore words wisd...</td>\n",
       "    </tr>\n",
       "    <tr>\n",
       "      <th>2</th>\n",
       "      <td>Canto II. Brahmá's Visit</td>\n",
       "      <td>Book I.</td>\n",
       "      <td>valmiki graceful speaker heard highest admirat...</td>\n",
       "    </tr>\n",
       "    <tr>\n",
       "      <th>3</th>\n",
       "      <td>Canto III. The Argument.</td>\n",
       "      <td>Book I.</td>\n",
       "      <td>hermit watchful heed received poem pregnant se...</td>\n",
       "    </tr>\n",
       "    <tr>\n",
       "      <th>4</th>\n",
       "      <td>Canto IV. The Rhapsodists.</td>\n",
       "      <td>Book I.</td>\n",
       "      <td>end tale brought rose sage mind thought; \"now ...</td>\n",
       "    </tr>\n",
       "  </tbody>\n",
       "</table>\n",
       "</div>"
      ],
      "text/plain": [
       "                      Chapter     Book  \\\n",
       "0                  Invocation     Book   \n",
       "1             Canto I. Nárad.  Book I.   \n",
       "2    Canto II. Brahmá's Visit  Book I.   \n",
       "3    Canto III. The Argument.  Book I.   \n",
       "4  Canto IV. The Rhapsodists.  Book I.   \n",
       "\n",
       "                                                Text  \n",
       "0  praise valmiki bird charming song mounts poesy...  \n",
       "1  om. sainted narad prince whose lore words wisd...  \n",
       "2  valmiki graceful speaker heard highest admirat...  \n",
       "3  hermit watchful heed received poem pregnant se...  \n",
       "4  end tale brought rose sage mind thought; \"now ...  "
      ]
     },
     "execution_count": 4,
     "metadata": {},
     "output_type": "execute_result"
    }
   ],
   "source": [
    "# f_df = pre_proc(f_df)\n",
    "# f_df['Text'] = f_df['Text'].apply(lambda x : unidecode(x.replace(\",\", \"\").replace(\"(\", \" \").replace(\")\", \"\")))\n",
    "f_df.head()"
   ]
  },
  {
   "cell_type": "code",
   "execution_count": 6,
   "metadata": {},
   "outputs": [
    {
     "data": {
      "text/plain": [
       "\"praise valmiki bird charming song mounts poesy's sublimest spray sweetly sings accent clear strong rama aye rama deathless lay breathes man listen strain flows music valmiki's tongue feel feet path bliss attain rama's glory saint sung! stream ramayan leaves sacred fount whole wide world sin stain free prince hermits parent mount lordly rama darling sea glory whose fame ever bright! glory prachetas' holy son! whose pure lips quaff ever new delight nectar-sea deeds rama done hail arch-ascetic pious good kind! hail saint valmiki lord every lore! hail holy hermit calm pure mind! hail first bards valmiki hail more! book\""
      ]
     },
     "execution_count": 6,
     "metadata": {},
     "output_type": "execute_result"
    }
   ],
   "source": [
    "f_df[\"Text\"][0]"
   ]
  },
  {
   "cell_type": "code",
   "execution_count": 7,
   "metadata": {},
   "outputs": [],
   "source": [
    "# bs = [x for x in f_df[\"Book\"]]\n",
    "# texts = [rows[\"Text\"] for idx, rows in f_df.iterrows() if(rows[\"Book\"] == bs[1]) ]\n",
    "# corpus = [t.split(\" \") for t in texts]"
   ]
  },
  {
   "cell_type": "code",
   "execution_count": 8,
   "metadata": {},
   "outputs": [],
   "source": [
    "# corpus[0]"
   ]
  },
  {
   "cell_type": "code",
   "execution_count": 9,
   "metadata": {},
   "outputs": [],
   "source": [
    "\n",
    "# model = word2vec.Word2Vec(corpus, vector_size=100, window=5, min_count=1, workers=4)  "
   ]
  },
  {
   "cell_type": "code",
   "execution_count": null,
   "metadata": {},
   "outputs": [],
   "source": [
    "# vocab_len = len(model.wv)\n",
    "# vocab_len"
   ]
  },
  {
   "cell_type": "code",
   "execution_count": null,
   "metadata": {},
   "outputs": [],
   "source": [
    "# model.wv.get_vecattr(\"king\", \"count\")"
   ]
  },
  {
   "cell_type": "code",
   "execution_count": null,
   "metadata": {},
   "outputs": [
    {
     "data": {
      "text/plain": [
       "180"
      ]
     },
     "metadata": {},
     "output_type": "display_data"
    }
   ],
   "source": [
    "# model.wv.key_to_index[\"great\"]"
   ]
  },
  {
   "cell_type": "code",
   "execution_count": null,
   "metadata": {},
   "outputs": [
    {
     "data": {
      "text/plain": [
       "[('eyes', 0.74),\n",
       " ('giant', 0.74),\n",
       " ('like', 0.74),\n",
       " ('every', 0.72),\n",
       " ('vanar', 0.71),\n",
       " ('might', 0.71),\n",
       " ('vanars', 0.7),\n",
       " ('ravan', 0.69),\n",
       " (\"raghu's\", 0.69),\n",
       " ('son', 0.69)]"
      ]
     },
     "metadata": {},
     "output_type": "display_data"
    }
   ],
   "source": [
    "# [(item[0],round(item[1],2)) for item in model.wv.most_similar('rama')]  \n"
   ]
  },
  {
   "cell_type": "code",
   "execution_count": null,
   "metadata": {},
   "outputs": [],
   "source": [
    "# model.wv.similarity(\"rama\", \"sita\")\n",
    "# model.wv.similarity(\"rama\", \"lakshman\") #more than with ista, sadly, makes sense\n",
    "# model.wv.similarity(\"brahma\", \"narad\") #but narad is brahma's son?\n",
    "# model.wv.similarity(\"angad\", \"agni\")\n",
    "# model.wv.doesnt_match([\"rama\", \"ravan\", \"khumbkaran\", \"vibhishan\"])\n",
    "# model.wv.doesnt_match(['rama', 'lakshman', 'bharat', 'arrow', 'agastya'])"
   ]
  },
  {
   "cell_type": "code",
   "execution_count": null,
   "metadata": {},
   "outputs": [
    {
     "data": {
      "text/plain": [
       "array([-0.00279739,  0.01076159,  0.01033198,  0.01045766, -0.00556596,\n",
       "       -0.02412645,  0.00890984,  0.0334771 , -0.01108433, -0.00737102,\n",
       "        0.00147308, -0.01793841, -0.00709767,  0.00745241,  0.00160495,\n",
       "       -0.01191764,  0.00414758, -0.01002862, -0.00761237, -0.03071152,\n",
       "        0.01082863,  0.00774864,  0.01330308, -0.00566602,  0.00358869,\n",
       "       -0.00130004, -0.00776864, -0.00084397, -0.01789348, -0.001452  ,\n",
       "        0.00248245, -0.00020574,  0.00952194, -0.01477027, -0.00679217,\n",
       "        0.00850397,  0.00934264, -0.01491163, -0.00464277, -0.02450889,\n",
       "       -0.00651185, -0.00605692, -0.01270834, -0.00345266,  0.00964238,\n",
       "       -0.00530915, -0.01577432,  0.00789887,  0.01083761,  0.01745568,\n",
       "       -0.00340661, -0.00666867, -0.01084813, -0.00043947, -0.00016604,\n",
       "        0.00094814,  0.00948311, -0.00709131, -0.01306927,  0.00984279,\n",
       "        0.00301159,  0.00541748, -0.00536265, -0.0060437 , -0.01333252,\n",
       "        0.01046189,  0.00364706,  0.01432869, -0.01621588,  0.01425057,\n",
       "       -0.00050023,  0.01337932,  0.00838091, -0.01197097,  0.01357176,\n",
       "        0.00599965,  0.00658825, -0.00041311, -0.01603792, -0.00619756,\n",
       "       -0.006217  ,  0.00063084, -0.00498654,  0.01948134, -0.00678918,\n",
       "        0.002619  ,  0.00449812,  0.00784758,  0.00938708,  0.01049629,\n",
       "        0.01161587,  0.00525441,  0.00432869,  0.00255922,  0.02737631,\n",
       "        0.0155283 , -0.00107831, -0.01578951,  0.00428989,  0.00509163],\n",
       "      dtype=float32)"
      ]
     },
     "metadata": {},
     "output_type": "display_data"
    }
   ],
   "source": [
    "# np.array(model.wv.__getitem__('rama'))"
   ]
  },
  {
   "cell_type": "markdown",
   "metadata": {},
   "source": [
    "I think that word2vec converts text to vectors, and TSNE maps the replationships -> therefore, plotting will give a graph of groups and where similarities lay \n",
    "<p>It also helps visualise neural nets</p>\n"
   ]
  },
  {
   "cell_type": "markdown",
   "metadata": {},
   "source": [
    "I am going to word2vec book wise, and then form character pairs - with cosine similarity for weights\n",
    "<p>Frequency of co-occurences canto wise</p>\n",
    "<p>I wont be needing TSNE then!</p>"
   ]
  },
  {
   "cell_type": "code",
   "execution_count": null,
   "metadata": {},
   "outputs": [],
   "source": [
    "# ch = pd.read_csv(\"characters.csv\", encoding='latin-1')\n"
   ]
  },
  {
   "cell_type": "code",
   "execution_count": null,
   "metadata": {},
   "outputs": [
    {
     "data": {
      "text/plain": [
       "'Takes too much time and a truckload of memory - \\ndont run the current version unless you are hell bent on getting everything to crash'"
      ]
     },
     "metadata": {},
     "output_type": "display_data"
    }
   ],
   "source": [
    "\"\"\"Takes too much time and a truckload of memory - \n",
    "dont run the current version unless you are hell bent on getting everything to crash\"\"\"\n",
    "# def tsne_plot(model):\n",
    "#     labels = []\n",
    "#     tokens = []\n",
    "\n",
    "\n",
    "#     for word in model.wv.key_to_index:\n",
    "#         if word.lower() in  character_list\n",
    "#         tokens.append((model.wv.__getitem__('rama')))\n",
    "#         labels.append(word)\n",
    "#         tok = np.array(tokens)\n",
    "\n",
    "# #compresses the hidden nodes' info into 2 cols\n",
    "#     tsne_model = TSNE(perplexity=40, n_components=2, init='pca', n_iter=2500)\n",
    "#     new_values = tsne_model.fit_transform(tok)\n",
    "\n",
    "#     x = []\n",
    "#     y = []\n",
    "\n",
    "#     for val in new_values:\n",
    "#         x.append(val[0])\n",
    "#         y.append(val[1])\n",
    "\n",
    "\n",
    "#     plt.figure(figsize=(8,8))\n",
    "#     for i in range(len(x)):\n",
    "#         plt.scatter(x[i], y[i])\n",
    "#         plt.annotate(labels[i], xy=(x[i], y[i]), xytext=(5,2), textcoords='offset points', ha=\"right\", va='bottom' )\n",
    "#         plt.show()\n",
    "# tsne_plot(model)\n"
   ]
  },
  {
   "cell_type": "code",
   "execution_count": null,
   "metadata": {},
   "outputs": [],
   "source": [
    "# vocab = list(model.wv.key_to_index)\n",
    "# X = model.wv[vocab]\n"
   ]
  },
  {
   "cell_type": "code",
   "execution_count": null,
   "metadata": {},
   "outputs": [],
   "source": [
    "# tsne = TSNE(perplexity = 40,  n_components=2, init='pca')\n",
    "# X_tsne = tsne.fit_transform(X)\n",
    "\n",
    "# tsne_df = pd.DataFrame(X_tsne, index=vocab, columns=['x', 'y'])\n"
   ]
  },
  {
   "cell_type": "markdown",
   "metadata": {},
   "source": [
    "<h4>W2V for each book<h4>"
   ]
  },
  {
   "cell_type": "code",
   "execution_count": null,
   "metadata": {},
   "outputs": [
    {
     "name": "stdout",
     "output_type": "stream",
     "text": [
      "BOOK 0\n",
      "BOOK 1\n",
      "BOOK 2\n",
      "BOOK 3\n",
      "BOOK 4\n",
      "BOOK 5\n",
      "BOOK 6\n"
     ]
    }
   ],
   "source": [
    "# import booktotext\n",
    "# book = booktotext.boot()\n",
    "# for i in book:\n",
    "#     print(i)"
   ]
  },
  {
   "cell_type": "markdown",
   "metadata": {},
   "source": [
    "***This drove me crazy!! The changes I would make in the python module file wont get updated. I tried everything from re-importing the module to saving it again and ended up with having to resort to restarting the kernel over and over, every single time. This is apparently because \"Imports in Python are cached, so ordinarily the second and subsequent import gets the same code even if the file has changed\". Also, apparently I was being stupid - YOU COULD JUST REIMPORT THE WHOLE THING WITH importlib.reload(booktotext).***\n",
    "\n",
    "Reason:\n",
    "https://support.enthought.com/hc/en-us/articles/204469240-Jupyter-IPython-After-editing-a-module-changes-are-not-effective-without-kernel-restart\n",
    "\n",
    "Solution:\n",
    "https://stackoverflow.com/questions/684171/how-to-re-import-an-updated-package-while-in-python-interpreter\n"
   ]
  },
  {
   "cell_type": "code",
   "execution_count": null,
   "metadata": {},
   "outputs": [],
   "source": [
    "# x = book['BOOK 0']\n",
    "# x = unidecode(x)\n",
    "# x = re.sub(\"([0-9]+)\", '', x)\n",
    "# x = x.replace(\",\", \" \").replace(\"(\", \"\").replace(\")\", \"\")"
   ]
  },
  {
   "cell_type": "code",
   "execution_count": null,
   "metadata": {},
   "outputs": [
    {
     "data": {
      "text/plain": [
       "\"Praise to Valmiki bird of charming song Who mounts on Poesy's sublimest spray And sweetly sings with accent clear and strongRama  aye Rama  in his deathless lay.Where breathes the man can listen to the strainThat flows in music from Valmiki's tongue Nor feel his feet the path of bliss attainWhen Rama's glory by the saint is sung!The stream Ramayan leaves its sacred fountThe whole wide world from sin and stain to free.The Prince of Hermits is the parent mount The lordly Rama is the darling sea.Glory to him whose fame is ever bright!Glory to him  Prachetas'holy son!Whose pure lips quaff with ever new delightThe nectar-sea of deeds by Rama done.Hail  arch-ascetic  pious  good  and kind!Hail  Saint Valmiki  lord of every lore!Hail  holy Hermit  calm and pure of mind!Hail  First of Bards  Valmiki  hail once more!\""
      ]
     },
     "metadata": {},
     "output_type": "display_data"
    }
   ],
   "source": [
    "# x"
   ]
  },
  {
   "cell_type": "code",
   "execution_count": null,
   "metadata": {},
   "outputs": [],
   "source": [
    "# corpus = x.split()\n",
    "# # corpus"
   ]
  },
  {
   "cell_type": "code",
   "execution_count": 5,
   "metadata": {},
   "outputs": [],
   "source": [
    "bs = [x for x in f_df[\"Book\"].unique()]"
   ]
  },
  {
   "cell_type": "code",
   "execution_count": 16,
   "metadata": {},
   "outputs": [
    {
     "data": {
      "text/plain": [
       "7"
      ]
     },
     "execution_count": 16,
     "metadata": {},
     "output_type": "execute_result"
    }
   ],
   "source": [
    "len(bs)"
   ]
  },
  {
   "cell_type": "code",
   "execution_count": 17,
   "metadata": {},
   "outputs": [
    {
     "data": {
      "text/html": [
       "<div>\n",
       "<style scoped>\n",
       "    .dataframe tbody tr th:only-of-type {\n",
       "        vertical-align: middle;\n",
       "    }\n",
       "\n",
       "    .dataframe tbody tr th {\n",
       "        vertical-align: top;\n",
       "    }\n",
       "\n",
       "    .dataframe thead th {\n",
       "        text-align: right;\n",
       "    }\n",
       "</style>\n",
       "<table border=\"1\" class=\"dataframe\">\n",
       "  <thead>\n",
       "    <tr style=\"text-align: right;\">\n",
       "      <th></th>\n",
       "      <th>Chapter</th>\n",
       "      <th>Book</th>\n",
       "      <th>Text</th>\n",
       "    </tr>\n",
       "  </thead>\n",
       "  <tbody>\n",
       "    <tr>\n",
       "      <th>0</th>\n",
       "      <td>Invocation</td>\n",
       "      <td>Book</td>\n",
       "      <td>praise valmiki bird charming song mounts poesy...</td>\n",
       "    </tr>\n",
       "    <tr>\n",
       "      <th>1</th>\n",
       "      <td>Canto I. Nárad.</td>\n",
       "      <td>Book I.</td>\n",
       "      <td>om. sainted narad prince whose lore words wisd...</td>\n",
       "    </tr>\n",
       "    <tr>\n",
       "      <th>2</th>\n",
       "      <td>Canto II. Brahmá's Visit</td>\n",
       "      <td>Book I.</td>\n",
       "      <td>valmiki graceful speaker heard highest admirat...</td>\n",
       "    </tr>\n",
       "    <tr>\n",
       "      <th>3</th>\n",
       "      <td>Canto III. The Argument.</td>\n",
       "      <td>Book I.</td>\n",
       "      <td>hermit watchful heed received poem pregnant se...</td>\n",
       "    </tr>\n",
       "    <tr>\n",
       "      <th>4</th>\n",
       "      <td>Canto IV. The Rhapsodists.</td>\n",
       "      <td>Book I.</td>\n",
       "      <td>end tale brought rose sage mind thought; \"now ...</td>\n",
       "    </tr>\n",
       "  </tbody>\n",
       "</table>\n",
       "</div>"
      ],
      "text/plain": [
       "                      Chapter     Book  \\\n",
       "0                  Invocation     Book   \n",
       "1             Canto I. Nárad.  Book I.   \n",
       "2    Canto II. Brahmá's Visit  Book I.   \n",
       "3    Canto III. The Argument.  Book I.   \n",
       "4  Canto IV. The Rhapsodists.  Book I.   \n",
       "\n",
       "                                                Text  \n",
       "0  praise valmiki bird charming song mounts poesy...  \n",
       "1  om. sainted narad prince whose lore words wisd...  \n",
       "2  valmiki graceful speaker heard highest admirat...  \n",
       "3  hermit watchful heed received poem pregnant se...  \n",
       "4  end tale brought rose sage mind thought; \"now ...  "
      ]
     },
     "execution_count": 17,
     "metadata": {},
     "output_type": "execute_result"
    }
   ],
   "source": [
    "f_df.head()"
   ]
  },
  {
   "cell_type": "markdown",
   "metadata": {},
   "source": [
    "<h5> Dict of Books"
   ]
  },
  {
   "cell_type": "code",
   "execution_count": 18,
   "metadata": {},
   "outputs": [],
   "source": [
    "# bs = [x for x in f_df[\"Book\"].unique()]\n",
    "# text = []\n",
    "# dictofbooks = {}\n",
    "# for i in range(len(bs)):\n",
    "#     # texts[i] = [rows[\"Text\"] for idx, rows in f_df.iterrows() if(rows[\"Book\"] == bs[i]) ]\n",
    "#     for idx, rows in f_df.iterrows():\n",
    "#         if rows[\"Book\"] == bs[i]: #ie., text belongs to a certain book\n",
    "#             text.append(rows[\"Text\"])\n",
    "#     dictofbooks.update({i:text})\n",
    "\n",
    "#text is a list of lists of lists containing text of all cantos in a book, \n",
    "# dictofbooks is a dict with each index holding list of all cantos in a book\n"
   ]
  },
  {
   "cell_type": "code",
   "execution_count": 15,
   "metadata": {},
   "outputs": [],
   "source": [
    "# (dictofbooks[2])"
   ]
  },
  {
   "cell_type": "code",
   "execution_count": 4,
   "metadata": {},
   "outputs": [
    {
     "data": {
      "text/plain": [
       "7"
      ]
     },
     "execution_count": 4,
     "metadata": {},
     "output_type": "execute_result"
    }
   ],
   "source": [
    "dictofbooks = components.books_to_text()\n",
    "len(dictofbooks)"
   ]
  },
  {
   "cell_type": "markdown",
   "metadata": {},
   "source": [
    "<h3>Models for each book"
   ]
  },
  {
   "cell_type": "code",
   "execution_count": 23,
   "metadata": {},
   "outputs": [],
   "source": [
    "# chars = components.get_char_list()[0]\n",
    "# chars = [unidecode(x) for x in chars]\n",
    "# texts = dictofbooks[0]\n",
    "# cor = [t.split(\" \") for t in texts ]\n",
    "# # corpus = [x for x in cor if((len(x)) != 0 )] \n",
    "# corpus = []\n",
    "# for line in cor:\n",
    "#     l = []\n",
    "#     for x in line:\n",
    "#         if(x in chars):\n",
    "#             l.append(x)\n",
    "#     corpus.append(l)"
   ]
  },
  {
   "cell_type": "code",
   "execution_count": 35,
   "metadata": {},
   "outputs": [],
   "source": [
    "models = []\n",
    "# chars = components.get_char_list()[0]\n",
    "for key in dictofbooks:\n",
    "    texts = dictofbooks[key]\n",
    "    cor = [t.split(\" \") for t in texts]\n",
    "    corpus = []\n",
    "    for line in cor:\n",
    "        l = []\n",
    "        for x in line:\n",
    "            if(x != \"\"):\n",
    "                l.append(x)\n",
    "        corpus.append(l)\n",
    "    bigrams = phrases.Phrases(corpus)\n",
    "    model = word2vec.Word2Vec(bigrams[corpus], vector_size=300, window=5, min_count=1, workers=4)  \n",
    "    models.append(model)\n",
    "    # print(corpus)\n",
    "#models is  list containing 7 models- one for each book, accessible by index"
   ]
  },
  {
   "cell_type": "code",
   "execution_count": 21,
   "metadata": {},
   "outputs": [
    {
     "data": {
      "text/plain": [
       "7"
      ]
     },
     "execution_count": 21,
     "metadata": {},
     "output_type": "execute_result"
    }
   ],
   "source": [
    "len(models)"
   ]
  },
  {
   "cell_type": "code",
   "execution_count": 22,
   "metadata": {},
   "outputs": [],
   "source": [
    "\n",
    "# model = word2vec.Word2Vec(corpus, vector_size=100, window=5, min_count=1, workers=4)  "
   ]
  },
  {
   "cell_type": "code",
   "execution_count": 28,
   "metadata": {},
   "outputs": [],
   "source": [
    "m1 = models[1]\n",
    "m2 = models[2]\n",
    "m3 = models[3]\n",
    "m4 = models[4]\n",
    "m5 = models[5]\n",
    "m6 = models[6]"
   ]
  },
  {
   "cell_type": "code",
   "execution_count": 29,
   "metadata": {},
   "outputs": [
    {
     "data": {
      "text/plain": [
       "1064"
      ]
     },
     "execution_count": 29,
     "metadata": {},
     "output_type": "execute_result"
    }
   ],
   "source": [
    "m1.wv.get_vecattr(\"king\", \"count\")"
   ]
  },
  {
   "cell_type": "code",
   "execution_count": 30,
   "metadata": {},
   "outputs": [
    {
     "data": {
      "text/plain": [
       "26"
      ]
     },
     "execution_count": 30,
     "metadata": {},
     "output_type": "execute_result"
    }
   ],
   "source": [
    "m1.wv.key_to_index[\"great\"]"
   ]
  },
  {
   "cell_type": "code",
   "execution_count": 31,
   "metadata": {},
   "outputs": [
    {
     "data": {
      "text/plain": [
       "[('brother', 1.0),\n",
       " ('bharat', 1.0),\n",
       " ('sita', 1.0),\n",
       " ('father', 1.0),\n",
       " ('lakshman', 1.0),\n",
       " ('aid', 1.0),\n",
       " ('spake', 1.0),\n",
       " ('sugriva', 1.0),\n",
       " ('\"o', 1.0),\n",
       " ('spoke', 1.0)]"
      ]
     },
     "execution_count": 31,
     "metadata": {},
     "output_type": "execute_result"
    }
   ],
   "source": [
    "[(item[0],round(item[1],2)) for item in m1.wv.most_similar('rama')]  \n",
    "#collocate fair, saint etc"
   ]
  },
  {
   "cell_type": "code",
   "execution_count": 32,
   "metadata": {},
   "outputs": [
    {
     "data": {
      "text/plain": [
       "[('brother', 1.0),\n",
       " ('bharat', 1.0),\n",
       " ('sita', 1.0),\n",
       " ('father', 1.0),\n",
       " ('sugriva', 1.0),\n",
       " ('\"o', 1.0),\n",
       " ('spake', 1.0),\n",
       " ('spoke', 1.0),\n",
       " ('aid', 1.0),\n",
       " ('cried', 1.0)]"
      ]
     },
     "execution_count": 32,
     "metadata": {},
     "output_type": "execute_result"
    }
   ],
   "source": [
    "[(item[0],round(item[1],2)) for item in m6.wv.most_similar('rama')]  "
   ]
  },
  {
   "cell_type": "code",
   "execution_count": 25,
   "metadata": {},
   "outputs": [
    {
     "data": {
      "text/plain": [
       "0.97917014"
      ]
     },
     "execution_count": 25,
     "metadata": {},
     "output_type": "execute_result"
    }
   ],
   "source": [
    "m6.wv.similarity(\"rama\", \"sita\")\n",
    "# m6.wv.similarity(\"rama\", \"lakshman\") #more than with ista, sadly, makes sense\n",
    "# model.wv.similarity(\"brahma\", \"narad\") #but narad is brahma's son?\n",
    "# model.wv.similarity(\"angad\", \"agni\")\n"
   ]
  },
  {
   "cell_type": "code",
   "execution_count": 26,
   "metadata": {},
   "outputs": [
    {
     "data": {
      "text/plain": [
       "'vibhishan'"
      ]
     },
     "execution_count": 26,
     "metadata": {},
     "output_type": "execute_result"
    }
   ],
   "source": [
    "m5.wv.doesnt_match([\"vibhishan\", \"ravan\", \"khumbkaran\"])#only book 5 maps this right\n",
    "# model.wv.doesnt_match(['rama', 'lakshman', 'bharat', 'arrow', 'agastya'])"
   ]
  },
  {
   "cell_type": "code",
   "execution_count": 28,
   "metadata": {},
   "outputs": [
    {
     "data": {
      "text/plain": [
       "0.94207114"
      ]
     },
     "execution_count": 28,
     "metadata": {},
     "output_type": "execute_result"
    }
   ],
   "source": [
    "m1.wv.similarity(\"rama\", \"sita\")"
   ]
  },
  {
   "cell_type": "code",
   "execution_count": 29,
   "metadata": {},
   "outputs": [
    {
     "data": {
      "text/plain": [
       "[('moan', 0.34887808561325073),\n",
       " ('consort', 0.33605366945266724),\n",
       " ('boar', 0.32852938771247864),\n",
       " ('pined', 0.3273928463459015),\n",
       " ('dame:', 0.3090568780899048),\n",
       " ('estate', 0.3066129982471466),\n",
       " ('boldly', 0.3049425482749939),\n",
       " ('eyes', 0.30295512080192566),\n",
       " ('sank', 0.29990318417549133),\n",
       " ('\"receive', 0.29476872086524963)]"
      ]
     },
     "execution_count": 29,
     "metadata": {},
     "output_type": "execute_result"
    }
   ],
   "source": [
    "m5.wv.most_similar(positive=[\"rama\", \"brother\"], negative=[\"ravan\"])"
   ]
  },
  {
   "cell_type": "markdown",
   "metadata": {},
   "source": [
    "<h3> Constructing a csv"
   ]
  },
  {
   "cell_type": "code",
   "execution_count": 27,
   "metadata": {},
   "outputs": [],
   "source": [
    "#returns list of characters with appearences more than 1\n",
    "def chars_in_each_book(model):\n",
    "    c_list = components.get_char_list()\n",
    "    chars_in_book = [] #characters in a book with apperances > 1\n",
    "    for char in c_list:\n",
    "        try:\n",
    "            if(model.wv.get_vecattr(unidecode(char.lower()), \"count\") > 1):\n",
    "                chars_in_book.append(unidecode(char.lower()))\n",
    "        except:\n",
    "            continue\n",
    "    return(chars_in_book)"
   ]
  },
  {
   "cell_type": "code",
   "execution_count": 28,
   "metadata": {},
   "outputs": [],
   "source": [
    "ch1 = []\n",
    "ch2 = []\n",
    "b_no = []\n",
    "wt = []\n",
    "#function makes 4 lists - each for context, target, corresponding weight(undirected) and book\n",
    "def make_c_t_w_b_lists():\n",
    "\n",
    "    c_list = components.get_char_list()\n",
    "    for i in range(1, 7):\n",
    "        model = models[i]\n",
    "        chars_in_book = chars_in_each_book(model)\n",
    "        # print(len(chars_in_book))\n",
    "        # context = []\n",
    "        # target = []\n",
    "        dupli = chars_in_book\n",
    "        # pairs = [(a, b) for a in dupli for b in chars_in_book if(a != b and (a,b) not in pairs)]\n",
    "        pairs = []\n",
    "        for a in dupli:\n",
    "            for b in chars_in_book:\n",
    "                if(a != b and (a,b) not in pairs and (b,a) not in pairs):\n",
    "                    pairs.append((a,b))\n",
    "        # print(len(pairs))\n",
    "        for pair in pairs:\n",
    "            simi = model.wv.similarity(pair[0], pair[1])\n",
    "            ch1.append(pair[0])\n",
    "            ch2.append(pair[1])\n",
    "            wt.append(simi)\n",
    "            b_no.append(i)\n",
    "\n",
    "make_c_t_w_b_lists()      \n",
    "    "
   ]
  },
  {
   "cell_type": "code",
   "execution_count": 101,
   "metadata": {},
   "outputs": [
    {
     "data": {
      "text/plain": [
       "True"
      ]
     },
     "execution_count": 101,
     "metadata": {},
     "output_type": "execute_result"
    }
   ],
   "source": [
    "(len(ch1) == len(ch2) == len(wt) ==len(b_no))"
   ]
  },
  {
   "cell_type": "code",
   "execution_count": 58,
   "metadata": {},
   "outputs": [],
   "source": [
    "#create pd df with w2v char relations with book\n",
    "\n",
    "c_t_b_w = pd.DataFrame(list(zip(ch1, ch2, b_no, wt)), columns=['Source', 'Target', 'Book_no', 'Weight'])\n",
    "c_t_b_w.to_csv(\"c_t_b_w.csv\", index=False)"
   ]
  },
  {
   "cell_type": "code",
   "execution_count": 61,
   "metadata": {},
   "outputs": [
    {
     "data": {
      "text/html": [
       "<div>\n",
       "<style scoped>\n",
       "    .dataframe tbody tr th:only-of-type {\n",
       "        vertical-align: middle;\n",
       "    }\n",
       "\n",
       "    .dataframe tbody tr th {\n",
       "        vertical-align: top;\n",
       "    }\n",
       "\n",
       "    .dataframe thead th {\n",
       "        text-align: right;\n",
       "    }\n",
       "</style>\n",
       "<table border=\"1\" class=\"dataframe\">\n",
       "  <thead>\n",
       "    <tr style=\"text-align: right;\">\n",
       "      <th></th>\n",
       "      <th>Source</th>\n",
       "      <th>Target</th>\n",
       "      <th>Book_no</th>\n",
       "      <th>Weight</th>\n",
       "    </tr>\n",
       "  </thead>\n",
       "  <tbody>\n",
       "    <tr>\n",
       "      <th>0</th>\n",
       "      <td>aditi</td>\n",
       "      <td>agastya</td>\n",
       "      <td>1</td>\n",
       "      <td>0.222963</td>\n",
       "    </tr>\n",
       "    <tr>\n",
       "      <th>1</th>\n",
       "      <td>aditi</td>\n",
       "      <td>agni</td>\n",
       "      <td>1</td>\n",
       "      <td>0.004936</td>\n",
       "    </tr>\n",
       "    <tr>\n",
       "      <th>2</th>\n",
       "      <td>aditi</td>\n",
       "      <td>ahalya</td>\n",
       "      <td>1</td>\n",
       "      <td>0.193232</td>\n",
       "    </tr>\n",
       "    <tr>\n",
       "      <th>3</th>\n",
       "      <td>aditi</td>\n",
       "      <td>air</td>\n",
       "      <td>1</td>\n",
       "      <td>0.404608</td>\n",
       "    </tr>\n",
       "    <tr>\n",
       "      <th>4</th>\n",
       "      <td>aditi</td>\n",
       "      <td>ambarisha</td>\n",
       "      <td>1</td>\n",
       "      <td>0.156923</td>\n",
       "    </tr>\n",
       "  </tbody>\n",
       "</table>\n",
       "</div>"
      ],
      "text/plain": [
       "  Source     Target  Book_no    Weight\n",
       "0  aditi    agastya        1  0.222963\n",
       "1  aditi       agni        1  0.004936\n",
       "2  aditi     ahalya        1  0.193232\n",
       "3  aditi        air        1  0.404608\n",
       "4  aditi  ambarisha        1  0.156923"
      ]
     },
     "execution_count": 61,
     "metadata": {},
     "output_type": "execute_result"
    }
   ],
   "source": [
    "ctbw = pd.read_csv(\"c_t_b_w.csv\", encoding = 'utf-8')\n",
    "ctbw.head()"
   ]
  },
  {
   "cell_type": "code",
   "execution_count": 63,
   "metadata": {},
   "outputs": [
    {
     "data": {
      "text/html": [
       "<div>\n",
       "<style scoped>\n",
       "    .dataframe tbody tr th:only-of-type {\n",
       "        vertical-align: middle;\n",
       "    }\n",
       "\n",
       "    .dataframe tbody tr th {\n",
       "        vertical-align: top;\n",
       "    }\n",
       "\n",
       "    .dataframe thead th {\n",
       "        text-align: right;\n",
       "    }\n",
       "</style>\n",
       "<table border=\"1\" class=\"dataframe\">\n",
       "  <thead>\n",
       "    <tr style=\"text-align: right;\">\n",
       "      <th></th>\n",
       "      <th>Source</th>\n",
       "      <th>Target</th>\n",
       "      <th>Book_no</th>\n",
       "      <th>Weight</th>\n",
       "      <th>weight_inv</th>\n",
       "    </tr>\n",
       "  </thead>\n",
       "  <tbody>\n",
       "    <tr>\n",
       "      <th>0</th>\n",
       "      <td>aditi</td>\n",
       "      <td>agastya</td>\n",
       "      <td>1</td>\n",
       "      <td>0.222963</td>\n",
       "      <td>4.485052</td>\n",
       "    </tr>\n",
       "    <tr>\n",
       "      <th>1</th>\n",
       "      <td>aditi</td>\n",
       "      <td>agni</td>\n",
       "      <td>1</td>\n",
       "      <td>0.004936</td>\n",
       "      <td>202.606287</td>\n",
       "    </tr>\n",
       "    <tr>\n",
       "      <th>2</th>\n",
       "      <td>aditi</td>\n",
       "      <td>ahalya</td>\n",
       "      <td>1</td>\n",
       "      <td>0.193232</td>\n",
       "      <td>5.175113</td>\n",
       "    </tr>\n",
       "    <tr>\n",
       "      <th>3</th>\n",
       "      <td>aditi</td>\n",
       "      <td>air</td>\n",
       "      <td>1</td>\n",
       "      <td>0.404608</td>\n",
       "      <td>2.471527</td>\n",
       "    </tr>\n",
       "    <tr>\n",
       "      <th>4</th>\n",
       "      <td>aditi</td>\n",
       "      <td>ambarisha</td>\n",
       "      <td>1</td>\n",
       "      <td>0.156923</td>\n",
       "      <td>6.372550</td>\n",
       "    </tr>\n",
       "  </tbody>\n",
       "</table>\n",
       "</div>"
      ],
      "text/plain": [
       "  Source     Target  Book_no    Weight  weight_inv\n",
       "0  aditi    agastya        1  0.222963    4.485052\n",
       "1  aditi       agni        1  0.004936  202.606287\n",
       "2  aditi     ahalya        1  0.193232    5.175113\n",
       "3  aditi        air        1  0.404608    2.471527\n",
       "4  aditi  ambarisha        1  0.156923    6.372550"
      ]
     },
     "execution_count": 63,
     "metadata": {},
     "output_type": "execute_result"
    }
   ],
   "source": [
    "ctbw['weight_inv'] = 1/ctbw.Weight\n",
    "ctbw.head()"
   ]
  },
  {
   "cell_type": "code",
   "execution_count": 66,
   "metadata": {},
   "outputs": [
    {
     "data": {
      "text/html": [
       "<div>\n",
       "<style scoped>\n",
       "    .dataframe tbody tr th:only-of-type {\n",
       "        vertical-align: middle;\n",
       "    }\n",
       "\n",
       "    .dataframe tbody tr th {\n",
       "        vertical-align: top;\n",
       "    }\n",
       "\n",
       "    .dataframe thead th {\n",
       "        text-align: right;\n",
       "    }\n",
       "</style>\n",
       "<table border=\"1\" class=\"dataframe\">\n",
       "  <thead>\n",
       "    <tr style=\"text-align: right;\">\n",
       "      <th></th>\n",
       "      <th>Source</th>\n",
       "      <th>Target</th>\n",
       "      <th>Book_no</th>\n",
       "      <th>Weight</th>\n",
       "      <th>weight_inv</th>\n",
       "    </tr>\n",
       "  </thead>\n",
       "  <tbody>\n",
       "    <tr>\n",
       "      <th>24601</th>\n",
       "      <td>air</td>\n",
       "      <td>airavat</td>\n",
       "      <td>5</td>\n",
       "      <td>-0.012592</td>\n",
       "      <td>-79.412929</td>\n",
       "    </tr>\n",
       "    <tr>\n",
       "      <th>24602</th>\n",
       "      <td>air</td>\n",
       "      <td>aksha</td>\n",
       "      <td>5</td>\n",
       "      <td>0.011373</td>\n",
       "      <td>87.925901</td>\n",
       "    </tr>\n",
       "    <tr>\n",
       "      <th>24603</th>\n",
       "      <td>air</td>\n",
       "      <td>angad</td>\n",
       "      <td>5</td>\n",
       "      <td>0.001873</td>\n",
       "      <td>533.968428</td>\n",
       "    </tr>\n",
       "    <tr>\n",
       "      <th>24604</th>\n",
       "      <td>air</td>\n",
       "      <td>asoka</td>\n",
       "      <td>5</td>\n",
       "      <td>0.145480</td>\n",
       "      <td>6.873807</td>\n",
       "    </tr>\n",
       "    <tr>\n",
       "      <th>24605</th>\n",
       "      <td>air</td>\n",
       "      <td>asurs</td>\n",
       "      <td>5</td>\n",
       "      <td>-0.195860</td>\n",
       "      <td>-5.105696</td>\n",
       "    </tr>\n",
       "  </tbody>\n",
       "</table>\n",
       "</div>"
      ],
      "text/plain": [
       "      Source   Target  Book_no    Weight  weight_inv\n",
       "24601    air  airavat        5 -0.012592  -79.412929\n",
       "24602    air    aksha        5  0.011373   87.925901\n",
       "24603    air    angad        5  0.001873  533.968428\n",
       "24604    air    asoka        5  0.145480    6.873807\n",
       "24605    air    asurs        5 -0.195860   -5.105696"
      ]
     },
     "execution_count": 66,
     "metadata": {},
     "output_type": "execute_result"
    }
   ],
   "source": [
    "test = ctbw[ctbw[\"Book_no\"] == 5]\n",
    "test.head()"
   ]
  },
  {
   "cell_type": "code",
   "execution_count": 69,
   "metadata": {},
   "outputs": [
    {
     "data": {
      "text/html": [
       "<div>\n",
       "<style scoped>\n",
       "    .dataframe tbody tr th:only-of-type {\n",
       "        vertical-align: middle;\n",
       "    }\n",
       "\n",
       "    .dataframe tbody tr th {\n",
       "        vertical-align: top;\n",
       "    }\n",
       "\n",
       "    .dataframe thead th {\n",
       "        text-align: right;\n",
       "    }\n",
       "</style>\n",
       "<table border=\"1\" class=\"dataframe\">\n",
       "  <thead>\n",
       "    <tr style=\"text-align: right;\">\n",
       "      <th></th>\n",
       "      <th>Source</th>\n",
       "      <th>Target</th>\n",
       "      <th>Book_no</th>\n",
       "      <th>Weight</th>\n",
       "      <th>weight_inv</th>\n",
       "    </tr>\n",
       "  </thead>\n",
       "  <tbody>\n",
       "    <tr>\n",
       "      <th>24632</th>\n",
       "      <td>air</td>\n",
       "      <td>rama</td>\n",
       "      <td>5</td>\n",
       "      <td>0.384364</td>\n",
       "      <td>2.601699</td>\n",
       "    </tr>\n",
       "    <tr>\n",
       "      <th>24675</th>\n",
       "      <td>airavat</td>\n",
       "      <td>rama</td>\n",
       "      <td>5</td>\n",
       "      <td>-0.000502</td>\n",
       "      <td>-1991.187799</td>\n",
       "    </tr>\n",
       "  </tbody>\n",
       "</table>\n",
       "</div>"
      ],
      "text/plain": [
       "        Source Target  Book_no    Weight   weight_inv\n",
       "24632      air   rama        5  0.384364     2.601699\n",
       "24675  airavat   rama        5 -0.000502 -1991.187799"
      ]
     },
     "execution_count": 69,
     "metadata": {},
     "output_type": "execute_result"
    }
   ],
   "source": [
    "r = (\n",
    " ctbw.query(\"Book_no == 5\")\n",
    " .query(\"Source == 'rama' or Target == 'rama'\")\n",
    ")\n",
    "r.head(2)"
   ]
  },
  {
   "cell_type": "markdown",
   "metadata": {},
   "source": [
    "<h3> Visualization"
   ]
  },
  {
   "cell_type": "code",
   "execution_count": 29,
   "metadata": {},
   "outputs": [
    {
     "data": {
      "text/plain": [
       "6000"
      ]
     },
     "execution_count": 29,
     "metadata": {},
     "output_type": "execute_result"
    }
   ],
   "source": [
    "len(m6.wv)"
   ]
  },
  {
   "cell_type": "code",
   "execution_count": 30,
   "metadata": {},
   "outputs": [],
   "source": [
    "vocab = list(m2.wv.key_to_index)\n",
    "X = m2.wv[vocab]  #vectors\n"
   ]
  },
  {
   "cell_type": "code",
   "execution_count": 31,
   "metadata": {},
   "outputs": [
    {
     "data": {
      "text/html": [
       "<div>\n",
       "<style scoped>\n",
       "    .dataframe tbody tr th:only-of-type {\n",
       "        vertical-align: middle;\n",
       "    }\n",
       "\n",
       "    .dataframe tbody tr th {\n",
       "        vertical-align: top;\n",
       "    }\n",
       "\n",
       "    .dataframe thead th {\n",
       "        text-align: right;\n",
       "    }\n",
       "</style>\n",
       "<table border=\"1\" class=\"dataframe\">\n",
       "  <thead>\n",
       "    <tr style=\"text-align: right;\">\n",
       "      <th></th>\n",
       "      <th>Character</th>\n",
       "      <th>x</th>\n",
       "      <th>y</th>\n",
       "      <th>z</th>\n",
       "    </tr>\n",
       "  </thead>\n",
       "  <tbody>\n",
       "    <tr>\n",
       "      <th>0</th>\n",
       "      <td>rama</td>\n",
       "      <td>11.380591</td>\n",
       "      <td>2.399799</td>\n",
       "      <td>-0.090286</td>\n",
       "    </tr>\n",
       "    <tr>\n",
       "      <th>1</th>\n",
       "      <td>\"</td>\n",
       "      <td>10.257660</td>\n",
       "      <td>0.307668</td>\n",
       "      <td>0.510354</td>\n",
       "    </tr>\n",
       "    <tr>\n",
       "      <th>2</th>\n",
       "      <td>king</td>\n",
       "      <td>10.613652</td>\n",
       "      <td>-0.681140</td>\n",
       "      <td>-0.003933</td>\n",
       "    </tr>\n",
       "    <tr>\n",
       "      <th>3</th>\n",
       "      <td>son</td>\n",
       "      <td>9.832496</td>\n",
       "      <td>-0.203930</td>\n",
       "      <td>-0.262523</td>\n",
       "    </tr>\n",
       "    <tr>\n",
       "      <th>4</th>\n",
       "      <td>like</td>\n",
       "      <td>10.564612</td>\n",
       "      <td>0.336125</td>\n",
       "      <td>-1.383057</td>\n",
       "    </tr>\n",
       "  </tbody>\n",
       "</table>\n",
       "</div>"
      ],
      "text/plain": [
       "  Character          x         y         z\n",
       "0      rama  11.380591  2.399799 -0.090286\n",
       "1         \"  10.257660  0.307668  0.510354\n",
       "2      king  10.613652 -0.681140 -0.003933\n",
       "3       son   9.832496 -0.203930 -0.262523\n",
       "4      like  10.564612  0.336125 -1.383057"
      ]
     },
     "execution_count": 31,
     "metadata": {},
     "output_type": "execute_result"
    }
   ],
   "source": [
    "pca = PCA(n_components=3, random_state=11, whiten=True) #reducing 300 dimensions to 3\n",
    "clf = pca.fit_transform(X)\n",
    "\n",
    "tmp = pd.DataFrame(clf, columns = ['x','y','z'])\n",
    "tmp.insert(0, 'Character',vocab)\n",
    "tmp.head()"
   ]
  },
  {
   "cell_type": "code",
   "execution_count": 32,
   "metadata": {},
   "outputs": [
    {
     "data": {
      "text/plain": [
       "108"
      ]
     },
     "execution_count": 32,
     "metadata": {},
     "output_type": "execute_result"
    }
   ],
   "source": [
    "chars_in_b6 = chars_in_each_book(m2)\n",
    "len(chars_in_b6)"
   ]
  },
  {
   "cell_type": "code",
   "execution_count": 33,
   "metadata": {},
   "outputs": [],
   "source": [
    "for idx, row in tmp.iterrows():\n",
    "    if row[\"Character\"] not in chars_in_b6:\n",
    "        tmp = tmp.drop(idx)"
   ]
  },
  {
   "cell_type": "code",
   "execution_count": 34,
   "metadata": {},
   "outputs": [
    {
     "data": {
      "text/html": [
       "<div>\n",
       "<style scoped>\n",
       "    .dataframe tbody tr th:only-of-type {\n",
       "        vertical-align: middle;\n",
       "    }\n",
       "\n",
       "    .dataframe tbody tr th {\n",
       "        vertical-align: top;\n",
       "    }\n",
       "\n",
       "    .dataframe thead th {\n",
       "        text-align: right;\n",
       "    }\n",
       "</style>\n",
       "<table border=\"1\" class=\"dataframe\">\n",
       "  <thead>\n",
       "    <tr style=\"text-align: right;\">\n",
       "      <th></th>\n",
       "      <th>Character</th>\n",
       "      <th>x</th>\n",
       "      <th>y</th>\n",
       "      <th>z</th>\n",
       "    </tr>\n",
       "  </thead>\n",
       "  <tbody>\n",
       "    <tr>\n",
       "      <th>0</th>\n",
       "      <td>rama</td>\n",
       "      <td>11.380591</td>\n",
       "      <td>2.399799</td>\n",
       "      <td>-0.090286</td>\n",
       "    </tr>\n",
       "    <tr>\n",
       "      <th>7</th>\n",
       "      <td>bharat</td>\n",
       "      <td>8.916421</td>\n",
       "      <td>2.362796</td>\n",
       "      <td>2.064179</td>\n",
       "    </tr>\n",
       "    <tr>\n",
       "      <th>20</th>\n",
       "      <td>lakshman</td>\n",
       "      <td>7.786767</td>\n",
       "      <td>0.465827</td>\n",
       "      <td>-0.408856</td>\n",
       "    </tr>\n",
       "    <tr>\n",
       "      <th>26</th>\n",
       "      <td>sita</td>\n",
       "      <td>7.658109</td>\n",
       "      <td>0.364371</td>\n",
       "      <td>0.240187</td>\n",
       "    </tr>\n",
       "    <tr>\n",
       "      <th>98</th>\n",
       "      <td>right</td>\n",
       "      <td>4.437463</td>\n",
       "      <td>-2.293969</td>\n",
       "      <td>1.021228</td>\n",
       "    </tr>\n",
       "  </tbody>\n",
       "</table>\n",
       "</div>"
      ],
      "text/plain": [
       "   Character          x         y         z\n",
       "0       rama  11.380591  2.399799 -0.090286\n",
       "7     bharat   8.916421  2.362796  2.064179\n",
       "20  lakshman   7.786767  0.465827 -0.408856\n",
       "26      sita   7.658109  0.364371  0.240187\n",
       "98     right   4.437463 -2.293969  1.021228"
      ]
     },
     "execution_count": 34,
     "metadata": {},
     "output_type": "execute_result"
    }
   ],
   "source": [
    "tmp.head()"
   ]
  },
  {
   "cell_type": "code",
   "execution_count": 35,
   "metadata": {},
   "outputs": [
    {
     "data": {
      "image/png": "[encoded data removed]",
      "text/plain": [
       "<Figure size 1080x1080 with 1 Axes>"
      ]
     },
     "metadata": {
      "needs_background": "light"
     },
     "output_type": "display_data"
    }
   ],
   "source": [
    "fig = plt.figure(figsize=(15, 15))\n",
    "ax = fig.add_subplot(111, projection='3d')\n",
    "ax.scatter(tmp['x'], tmp['y'], tmp['z'], alpha=0.5)\n",
    "\n",
    "for idx, row in tmp.iterrows():\n",
    "    char, x, y, z = row\n",
    "    pos = (x, y, z)\n",
    "    ax.text(x, y, z, s=char, size = 10, zorder=1, color='k')\n",
    "plt.title(\"w2v-PCA\")\n",
    "plt.show()"
   ]
  },
  {
   "cell_type": "code",
   "execution_count": null,
   "metadata": {},
   "outputs": [],
   "source": [
    "# tsne = TSNE(n_components=3, random_state=11)\n",
    "# clf = tsne.fit_transform(X)\n",
    "\n",
    "# tmp = pd.DataFrame(clf, columns = ['x','y','z'])\n",
    "# tmp.insert(0, 'Character',vocab)\n",
    "\n",
    "# tmp.head(3)\n",
    "\n",
    "\"\"\"Check Kaggle\"\"\""
   ]
  },
  {
   "cell_type": "code",
   "execution_count": null,
   "metadata": {},
   "outputs": [],
   "source": []
  }
 ],
 "metadata": {
  "kernelspec": {
   "display_name": "Python 3",
   "language": "python",
   "name": "python3"
  },
  "language_info": {
   "codemirror_mode": {
    "name": "ipython",
    "version": 3
   },
   "file_extension": ".py",
   "mimetype": "text/x-python",
   "name": "python",
   "nbconvert_exporter": "python",
   "pygments_lexer": "ipython3",
   "version": "3.9.12"
  }
 },
 "nbformat": 4,
 "nbformat_minor": 2
}
