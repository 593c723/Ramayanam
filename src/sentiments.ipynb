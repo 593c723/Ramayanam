{
 "cells": [
  {
   "cell_type": "code",
   "execution_count": null,
   "metadata": {},
   "outputs": [],
   "source": [
    "# !pip install vaderSentiment\n"
   ]
  },
  {
   "cell_type": "code",
   "execution_count": 2,
   "metadata": {},
   "outputs": [],
   "source": [
    "from modules import components\n",
    "from unidecode import unidecode\n",
    "import re\n",
    "from vaderSentiment.vaderSentiment import SentimentIntensityAnalyzer\n",
    "import pandas as pd"
   ]
  },
  {
   "cell_type": "markdown",
   "metadata": {},
   "source": [
    "Since enemies and friends dont seem to occur in the same snetence(or 20 word contexts) it willbe safe to calculate sentiments per sentence and then propogate the same to the characters in it\n",
    "Besides, we are only calculating the sentiments for characters relations, in each book. Therefore, the sentiment scores get averaged, so that the overall relationship makes sense"
   ]
  },
  {
   "cell_type": "code",
   "execution_count": 3,
   "metadata": {},
   "outputs": [],
   "source": [
    "ch = components.get_char_list()[0]\n",
    "characters = [unidecode(c.lower()) for c in ch]"
   ]
  },
  {
   "cell_type": "markdown",
   "metadata": {},
   "source": [
    "### VADER/BERT/Distilbert"
   ]
  },
  {
   "cell_type": "markdown",
   "metadata": {},
   "source": [
    "For each book:\n",
    "For each chapter, for each sentence:\n",
    "Get sentiment score\n",
    "get char tuples for the sentence, add sentiment score for that tuple,\n",
    "average by occurences, for both book wise and chap wise data"
   ]
  },
  {
   "cell_type": "markdown",
   "metadata": {},
   "source": [
    "## VADER"
   ]
  },
  {
   "cell_type": "code",
   "execution_count": 4,
   "metadata": {},
   "outputs": [
    {
     "data": {
      "text/html": [
       "<div>\n",
       "<style scoped>\n",
       "    .dataframe tbody tr th:only-of-type {\n",
       "        vertical-align: middle;\n",
       "    }\n",
       "\n",
       "    .dataframe tbody tr th {\n",
       "        vertical-align: top;\n",
       "    }\n",
       "\n",
       "    .dataframe thead th {\n",
       "        text-align: right;\n",
       "    }\n",
       "</style>\n",
       "<table border=\"1\" class=\"dataframe\">\n",
       "  <thead>\n",
       "    <tr style=\"text-align: right;\">\n",
       "      <th></th>\n",
       "      <th>Chapter</th>\n",
       "      <th>Book</th>\n",
       "      <th>Text</th>\n",
       "    </tr>\n",
       "  </thead>\n",
       "  <tbody>\n",
       "    <tr>\n",
       "      <th>0</th>\n",
       "      <td>Invocation</td>\n",
       "      <td>Book</td>\n",
       "      <td>Praise to Válmíki,(2)bird of charming song,(3)...</td>\n",
       "    </tr>\n",
       "    <tr>\n",
       "      <th>1</th>\n",
       "      <td>Canto I. Nárad.</td>\n",
       "      <td>Book I.</td>\n",
       "      <td>OM.(8)  To sainted Nárad, prince of those Wh...</td>\n",
       "    </tr>\n",
       "    <tr>\n",
       "      <th>2</th>\n",
       "      <td>Canto II. Brahmá's Visit</td>\n",
       "      <td>Book I.</td>\n",
       "      <td>Válmíki, graceful speaker, heard, To highest...</td>\n",
       "    </tr>\n",
       "    <tr>\n",
       "      <th>3</th>\n",
       "      <td>Canto III. The Argument.</td>\n",
       "      <td>Book I.</td>\n",
       "      <td>The hermit thus with watchful heed Received ...</td>\n",
       "    </tr>\n",
       "    <tr>\n",
       "      <th>4</th>\n",
       "      <td>Canto IV. The Rhapsodists.</td>\n",
       "      <td>Book I.</td>\n",
       "      <td>When to the end the tale was brought, Rose i...</td>\n",
       "    </tr>\n",
       "  </tbody>\n",
       "</table>\n",
       "</div>"
      ],
      "text/plain": [
       "                      Chapter     Book  \\\n",
       "0                  Invocation     Book   \n",
       "1             Canto I. Nárad.  Book I.   \n",
       "2    Canto II. Brahmá's Visit  Book I.   \n",
       "3    Canto III. The Argument.  Book I.   \n",
       "4  Canto IV. The Rhapsodists.  Book I.   \n",
       "\n",
       "                                                Text  \n",
       "0  Praise to Válmíki,(2)bird of charming song,(3)...  \n",
       "1    OM.(8)  To sainted Nárad, prince of those Wh...  \n",
       "2    Válmíki, graceful speaker, heard, To highest...  \n",
       "3    The hermit thus with watchful heed Received ...  \n",
       "4    When to the end the tale was brought, Rose i...  "
      ]
     },
     "execution_count": 4,
     "metadata": {},
     "output_type": "execute_result"
    }
   ],
   "source": [
    "df = pd.read_csv(\"../data/csv/c_b_t.csv\", encoding='utf-8')\n",
    "df.head()"
   ]
  },
  {
   "cell_type": "code",
   "execution_count": 5,
   "metadata": {},
   "outputs": [],
   "source": [
    "def sentiment_scores(sentence):\n",
    "# Create a SentimentIntensityAnalyzer object.\n",
    "    sid_obj = SentimentIntensityAnalyzer()\n",
    "# polarity_scores method of SentimentIntensityAnalyzer\n",
    "# oject gives a sentiment dictionary.\n",
    "# which contains pos, neg, neu, and compound scores.\n",
    "    sentiment_dict = sid_obj.polarity_scores(sentence)\n",
    "    # print(\"Overall sentiment dictionary is : \", sentiment_dict)\n",
    "    # print(\"sentence was rated as \", sentiment_dict['neg']*100, \"% Negative\")\n",
    "    # print(\"sentence was rated as \", sentiment_dict['neu']*100, \"% Neutral\")\n",
    "    # print(\"sentence was rated as \", sentiment_dict['pos']*100, \"% Positive\")\n",
    "    # print(\"Sentence Overall Rated As\", end = \" \")\n",
    "    # decide sentiment as positive, negative and neutral\n",
    "    # if sentiment_dict['compound'] >= 0.05 :\n",
    "    #     print(\"Positive\")\n",
    "    # elif sentiment_dict['compound'] <= - 0.05 :\n",
    "    #     print(\"Negative\")\n",
    "    # else :\n",
    "    #     print(\"Neutral\")\n",
    "    return sentiment_dict\n"
   ]
  },
  {
   "cell_type": "code",
   "execution_count": 6,
   "metadata": {},
   "outputs": [
    {
     "data": {
      "text/plain": [
       "{'neg': 0.0, 'neu': 0.351, 'pos': 0.649, 'compound': 0.5719}"
      ]
     },
     "execution_count": 6,
     "metadata": {},
     "output_type": "execute_result"
    }
   ],
   "source": [
    "sentiment_scores(\"x loves y\")\n"
   ]
  },
  {
   "cell_type": "code",
   "execution_count": 7,
   "metadata": {},
   "outputs": [],
   "source": [
    "ch = components.get_char_list()[0]\n",
    "characters = [unidecode(c.lower()) for c in ch]\n"
   ]
  },
  {
   "cell_type": "code",
   "execution_count": 8,
   "metadata": {},
   "outputs": [
    {
     "data": {
      "text/plain": [
       "{'neg': 0.025, 'neu': 0.663, 'pos': 0.313, 'compound': 0.9944}"
      ]
     },
     "execution_count": 8,
     "metadata": {},
     "output_type": "execute_result"
    }
   ],
   "source": [
    "sentiment_scores(df[\"Text\"][0])"
   ]
  },
  {
   "cell_type": "code",
   "execution_count": 9,
   "metadata": {},
   "outputs": [],
   "source": [
    "# returns relations dict with all relations in txt\n",
    "def get_sentiments(raw, characters, window):\n",
    "    raw = re.sub(\"'s\", \"\", raw)\n",
    "    raw = unidecode(raw).strip().lower() #list of words in canto\n",
    "    txt = raw.split()\n",
    "\n",
    "    relations = {}\n",
    "    for word in txt:\n",
    "            word = word.lower()\n",
    "            if word in characters:\n",
    "                source = word\n",
    "                t_idx = txt.index(source)\n",
    "                context = txt[t_idx : int(t_idx + window/2)]\n",
    "                con_words = [cha for cha in context if cha in characters]\n",
    "                score = sentiment_scores(\" \".join(context))['compound']\n",
    "                # print(score)\n",
    "                for target in con_words:\n",
    "                    if(source != target):\n",
    "                        if ((source, target) in relations.keys()):      \n",
    "                            relations[(source, target)] += score\n",
    "                        elif ((target, source) in relations.keys() ):\n",
    "                            relations[(target, source)] += score\n",
    "                        else:\n",
    "                            relations[(source, target)] = score\n",
    "    return relations\n",
    "# get_sentiments(df[\"Text\"][1], characters, 50)\n",
    "#maricha ravan negative relation incorrect\n",
    "# ('vibhishan', 'sita'): -0.631,\n",
    "\n",
    "# therefore, less char relationship sentiment, more circumstances being negative/+ve"
   ]
  },
  {
   "cell_type": "code",
   "execution_count": 58,
   "metadata": {},
   "outputs": [
    {
     "data": {
      "text/plain": [
       "True"
      ]
     },
     "execution_count": 58,
     "metadata": {},
     "output_type": "execute_result"
    }
   ],
   "source": [
    "ch1 = []\n",
    "ch2 = []\n",
    "wt = [] #sum of sentiments# needs to be averaged\n",
    "boo = [] \n",
    "\n",
    "# relations must be 1 per book\n",
    "# therefore all relations(weights) obtained within a local context and withina  broader context of a canto must be added\n",
    "\n",
    "ch = components.get_char_list()[0]\n",
    "characters = [unidecode(c.lower()) for c in ch]\n",
    "\n",
    "bnc = components.books_to_chaps()\n",
    "book_ends = [bnc[key][len(bnc[key]) - 1] for key in bnc.keys()] #the last chaptrer in each book\n",
    "\n",
    "window = 50 #of words(0 indexed, iteration, maximum non inclusive)(context will be window/2 on either side)\n",
    "#so, basically 1/2\n",
    "#taking the words from this df will give canto context also, that the books list wont be able to give\n",
    "# ie., this wont pick up on the last word in a chapter and the first word in the next\n",
    "# could be skipped though- but good practice considering most epics have a habit of starting each chap with unrelated stories\n",
    "\n",
    "# this also means that the last chapter of each book must be identified so that the canto wise relations can be added\n",
    "b_relations = {}\n",
    "book = 0\n",
    "for idx, row in df.iterrows():\n",
    "    raw = row[\"Text\"]\n",
    "    \n",
    "    if unidecode(row[\"Chapter\"]).lower().replace(\".\", \"\") != unidecode(book_ends[book]).lower().replace(\".\", \"\"): \n",
    "        #will need to add stuff from the last canto\n",
    "         #need tuple of relations with weights: this is for each bok\n",
    "        d_temp = get_sentiments(raw, characters, window) #chapter wise relations\n",
    "        for key in d_temp:\n",
    "            if key in b_relations:\n",
    "                b_relations[key] += d_temp[key]\n",
    "            else:\n",
    "                b_relations[key] = d_temp[key]\n",
    "        \n",
    "        \n",
    "    else:\n",
    "        last_temp = get_sentiments(raw, characters, window)\n",
    "        for key in last_temp:\n",
    "            if key in b_relations:\n",
    "                b_relations[key] += last_temp[key]\n",
    "            else:\n",
    "                b_relations[key] = last_temp[key]\n",
    "        # print(b_relations)\n",
    "        for key in b_relations: # all relations in a canto\n",
    "            ch1.append(key[0])\n",
    "            ch2.append(key[1])\n",
    "            wt.append(b_relations[key])\n",
    "            boo.append(book + 1)\n",
    "        book += 1\n",
    "        b_relations = {}\n",
    "    \n",
    "len(ch1) == len(ch2) == len(wt) == len(boo)\n"
   ]
  },
  {
   "cell_type": "code",
   "execution_count": 71,
   "metadata": {},
   "outputs": [],
   "source": [
    "#**************run only once ************\n",
    "\n",
    "co = pd.read_csv(\"../data/csv/cooccs_books.csv\")\n",
    "if co.shape[0] == len(wt):\n",
    "    co.insert(co.shape[1], 'vader', wt)\n",
    "co[\"vader\"] = co[\"vader\"]/co[\"Weight\"]\n",
    "co.to_csv(\"../data/csv/sentiments_books.csv\", index=False)\n"
   ]
  },
  {
   "cell_type": "code",
   "execution_count": 73,
   "metadata": {},
   "outputs": [
    {
     "data": {
      "text/html": [
       "<div>\n",
       "<style scoped>\n",
       "    .dataframe tbody tr th:only-of-type {\n",
       "        vertical-align: middle;\n",
       "    }\n",
       "\n",
       "    .dataframe tbody tr th {\n",
       "        vertical-align: top;\n",
       "    }\n",
       "\n",
       "    .dataframe thead th {\n",
       "        text-align: right;\n",
       "    }\n",
       "</style>\n",
       "<table border=\"1\" class=\"dataframe\">\n",
       "  <thead>\n",
       "    <tr style=\"text-align: right;\">\n",
       "      <th></th>\n",
       "      <th>Source</th>\n",
       "      <th>Target</th>\n",
       "      <th>Weight</th>\n",
       "      <th>Book</th>\n",
       "      <th>vader</th>\n",
       "    </tr>\n",
       "  </thead>\n",
       "  <tbody>\n",
       "    <tr>\n",
       "      <th>0</th>\n",
       "      <td>valmiki</td>\n",
       "      <td>rama</td>\n",
       "      <td>1</td>\n",
       "      <td>1</td>\n",
       "      <td>0.8172</td>\n",
       "    </tr>\n",
       "    <tr>\n",
       "      <th>1</th>\n",
       "      <td>kaikeyi</td>\n",
       "      <td>lakshman</td>\n",
       "      <td>1</td>\n",
       "      <td>2</td>\n",
       "      <td>0.8658</td>\n",
       "    </tr>\n",
       "    <tr>\n",
       "      <th>2</th>\n",
       "      <td>janak</td>\n",
       "      <td>rohini</td>\n",
       "      <td>1</td>\n",
       "      <td>2</td>\n",
       "      <td>0.9168</td>\n",
       "    </tr>\n",
       "    <tr>\n",
       "      <th>3</th>\n",
       "      <td>rohini</td>\n",
       "      <td>rama</td>\n",
       "      <td>1</td>\n",
       "      <td>2</td>\n",
       "      <td>0.3919</td>\n",
       "    </tr>\n",
       "    <tr>\n",
       "      <th>4</th>\n",
       "      <td>sringavera</td>\n",
       "      <td>ganga</td>\n",
       "      <td>1</td>\n",
       "      <td>2</td>\n",
       "      <td>0.5106</td>\n",
       "    </tr>\n",
       "  </tbody>\n",
       "</table>\n",
       "</div>"
      ],
      "text/plain": [
       "       Source    Target  Weight  Book   vader\n",
       "0     valmiki      rama       1     1  0.8172\n",
       "1     kaikeyi  lakshman       1     2  0.8658\n",
       "2       janak    rohini       1     2  0.9168\n",
       "3      rohini      rama       1     2  0.3919\n",
       "4  sringavera     ganga       1     2  0.5106"
      ]
     },
     "execution_count": 73,
     "metadata": {},
     "output_type": "execute_result"
    }
   ],
   "source": [
    "co = pd.read_csv(\"../data/csv/sentiments_books.csv\")\n",
    "co.head()"
   ]
  },
  {
   "cell_type": "code",
   "execution_count": 10,
   "metadata": {},
   "outputs": [
    {
     "data": {
      "text/plain": [
       "True"
      ]
     },
     "execution_count": 10,
     "metadata": {},
     "output_type": "execute_result"
    }
   ],
   "source": [
    "ch1 = []\n",
    "ch2 = []\n",
    "wt = []\n",
    "canto = [] \n",
    "boo = []\n",
    "c_no = []\n",
    "\n",
    "ch = components.get_char_list()[0]\n",
    "characters = [unidecode(c.lower()) for c in ch]\n",
    "\n",
    "window = 40 #of words(0 indexed, iteration, maximum non inclusive)(context will be window/2 on either side)\n",
    "#so, basically 1/2\n",
    "for idx, row in df.iterrows():\n",
    "    c_relations = {}\n",
    "    raw = row[\"Text\"]    \n",
    "    d_temp = get_sentiments(raw, characters, window) #chapter wise relations\n",
    "    for key in d_temp:\n",
    "        if key in c_relations:\n",
    "            c_relations[key] += d_temp[key]\n",
    "        else:\n",
    "            c_relations[key] = d_temp[key]\n",
    "                \n",
    "    for key in c_relations: # all relations in a canto\n",
    "        ch1.append(key[0])\n",
    "        ch2.append(key[1])\n",
    "        wt.append(c_relations[key])\n",
    "        canto.append(row[\"Chapter\"])\n",
    "        boo.append(row[\"Book\"])\n",
    "        c_no.append(idx)\n",
    "\n",
    "len(ch1) == len(ch2) == len(wt) == len(canto) == len(boo) == len(c_no)\n",
    "    \n"
   ]
  },
  {
   "cell_type": "code",
   "execution_count": 11,
   "metadata": {},
   "outputs": [],
   "source": [
    "\n",
    "co = pd.read_csv(\"../data/csv/cooccs_chaps.csv\")\n",
    "if co.shape[0] == len(wt):\n",
    "    co.insert(co.shape[1], 'vader', wt)\n",
    "co[\"vader\"] = co[\"vader\"]/co[\"Weight\"]\n",
    "co.insert(co.shape[1], 'Canto_no', c_no)\n",
    "co.to_csv(\"../data/csv/sentiments_chaps.csv\", index=False)\n"
   ]
  },
  {
   "cell_type": "code",
   "execution_count": 12,
   "metadata": {},
   "outputs": [
    {
     "data": {
      "text/html": [
       "<div>\n",
       "<style scoped>\n",
       "    .dataframe tbody tr th:only-of-type {\n",
       "        vertical-align: middle;\n",
       "    }\n",
       "\n",
       "    .dataframe tbody tr th {\n",
       "        vertical-align: top;\n",
       "    }\n",
       "\n",
       "    .dataframe thead th {\n",
       "        text-align: right;\n",
       "    }\n",
       "</style>\n",
       "<table border=\"1\" class=\"dataframe\">\n",
       "  <thead>\n",
       "    <tr style=\"text-align: right;\">\n",
       "      <th></th>\n",
       "      <th>Source</th>\n",
       "      <th>Target</th>\n",
       "      <th>Weight</th>\n",
       "      <th>Canto</th>\n",
       "      <th>Book</th>\n",
       "      <th>vader</th>\n",
       "      <th>Canto_no</th>\n",
       "    </tr>\n",
       "  </thead>\n",
       "  <tbody>\n",
       "    <tr>\n",
       "      <th>0</th>\n",
       "      <td>valmiki</td>\n",
       "      <td>rama</td>\n",
       "      <td>1</td>\n",
       "      <td>Invocation</td>\n",
       "      <td>Book</td>\n",
       "      <td>0.8172</td>\n",
       "      <td>0</td>\n",
       "    </tr>\n",
       "    <tr>\n",
       "      <th>1</th>\n",
       "      <td>kaikeyi</td>\n",
       "      <td>lakshman</td>\n",
       "      <td>1</td>\n",
       "      <td>Canto I. Nárad.</td>\n",
       "      <td>Book I.</td>\n",
       "      <td>0.8658</td>\n",
       "      <td>1</td>\n",
       "    </tr>\n",
       "    <tr>\n",
       "      <th>2</th>\n",
       "      <td>janak</td>\n",
       "      <td>rohini</td>\n",
       "      <td>1</td>\n",
       "      <td>Canto I. Nárad.</td>\n",
       "      <td>Book I.</td>\n",
       "      <td>0.9168</td>\n",
       "      <td>1</td>\n",
       "    </tr>\n",
       "    <tr>\n",
       "      <th>3</th>\n",
       "      <td>sringavera</td>\n",
       "      <td>ganga</td>\n",
       "      <td>1</td>\n",
       "      <td>Canto I. Nárad.</td>\n",
       "      <td>Book I.</td>\n",
       "      <td>0.5106</td>\n",
       "      <td>1</td>\n",
       "    </tr>\n",
       "    <tr>\n",
       "      <th>4</th>\n",
       "      <td>bharadvaja</td>\n",
       "      <td>chitrakuta</td>\n",
       "      <td>1</td>\n",
       "      <td>Canto I. Nárad.</td>\n",
       "      <td>Book I.</td>\n",
       "      <td>0.5106</td>\n",
       "      <td>1</td>\n",
       "    </tr>\n",
       "  </tbody>\n",
       "</table>\n",
       "</div>"
      ],
      "text/plain": [
       "       Source      Target  Weight            Canto     Book   vader  Canto_no\n",
       "0     valmiki        rama       1       Invocation     Book  0.8172         0\n",
       "1     kaikeyi    lakshman       1  Canto I. Nárad.  Book I.  0.8658         1\n",
       "2       janak      rohini       1  Canto I. Nárad.  Book I.  0.9168         1\n",
       "3  sringavera       ganga       1  Canto I. Nárad.  Book I.  0.5106         1\n",
       "4  bharadvaja  chitrakuta       1  Canto I. Nárad.  Book I.  0.5106         1"
      ]
     },
     "execution_count": 12,
     "metadata": {},
     "output_type": "execute_result"
    }
   ],
   "source": [
    "co = pd.read_csv(\"../data/csv/sentiments_chaps.csv\")\n",
    "co.head()"
   ]
  },
  {
   "cell_type": "code",
   "execution_count": 13,
   "metadata": {},
   "outputs": [
    {
     "data": {
      "text/plain": [
       "(2209, 7)"
      ]
     },
     "execution_count": 13,
     "metadata": {},
     "output_type": "execute_result"
    }
   ],
   "source": [
    "co.shape"
   ]
  },
  {
   "cell_type": "markdown",
   "metadata": {},
   "source": [
    "## For sentiment models:\n",
    "https://huggingface.co/blog/sentiment-analysis-python <br>\n",
    "https://huggingface.co/bhadresh-savani/distilbert-base-uncased-emotion?text=I+feel+a+bit+let+down"
   ]
  },
  {
   "cell_type": "markdown",
   "metadata": {},
   "source": []
  }
 ],
 "metadata": {
  "kernelspec": {
   "display_name": "Python 3",
   "language": "python",
   "name": "python3"
  },
  "language_info": {
   "codemirror_mode": {
    "name": "ipython",
    "version": 3
   },
   "file_extension": ".py",
   "mimetype": "text/x-python",
   "name": "python",
   "nbconvert_exporter": "python",
   "pygments_lexer": "ipython3",
   "version": "3.9.12"
  }
 },
 "nbformat": 4,
 "nbformat_minor": 2
}
